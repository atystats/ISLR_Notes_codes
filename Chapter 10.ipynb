{
 "cells": [
  {
   "cell_type": "markdown",
   "metadata": {},
   "source": [
    "# Chapter 10\n",
    "# Unsupervised Learning\n",
    "A set of statistical tools intended for the settings in which we have only a set of features $X_1, X_2,....,X_p$ measured on n observations.\n",
    "\n",
    "Our goal is not prediction but finding interesting things about the measurements on $X_1, X_2,....,X_p$. \n",
    "1. __PCA__ :- PCA is used for data visualization or data pre processing before supervised techniques are applied.\n",
    "2. __Clustering__ :- Broad class of methods for discovering unknown subgroups of data.\n",
    "\n",
    "## Principal Component Analysis\n",
    "PCA allows us to summarize data with a smaller number of representative variables that collectively explain most of the variability in the original set. We are finding the directions in feature space along which the original data are highly variable.\n",
    "\n",
    "* PCA refers to the process by which principal components are computed, and the subsequent use of these components in understanding the data.\n",
    "\n",
    "__What are Principal Components?__\n",
    "\n",
    "To visualize a dataset with n > 2 dimension is not possible. We wants to find a low-dimensional representation of the data that captures as much information as possible.\n",
    "\n",
    "The idea is that each of the observation of size n lives in p-dimensional space but not all dimensions are equally important. Each dimension found by PCA is a linear combination of the p features.\n",
    "\n",
    "First principal component is the normalized linear combination of the features\n",
    "$$Z_1 = \\phi_{11}X_1 + \\phi_{21}X_2 +......+ \\phi_{p1}X_p$$ that has the largest variance. By normalized, we mean $\\sum_{j = 1}^{p}\\phi_{j1}^2$."
   ]
  },
  {
   "cell_type": "code",
   "execution_count": null,
   "metadata": {},
   "outputs": [],
   "source": []
  }
 ],
 "metadata": {
  "kernelspec": {
   "display_name": "Python 3",
   "language": "python",
   "name": "python3"
  },
  "language_info": {
   "codemirror_mode": {
    "name": "ipython",
    "version": 3
   },
   "file_extension": ".py",
   "mimetype": "text/x-python",
   "name": "python",
   "nbconvert_exporter": "python",
   "pygments_lexer": "ipython3",
   "version": "3.6.8"
  }
 },
 "nbformat": 4,
 "nbformat_minor": 4
}
