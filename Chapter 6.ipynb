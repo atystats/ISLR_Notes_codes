{
 "cells": [
  {
   "cell_type": "markdown",
   "metadata": {},
   "source": [
    "# Chapter 6\n",
    "\n",
    "# Linear Model Selection and Regularization\n",
    "\n",
    "Some ways in which linear model can be improved by replacing least squares fitting with some alternative fitting procedures. These alternative procedures will improve the prediction accuracy and model interpretibility.\n",
    "\n",
    "__1. Prediction Accuracy__ :- Least square method is supposed to have low bias if the true model is linear and also if data is big enough it will have low variance as well. But if:\n",
    "\n",
    "    (i). p > n, no least square solution exist.\n",
    "    (ii). if n is not much larger than p, estimates will have higher variability and the model might overfit.\n",
    "   By constraining ot shrinkage, we can reduce the variance with some negligible increase in bias.\n",
    "\n",
    "__2. Model Interpretibility__ :- By setting irrelevant variables to zero, we can increase interpretibility of the model. Least square is unlikely to do that.\n",
    "\n",
    "\n",
    "## 3 methods of model selection and regularization :-\n",
    "__1. Best Subset Selection__:- Identifying a subset of p predictors that we believe related to response.\n",
    "\n",
    "__2. Shrinkage__:- Fitting a model with all variables but they are shrunken towards zero relative to least squares. Shrinkage can also perform variable selection.\n",
    "\n",
    "__3. Dimension Reduction__:- Projecting p predictors into M dimensional subspace, where M < p. This is done by taking M linear combination of the p variables.\n",
    "\n",
    "## Subset Selection :-\n",
    "Methods of selecting subset of predictors.\n",
    "\n",
    "### 1. Best Subset Selection :-\n",
    "Fit a seperate regression model for each combination of p predictors. Several stages of Best subset selection.\n",
    "1. Start with $M_o$ i.e. a null model.\n",
    "2. For k = 1,2,...p, Fit all $p \\choose k$ models and pick the best among them and call them $M_0$ based on RSS or $R^2$.\n",
    "3. Select a single best model from $M_0, M_1,......,M_p$ using cross validated prediction error, $C_p$, AIC, BIC or adjusted $R^2$.\n",
    "\n",
    "Step 2 is reducing the problem from one of $2^p$ to one of (p+1) possible models. But as p increases, RSS decreases and $R^2$ increase so we will end up selecting model with maximum variable. We need to check performance of test data and hence come step 3."
   ]
  },
  {
   "cell_type": "code",
   "execution_count": 1,
   "metadata": {},
   "outputs": [],
   "source": [
    "import pandas as pd\n",
    "import numpy as np\n",
    "import seaborn as sns\n",
    "import matplotlib.pyplot as plt\n",
    "import statistics as stats\n",
    "from sklearn.preprocessing import StandardScaler\n",
    "from sklearn.linear_model import LinearRegression\n",
    "from statsmodels.formula.api import ols\n",
    "import statsmodels.api as sm\n",
    "import random\n",
    "import itertools\n",
    "from sklearn.linear_model import Ridge\n",
    "from sklearn.linear_model import Lasso\n",
    "from IPython.display import Image\n",
    "from sklearn.linear_model import RidgeCV\n",
    "from sklearn.linear_model import LassoCV\n",
    "from sklearn.decomposition import PCA\n",
    "from sklearn.model_selection import train_test_split\n",
    "from sklearn.pipeline import Pipeline\n",
    "from sklearn.model_selection import cross_val_score\n",
    "from sklearn.model_selection import cross_val_predict\n",
    "from sklearn.metrics import mean_squared_error\n",
    "from sklearn.metrics import make_scorer\n",
    "from sklearn.model_selection import RepeatedStratifiedKFold\n",
    "from sklearn.model_selection import KFold\n",
    "from sklearn.cross_decomposition import PLSRegression"
   ]
  },
  {
   "cell_type": "code",
   "execution_count": 2,
   "metadata": {},
   "outputs": [],
   "source": [
    "url = \"https://raw.githubusercontent.com/atystats/ISLR_Notes_codes/master/Datasets/Credit.csv\"\n",
    "Credit = pd.read_csv(url, index_col = 0)\n",
    "variables = Credit.columns\n",
    "variables = variables.drop(\"Balance\")"
   ]
  },
  {
   "cell_type": "code",
   "execution_count": 17,
   "metadata": {},
   "outputs": [
    {
     "name": "stdout",
     "output_type": "stream",
     "text": [
      "Done for :  0\n",
      "Done for :  1\n",
      "Done for :  2\n",
      "Done for :  3\n",
      "Done for :  4\n",
      "Done for :  5\n",
      "Done for :  6\n",
      "Done for :  7\n",
      "Done for :  8\n",
      "Done for :  9\n"
     ]
    }
   ],
   "source": [
    "results = []\n",
    "for k in range(len(variables)):\n",
    "    for subset in itertools.combinations(variables,k+1):\n",
    "        all_columns = \"+\".join(list(subset))\n",
    "        my_formula = \"Balance~\" + all_columns\n",
    "        model = ols(formula = my_formula, data = Credit).fit()\n",
    "        results.append({\"RSS\":model.mse_resid, \"R_squared\": model.rsquared,\"Variable_count\": k+1, \n",
    "                        'resid_sum': (model.resid ** 2).sum(), 'BIC': model.bic, \n",
    "                        'Adjusted_R2': model.rsquared_adj})\n",
    "    print(\"Done for : \",k)\n",
    "RSS_and_r2 = pd.DataFrame(results)\n",
    "Min_RSS = RSS_and_r2.groupby([\"Variable_count\"])['RSS'].min().reset_index()\n",
    "Max_R2 = RSS_and_r2.groupby([\"Variable_count\"])['R_squared'].max().reset_index()\n",
    "Min_BIC = RSS_and_r2.groupby([\"Variable_count\"])['BIC'].min().reset_index()\n",
    "Max_adj_R2 = RSS_and_r2.groupby([\"Variable_count\"])['Adjusted_R2'].max().reset_index()"
   ]
  },
  {
   "cell_type": "code",
   "execution_count": 79,
   "metadata": {},
   "outputs": [
    {
     "data": {
      "image/png": "[encoded data removed]",
      "text/plain": [
       "<Figure size 1008x504 with 2 Axes>"
      ]
     },
     "metadata": {
      "needs_background": "light"
     },
     "output_type": "display_data"
    }
   ],
   "source": [
    "fig = plt.figure(figsize = (14,7))\n",
    "ax1 = fig.add_subplot(121)\n",
    "ax1.scatter(RSS_and_r2[\"Variable_count\"], RSS_and_r2[\"RSS\"], color = \"grey\")\n",
    "ax1.plot(Min_RSS[\"Variable_count\"], Min_RSS[\"RSS\"], color = \"r\")\n",
    "ax1.set_xlabel(\"No. of predictors\", fontsize = 14)\n",
    "ax1.set_ylabel(\"Mean Sum of Squares\", fontsize = 14)\n",
    "ax2 = fig.add_subplot(122)\n",
    "ax2.scatter(RSS_and_r2[\"Variable_count\"], RSS_and_r2[\"R_squared\"], color = \"grey\")\n",
    "ax2.plot(Max_R2[\"Variable_count\"], Max_R2[\"R_squared\"], color = \"r\")\n",
    "ax2.set_xlabel(\"No. of predictors\", fontsize = 14)\n",
    "ax2.set_ylabel(\"$R^2$\", fontsize = 14)\n",
    "plt.show()"
   ]
  },
  {
   "cell_type": "markdown",
   "metadata": {},
   "source": [
    "Above plot shows that, after adding 3 variables, there is little improvement in RSS and $R^2$ with each additional variable. So the subset of 3 variable with combination that gives minimum error can be used for model building.\n",
    "\n",
    "For classification, instead of RSS or $R^2$, we can use deviance.\n",
    "\n",
    "__Deviance__:- Negetive two times the maximized log-likelihood; smaller the deviance, better the fit. Deviance can be used for a broader class of models. \n",
    "\n",
    "__Drawbacks of Best Subset Selection__ :-\n",
    "1. The drawback is that it can be computationally expensive if p is large.\n",
    "2. When p is large, we have a big search space and hence more chances of selecting a model that is good at training but not on testing."
   ]
  },
  {
   "cell_type": "markdown",
   "metadata": {},
   "source": [
    "### 2. Stepwise Selection :-\n",
    "Selecting a far more restricted set of variables.\n",
    "\n",
    "__Forward Stepwise Selection__ :- \n",
    "1. Start with null model $M_o$.\n",
    "2. For k = 0,1,2,.....,p-1. \n",
    "    \n",
    "    (i). Consider all p-k models that augment the predictors in $M_k$ with one additional predictor.\n",
    "    \n",
    "    (ii). Choose the best among p-k models and call it $M_{k+1}$. Here best is defined as having smallest RSS or highest $R^2$.\n",
    "    \n",
    "3. Select a single model from $M_0, M_1, .... , M_p$ using cross validation error, $C_p$, AIC, BIC, etc.\n",
    "\n",
    "Unlike Best subset selection, now we are considering only, 1 + p(p+1)/2 models.\n",
    "\n",
    "__Drawbacks__:- \n",
    "1. Not guaranteed to find the best model.\n",
    "2. If best one variable models has $X_1$, but best 2 variable model contain $X_2, X_3$, then forward selection will never select that model because 2 variable model will always have $X_1$.\n",
    "\n",
    "__Advantage__:- Forward selection can be applied in high dimensional setting where n < p; however we can only construct $M_1,......,M_{n-1}$ only.\n",
    "\n",
    "__Backward Stepwise Selection__ :- \n",
    "1. Start with null model $M_o$.\n",
    "2. For k = p,p-1,....,1.\n",
    "    \n",
    "    (i). Consider all k models that contains all but one of the predictors in $M_k$ for a total of k-1 predictors\n",
    "    \n",
    "    (ii). Choose the best among these k models and call it $M_{k-1}$. Here best is defined as having smallest RSS or highest $R^2$.\n",
    "    \n",
    "3. Select a single model from $M_0, M_1, .... , M_p$ using cross validation error, $C_p$, AIC, BIC, etc.\n",
    "\n",
    "Backward and Forward selection both have similar advantage and disadvantages. Both do not guarantee best subset and also do not give identical model.\n",
    "\n",
    "__Hybrid Approach__:- To closely mimic best subset selection, we need to remove variable as well at each stage while adding.\n",
    "\n",
    "### Choosing the best model \n",
    "In the above mentioned methods, in order to select the best model with respect to test error:\n",
    "1. We can indirectly estimate test error by making an adjustment to the training error to account for the bias due to overfitting.\n",
    "2. Estimate test error, using a validation set approach.\n",
    "\n",
    "__$C_p$, AIC, BIC and adjusted $R^2$__ :-\n",
    "To select between model with different no. of parameters, we can't use training RSS and training $R^2$ as they decrease with each adding variable even if that variable do not add any value.\n",
    "\n",
    "But there are techniques to adjust training error for the model size available. Such as :-\n",
    "1. __$C_p$__:- For fitted least squares model containing d predictors, the $C_p$ estimate of test MSE is \n",
    "$$C_p = \\frac{1}{n}(RSS + 2d \\hat\\sigma^2)$$\n",
    "where $\\hat\\sigma^2$ = estimate of variance of the error $\\epsilon$. $\\hat\\sigma^2$ is estimated using full model containing all p predictors.\n",
    "\n",
    "$C_p$ is adding a penalty of 2d$\\hat\\sigma^2$ to the training RSS in order to adjust for the fact that training error underestimates test error. As d increase, penalty increase.\n",
    "\n",
    "$C_p$ is unbiased estimate of test error. Lower the $C_p$, better the model.\n",
    "\n",
    "2. __AIC (Akaike Information Criteria)__ :- Defined for a large class of model fit by maximum likelihood. For least squares,\n",
    "$$AIC = \\frac{1}{n\\hat\\sigma^2} (RSS + 2d \\hat\\sigma^2).$$\n",
    "For least squares, $C_p$ and AIC are proportional to each other.\n",
    "\n",
    "3. __BIC (Bayesian Information Criteria)__ :- For least squares with p predictors,\n",
    "$$BIC = \\frac{1}{n\\hat\\sigma^2} (RSS + log(n)d \\hat\\sigma^2)$$\n",
    "\n",
    "BIC replaces $2d \\hat\\sigma^2$ with $log(n)d \\hat\\sigma^2$, where n is no. of observations. For any n > 7, log(n) > 2, the BIC statistic generally places a heavier penalty on models with many variables, and hence result in models with less predictors.\n",
    "\n",
    "4. __Adjusted $R^2$__ :- Since RSS always decrease as more variables are added to the model, the $R^2$ always increase.\n",
    "$$Adj. R^2 = \\frac{1 - RSS/(n-d-1)}{TSS/(n-1)}$$\n",
    "Large Adj. $R^2$, better model.\n",
    "Now as no. of variable increases, RSS/(n-d-1), may or may not increase due to the presence of d in denominator.\n",
    "Adjusting $R^2$ prevents us to use noise variable."
   ]
  },
  {
   "cell_type": "code",
   "execution_count": 61,
   "metadata": {},
   "outputs": [],
   "source": [
    "# We will calculate Cp for Credit data.\n",
    "sigma_sq = RSS_and_r2[RSS_and_r2['Variable_count']== 10]['resid_sum']/(len(Credit) - (len(variables)+1) -1)\n",
    "RSS_and_r2[\"Cp\"] = (RSS_and_r2['resid_sum'] + 2 * RSS_and_r2['Variable_count'] * sigma_sq.values)/len(Credit)\n",
    "Min_Cp = RSS_and_r2.groupby([\"Variable_count\"])['Cp'].min().reset_index()"
   ]
  },
  {
   "cell_type": "code",
   "execution_count": 71,
   "metadata": {},
   "outputs": [
    {
     "data": {
      "image/png": "[encoded data removed]",
      "text/plain": [
       "<Figure size 1368x432 with 3 Axes>"
      ]
     },
     "metadata": {
      "needs_background": "light"
     },
     "output_type": "display_data"
    }
   ],
   "source": [
    "fig = plt.figure(figsize = (19,6))\n",
    "ax1 = fig.add_subplot(131)\n",
    "ax1.scatter(Min_Cp[\"Variable_count\"], Min_Cp[\"Cp\"], color = \"b\")\n",
    "ax1.plot(Min_Cp[\"Variable_count\"], Min_Cp[\"Cp\"], color = \"r\")\n",
    "ax1.plot(Min_Cp[\"Cp\"].idxmin() + 1, Min_Cp[\"Cp\"].min(), marker = \"x\", markersize = 20, color = 'b')\n",
    "ax1.set_xlabel(\"No. of predictors\", fontsize = 14)\n",
    "ax1.set_ylabel(\"$C_p$\", fontsize = 14)\n",
    "\n",
    "ax2 = fig.add_subplot(132)\n",
    "ax2.scatter(Min_BIC[\"Variable_count\"], Min_BIC[\"BIC\"], color = \"b\")\n",
    "ax2.plot(Min_BIC[\"Variable_count\"], Min_BIC[\"BIC\"], color = \"r\")\n",
    "ax2.plot(Min_BIC[\"BIC\"].idxmin() + 1, Min_BIC[\"BIC\"].min(), marker = \"x\", markersize = 20, color = 'b')\n",
    "ax2.set_xlabel(\"No. of predictors\", fontsize = 14)\n",
    "ax2.set_ylabel(\"BIC\", fontsize = 14)\n",
    "\n",
    "ax3 = fig.add_subplot(133)\n",
    "ax3.scatter(Max_adj_R2[\"Variable_count\"], Max_adj_R2[\"Adjusted_R2\"], color = \"b\")\n",
    "ax3.plot(Max_adj_R2[\"Variable_count\"], Max_adj_R2[\"Adjusted_R2\"], color = \"r\")\n",
    "ax3.plot(Max_adj_R2[\"Adjusted_R2\"].idxmax() + 1, Max_adj_R2[\"Adjusted_R2\"].max(), marker = \"x\", markersize = 20, color = 'b')\n",
    "ax3.set_xlabel(\"No. of predictors\", fontsize = 14)\n",
    "ax3.set_ylabel(\"Adjusted $R^2$\", fontsize = 14)\n",
    "\n",
    "plt.show()"
   ]
  },
  {
   "cell_type": "markdown",
   "metadata": {},
   "source": [
    "The above plot shows that all the 3 measure of model performance has a minimum value for different set of predictors (marked as blue). But the inspection of above plots also shows that all of them suggest that after 3 variable, improvement was not significant for each additional variable. So all of them will ultimately get us to select the same model."
   ]
  },
  {
   "cell_type": "markdown",
   "metadata": {},
   "source": [
    "__Validation and cross validation__\n",
    "\n",
    "As an alternate to above methods, we can directly estimate test error using validation test and cross validation methods. If we have a lot of data, CV methods are always preferred.\n",
    "\n",
    "* Also, validation approach make lesser assumptions about the true underlying methods.\n",
    "* Validation set approach depends on how we split the data and would probably result in different selection of models. AIC, BIC, etc do not have that problem.\n",
    "\n",
    "__One standard error rule__ :-\n",
    "1. Calculate estimate of test error for each model size.\n",
    "2. Select the model with smallest predictor set for which estimated test error is within one S.E. of lowest point on the curve. If a lot of model give similar estimate of test error, choose the simplest model."
   ]
  },
  {
   "cell_type": "markdown",
   "metadata": {},
   "source": [
    "## Shrinkage Methods \n",
    "We can fit a model with all the predictors but some of them are shrinked towards zero. Such a method can significantly reduce the variance of the model.\n",
    "\n",
    "### Ridge Regression \n",
    "Ridge regression coefficient estimates $\\beta^R$ are values that minimizes \n",
    "$$\\sum_{i = 1}^{n}(y_i - \\beta_0 - \\sum_{j = 1}^{p}\\beta_jx_{ij})^2 + \\lambda \\sum_{j = 1}^{p}\\beta_{j}^{2} = RSS + \\lambda \\sum_{j = 1}^{p}\\beta_{j}^{2}$$\n",
    "\n",
    "where $\\lambda \\ge 0$ is a tuning parameter, to be determined seperately.\n",
    "\n",
    "$\\lambda \\sum_{j = 1}^{p}\\beta_{j}^{2}$ called shrinkage penalty. As we are minimizing it, so it has the effect of shrinking the estimates towards zero.\n",
    "\n",
    "* For $\\lambda = 0$, no effect of penalty.\n",
    "* $\\lambda -> \\infty$, shrinkage penalty grows and coefficients approaches zero.\n",
    "* Note that shrinkage do not apply to the intercept.\n",
    "* Also, befor performing ridge we should scale the variable because in least squares multiplying the variable by a number results in scaling of coefficients as well and $X_j\\beta_j$ remain same but not in ridge.\n",
    "\n",
    "$X_j\\beta_j^R$ not only depends on $\\lambda$ but also on scaling of predictors(also on the scaling of other predictors).\n",
    "\n",
    "$$x_{ij}^R = \\frac{x_{ij}}{\\sqrt{\\frac{1}{n} \\sum_{i = 1}^{n}(x_{ij} - \\bar x_j)^2}}$$"
   ]
  },
  {
   "cell_type": "code",
   "execution_count": 2,
   "metadata": {},
   "outputs": [
    {
     "data": {
      "text/plain": [
       "Index(['Income', 'Limit', 'Rating', 'Cards', 'Age', 'Education', 'Gender',\n",
       "       'Student', 'Married', 'Ethnicity', 'Balance', 'Gender_ Male',\n",
       "       'Gender_Female', 'Student_No', 'Student_Yes', 'Married_No',\n",
       "       'Married_Yes', 'Ethnicity_African American', 'Ethnicity_Asian',\n",
       "       'Ethnicity_Caucasian'],\n",
       "      dtype='object')"
      ]
     },
     "execution_count": 2,
     "metadata": {},
     "output_type": "execute_result"
    }
   ],
   "source": [
    "url = \"https://raw.githubusercontent.com/atystats/ISLR_Notes_codes/master/Datasets/Credit.csv\"\n",
    "Credit = pd.read_csv(url, index_col = 0)\n",
    "dummy = pd.get_dummies(Credit[['Gender','Student','Married','Ethnicity']]) # Creating dummies for categorical vars\n",
    "Credit = pd.concat([Credit,dummy],axis = 1)\n",
    "Credit.columns"
   ]
  },
  {
   "cell_type": "code",
   "execution_count": 165,
   "metadata": {},
   "outputs": [],
   "source": [
    "# Code for fitting ridge regression model for different values of lambda.\n",
    "X = np.array(Credit.drop(['Balance','Gender','Student','Married','Ethnicity',\n",
    "                          'Gender_ Male','Student_No','Married_No','Ethnicity_African American'], axis = 1))\n",
    "y = np.array(Credit['Balance'])\n",
    "scaler = StandardScaler().fit(X)\n",
    "X = scaler.transform(X)\n",
    "lambda_range = 10**np.linspace(-2,5,100)\n",
    "coef = []\n",
    "for l in lambda_range:\n",
    "    model = Ridge(alpha = l)\n",
    "    model.fit(X,y)\n",
    "    coef.append(list(model.coef_))\n",
    "coef_df = pd.DataFrame(coef,columns = Credit.drop(['Balance','Gender','Student','Married','Ethnicity',\n",
    "                          'Gender_ Male','Student_No','Married_No','Ethnicity_African American'], axis = 1).columns)\n",
    "del coef"
   ]
  },
  {
   "cell_type": "code",
   "execution_count": 7,
   "metadata": {},
   "outputs": [],
   "source": [
    "# Fitting a linear regression with out regularization\n",
    "lm = LinearRegression()\n",
    "lm.fit(X,y)\n",
    "l2_norm_lm = np.sqrt(sum(map(lambda i: i*i,lm.coef_))) # l2 norm for linear regression\n",
    "# l2 norm for Ridge regression coefficient corresponding to each lambda\n",
    "coef_df_arr = np.array(coef_df)\n",
    "l2_norm_ridge = [np.sqrt(sum(map(lambda i: i*i,beta))) for beta in coef_df_arr]\n",
    "l2_norm_ratio = [i/l2_norm_lm for i in l2_norm_ridge]"
   ]
  },
  {
   "cell_type": "code",
   "execution_count": 200,
   "metadata": {},
   "outputs": [
    {
     "data": {
      "image/png": "[encoded data removed]",
      "text/plain": [
       "<Figure size 1080x360 with 2 Axes>"
      ]
     },
     "metadata": {
      "needs_background": "light"
     },
     "output_type": "display_data"
    }
   ],
   "source": [
    "fig = plt.figure(figsize = (15,5))\n",
    "# Plotting coefficients corresponding to lambdas\n",
    "ax1 = fig.add_subplot(121)\n",
    "linestyles = ['-', '--', ':', '-','-','-','-','-.','-','-','-']\n",
    "for i,col in enumerate(coef_df.columns):\n",
    "    if col in ['Income','Limit','Rating','Student_Yes'] :\n",
    "        ax1.plot(lambda_range, coef_df[col], label = col, linestyle = linestyles[i])\n",
    "    else:\n",
    "        ax1.plot(lambda_range, coef_df[col],linestyle = linestyles[i])    \n",
    "ax1.set_xscale('log')\n",
    "ax1.set_xlabel(\"$\\lambda$\", fontsize = 14)\n",
    "ax1.set_ylabel(\"Standardized Coefficients\", fontsize = 14)\n",
    "ax1.legend()\n",
    "\n",
    "# Plotting coefficients corresponding to l2 norm ratio of ridge rigression and linear regression.\n",
    "ax2 = fig.add_subplot(122)\n",
    "linestyles = ['-', '--', ':', '-','-','-','-','-.','-','-','-']\n",
    "for i,col in enumerate(coef_df.columns):\n",
    "    if col in ['Income','Limit','Rating','Student_Yes'] :\n",
    "        ax2.plot(l2_norm_ratio, coef_df[col], label = col, linestyle = linestyles[i])\n",
    "    else:\n",
    "        ax2.plot(l2_norm_ratio, coef_df[col], linestyle = linestyles[i])    \n",
    "ax2.set_xlabel(\"l2_norm_ratio\", fontsize = 14)\n",
    "ax2.set_ylabel(\"Standardized Coefficients\", fontsize = 14)\n",
    "ax2.legend()\n",
    "plt.show()"
   ]
  },
  {
   "cell_type": "markdown",
   "metadata": {},
   "source": [
    "Above plot shows how with increasing value of $\\lambda$, coefficients are converging towards zero. Also, increasing not necessarily decrease all the coefficients, as can be seen with Rating varaible. Some individial coefficients might increase as well. 2nd plot, x axis is $|| \\hat \\beta_{\\lambda}^{R}||_2 / || \\hat \\beta ||_2$ which represents how much ridge regression coefficients have shrunken towards zero.\n",
    "\n",
    "__Why ridge regression improves over least squares?__\n",
    "\n",
    "As $\\lambda$ increases, the flexibility decrease leading to decreased variance but increased bias. Assume we have a lot predictors p, and $\\lambda$ = 0, i.e. least square model will have a very low bias (because we are including all the variables) but very high variance because of overfitting.\n",
    "\n",
    "As $\\lambda$ increases, coefficients shrink towards zero and hence flexibility decrease and hence variance starts decreasing but bias won't get affected much. After a certain value, bias will start increasing as some coefficient approach zero.\n",
    "\n",
    "This just means that choosing the right value of $\\lambda$ will result in improved fit."
   ]
  },
  {
   "cell_type": "code",
   "execution_count": 1,
   "metadata": {},
   "outputs": [
    {
     "data": {
      "image/png": "[encoded data removed]",
      "text/plain": [
       "<IPython.core.display.Image object>"
      ]
     },
     "execution_count": 1,
     "metadata": {},
     "output_type": "execute_result"
    }
   ],
   "source": [
    "# An image from the book \n",
    "Image(filename = \"/Users/ankittyagi/Desktop/ISLR Notes and codes/ISLR_Notes_codes/Ridge regression Bias and variance.png\")"
   ]
  },
  {
   "cell_type": "markdown",
   "metadata": {},
   "source": [
    "The above plot shows that bias (black) won't get affected in the beginning but keep on increasing once the variable approach towards zero. And variance (green) will keep on decreasing in the start but stabilize after a certain set of variable becomes close to zero and we are left with less no. of variables in the model.\n",
    "\n",
    "* When the relationship is linear between response and predictors, least squares will give low bias but may have high variance.\n",
    "* When p ~ n, least squares will be extremely variable.\n",
    "* When p > n, ridge can still perform but least square can't. Hence ridge works better when least square have high variance.\n",
    "\n",
    "__Advantage__ :-\n",
    "\n",
    "1. Computationally faster than Best subset selection methods.\n",
    "2. For large p, feasible to use.\n",
    "\n",
    "__Disadvantage__ :-\n",
    "\n",
    "1. Include all p variables in the model, even if some of them are not important.\n",
    "2. If p is large, ridge regression results in very less model interpretibility."
   ]
  },
  {
   "cell_type": "markdown",
   "metadata": {},
   "source": [
    "### Lasso Regression\n",
    "Lasso coefficients $\\beta_{\\lambda}^{L}$, minimize \n",
    "$$\\sum_{i = 1}^{n}(y_i - \\beta_0 - \\sum_{j = 1}^{p}\\beta_jx_{ij})^2 + \\lambda \\sum_{j = 1}^{p}| \\beta_{j} | = RSS + \\lambda \\sum_{j = 1}^{p}| \\beta_{j} |$$\n",
    "where $\\sum_{j = 1}^{p}| \\beta_{j} |$ is called the l1 penalty. L1 penalty has effect of forcing some coefficients towards zero, hence can perform variable selection.\n",
    "Depending on value of $\\lambda$, lasso can select a model with any no. of variables."
   ]
  },
  {
   "cell_type": "code",
   "execution_count": 24,
   "metadata": {},
   "outputs": [],
   "source": [
    "# Code for fitting ridge regression model for different values of lambda.\n",
    "X = np.array(Credit.drop(['Balance','Gender','Student','Married','Ethnicity',\n",
    "                          'Gender_ Male','Student_No','Married_No','Ethnicity_African American'], axis = 1))\n",
    "y = np.array(Credit['Balance'])\n",
    "scaler = StandardScaler().fit(X)\n",
    "X = scaler.transform(X)\n",
    "lambda_range = np.linspace(1,1000, 500)\n",
    "coef = []\n",
    "for l in lambda_range:\n",
    "    model = Lasso(alpha = l)\n",
    "    model.fit(X,y)\n",
    "    coef.append(list(model.coef_))\n",
    "coef_df = pd.DataFrame(coef,columns = Credit.drop(['Balance','Gender','Student','Married','Ethnicity',\n",
    "                          'Gender_ Male','Student_No','Married_No','Ethnicity_African American'], axis = 1).columns)\n",
    "del coef"
   ]
  },
  {
   "cell_type": "code",
   "execution_count": 25,
   "metadata": {},
   "outputs": [],
   "source": [
    "# Fitting a linear regression with out regularization\n",
    "lm = LinearRegression()\n",
    "lm.fit(X,y)\n",
    "l2_norm_lm = np.sqrt(sum(map(lambda i: i*i,lm.coef_))) # l2 norm for linear regression\n",
    "# l2 norm for Ridge regression coefficient corresponding to each lambda\n",
    "coef_df_arr = np.array(coef_df)\n",
    "l2_norm_lasso = [np.sqrt(sum(map(lambda i: i*i,beta))) for beta in coef_df_arr]\n",
    "l2_norm_ratio = [i/l2_norm_lm for i in l2_norm_lasso]"
   ]
  },
  {
   "cell_type": "code",
   "execution_count": 26,
   "metadata": {},
   "outputs": [
    {
     "data": {
      "image/png": "[encoded data removed]",
      "text/plain": [
       "<Figure size 1080x360 with 2 Axes>"
      ]
     },
     "metadata": {
      "needs_background": "light"
     },
     "output_type": "display_data"
    }
   ],
   "source": [
    "fig = plt.figure(figsize = (15,5))\n",
    "# Plotting coefficients corresponding to lambdas\n",
    "ax1 = fig.add_subplot(121)\n",
    "linestyles = ['-', '--', ':', '-','-','-','-','-.','-','-','-']\n",
    "for i,col in enumerate(coef_df.columns):\n",
    "    if col in ['Income','Limit','Rating','Student_Yes'] :\n",
    "        ax1.plot(lambda_range, coef_df[col], label = col, linestyle = linestyles[i])\n",
    "    else:\n",
    "        ax1.plot(lambda_range, coef_df[col],linestyle = linestyles[i])    \n",
    "ax1.set_xscale('log')\n",
    "ax1.set_xlabel(\"$\\lambda$\", fontsize = 14)\n",
    "ax1.set_ylabel(\"Standardized Coefficients\", fontsize = 14)\n",
    "ax1.legend()\n",
    "\n",
    "# Plotting coefficients corresponding to l2 norm ratio of ridge rigression and linear regression.\n",
    "ax2 = fig.add_subplot(122)\n",
    "linestyles = ['-', '--', ':', '-','-','-','-','-.','-','-','-']\n",
    "for i,col in enumerate(coef_df.columns):\n",
    "    if col in ['Income','Limit','Rating','Student_Yes'] :\n",
    "        ax2.plot(l2_norm_ratio, coef_df[col], label = col, linestyle = linestyles[i])\n",
    "    else:\n",
    "        ax2.plot(l2_norm_ratio, coef_df[col], linestyle = linestyles[i])    \n",
    "ax2.set_xlabel(\"l2_norm_ratio\", fontsize = 14)\n",
    "ax2.set_ylabel(\"Standardized Coefficients\", fontsize = 14)\n",
    "ax2.legend()\n",
    "plt.show()"
   ]
  },
  {
   "cell_type": "markdown",
   "metadata": {},
   "source": [
    "As can be seen in plot above that as the value of $\\lambda$ becomes sufficiently large, lasso gives a null model. Also, it can be seen that lasso coefficients converges to zero much quicker than ridge. \n",
    "\n",
    "The second plot shows that till a certain value of l2 norm ratio, we just have one variable, then 2-3 varibles added followed by the rest of them. This shows that depending on value of $\\lambda$, lasso can produce a model with any no. of variables.\n",
    "\n",
    "Overall,\n",
    "\n",
    "Lasso\n",
    "$$minimize{\\sum_{i = 1}^{n}(y_i - \\beta_0 - \\sum_{j = 1}^{n}\\beta_j x_{ij})^2}\\ \\ subject\\ to \\sum_{j = 1}^{p}|\\beta_j| \\le s$$\n",
    "\n",
    "And ridge,\n",
    "$$minimize{\\sum_{i = 1}^{n}(y_i - \\beta_0 - \\sum_{j = 1}^{n}\\beta_j x_{ij})^2}\\ \\ subject\\ to \\sum_{j = 1}^{p}\\beta_j^2 \\le s$$\n",
    "\n",
    "This shows a connection between Lasso, ridge and best subset selection. Consider,\n",
    "$$minimize{\\sum_{i = 1}^{n}(y_i - \\beta_0 - \\sum_{j = 1}^{n}\\beta_j x_{ij})^2}\\ \\ subject\\ to \\sum_{j = 1}^{p}I(\\beta_j \\ne 0) \\le s$$\n",
    "Here, $I(\\beta_j \\ne 0)$ is an indicator. If $\\beta_j = 0$, then 0 otherwise 1.\n",
    "So, minimize RSS subject to constraint that no more than s variable can be zero. This is equivalent to Best Subset selection. But if p is high, Best subset selection is infeasible.\n",
    "\n",
    "__Variable selection property of Lasso__"
   ]
  },
  {
   "cell_type": "code",
   "execution_count": 28,
   "metadata": {},
   "outputs": [
    {
     "data": {
      "image/png": "[encoded data removed]",
      "text/plain": [
       "<IPython.core.display.Image object>"
      ]
     },
     "execution_count": 28,
     "metadata": {},
     "output_type": "execute_result"
    }
   ],
   "source": [
    "Image(filename = \"/Users/ankittyagi/Desktop/ISLR Notes and codes/ISLR_Notes_codes/Ridge and lasso Var selection.png\")"
   ]
  },
  {
   "cell_type": "markdown",
   "metadata": {},
   "source": [
    "In the image above, the least square solution is $\\hat \\beta$. And the red ellipses are the regions of constant RSS. The green area represents the constraint (left is lasoo and right is ridge). \n",
    "\n",
    "Now if s is large, the constraint region will contain $\\hat \\beta$ and ridge, lasso will be same as least square estimate. Otherwise, the point where the ellipse of error meet the constraint region will be the lasso/ridge estimates of $\\beta_1$ and $\\beta_2$.\n",
    "\n",
    "Since ridge regression constraints is circular with no sharp points, this intersection will not generally happen on axis and so the estimate won't be zero. Lasso has corners at each axis so ellipse will often intersect at axis and hence will be zero. The above image is for p = 2 predictors but the same idea applies to more than 2 predictors.\n",
    "\n",
    "__Comparing Lasso and Ridge regression :-__\n",
    "\n",
    "1. Lasso can help in variable selection.\n",
    "2. Lasso might result in high variance becasue it might delete some variable that are in actual model but usually the effect is negligible.\n",
    "3. Difference in lasso and ridge depends on true form of the model.\n",
    "4. Lasso outperforms ridge if the relatively small no. of predictors have substantial coefficients and vice versa.\n",
    "5. Ridge regression more or less shrinks every dimension of the data by same proportion but lasso more or less shrinks all coefficients towards zero by similar amount.\n",
    "\n",
    "__Bayesian Interpretation of Ridge and lasso__\n",
    "\n",
    "$\\beta$(coeff. vector) has a prior distribution $p(\\beta)$.\n",
    "$$f(Y|X,\\beta) = likelihood\\ of\\ data.$$\n",
    "Posterior distribution of $p(\\beta|X,Y) \\propto f(Y|X,\\beta) p(\\beta|X) = f(Y|X,\\beta) p(\\beta)$\n",
    "\n",
    "let $p(\\beta) = \\prod_{j = 1}^{p}g(\\beta_j)$, for some density g. \n",
    "\n",
    "1. If g is Guassian distribution with mean 0 and S.D. $\\lambda$, then posterior model for $\\beta$ i.e. the most likely value for $\\beta$ is given by ridge regression coefficients.\n",
    "2. If g is double exponential distribution with mean 0 and scale parameter $\\lambda$, then posterior model for $\\beta$ is given by lasso regression coefficients.\n",
    "\n",
    "__Selecting the tuning parameter__:- Cross validation provide simple way to decide which value of $\\lambda$ is better. We choose a grid of $\\lambda$ values and calculate the CV error for each $\\lambda$ and choose $\\lambda$ that results in minimum CV error."
   ]
  },
  {
   "cell_type": "code",
   "execution_count": 62,
   "metadata": {},
   "outputs": [],
   "source": [
    "# Code for fitting ridge regression model for different values of lambda.\n",
    "X = np.array(Credit.drop(['Balance','Gender','Student','Married','Ethnicity',\n",
    "                          'Gender_ Male','Student_No','Married_No','Ethnicity_African American'], axis = 1))\n",
    "y = np.array(Credit['Balance'])\n",
    "scaler = StandardScaler().fit(X)\n",
    "X = scaler.transform(X)\n",
    "lambda_range = 50**np.linspace(-2,0.5,100)\n",
    "ridge_cv = RidgeCV(alphas = lambda_range,store_cv_values=True).fit(X,y)\n",
    "cv_error = np.mean(ridge_cv.cv_values_, axis = 0)/len(Credit)\n",
    "coef = []\n",
    "for l in lambda_range:\n",
    "    model = Ridge(alpha = l)\n",
    "    model.fit(X,y)\n",
    "    coef.append(list(model.coef_))\n",
    "coef_df = pd.DataFrame(coef,columns = Credit.drop(['Balance','Gender','Student','Married','Ethnicity',\n",
    "                          'Gender_ Male','Student_No','Married_No','Ethnicity_African American'], axis = 1).columns)\n",
    "del coef"
   ]
  },
  {
   "cell_type": "code",
   "execution_count": 65,
   "metadata": {},
   "outputs": [
    {
     "data": {
      "image/png": "[encoded data removed]",
      "text/plain": [
       "<Figure size 1080x360 with 2 Axes>"
      ]
     },
     "metadata": {
      "needs_background": "light"
     },
     "output_type": "display_data"
    }
   ],
   "source": [
    "fig = plt.figure(figsize = (15,5))\n",
    "ax1 = fig.add_subplot(121)\n",
    "ax1.set_xscale('log')\n",
    "ax1.plot(lambda_range, cv_error, color = \"b\")\n",
    "ax1.axvline(x = ridge_cv.alpha_, linestyle = \"--\", color = \"black\")\n",
    "ax1.set_xlabel(\"$\\lambda$\", fontsize = 14)\n",
    "ax1.set_ylabel(\"Cross-Validation Error\", fontsize = 14)\n",
    "\n",
    "ax2 = fig.add_subplot(122)\n",
    "linestyles = ['-', '--', ':', '-','-','-','-','-.','-','-','-']\n",
    "for i,col in enumerate(coef_df.columns):\n",
    "    if col in ['Income','Limit','Rating','Student_Yes'] :\n",
    "        ax2.plot(lambda_range, coef_df[col], label = col, linestyle = linestyles[i])\n",
    "    else:\n",
    "        ax2.plot(lambda_range, coef_df[col],linestyle = linestyles[i])    \n",
    "ax2.set_xscale('log')\n",
    "ax2.set_xlabel(\"$\\lambda$\", fontsize = 14)\n",
    "ax2.set_ylabel(\"Standardized Coefficients\", fontsize = 14)\n",
    "ax2.axvline(x = ridge_cv.alpha_, linestyle = \"--\", color = \"black\")\n",
    "plt.show()"
   ]
  },
  {
   "cell_type": "markdown",
   "metadata": {},
   "source": [
    "The above plot shows the CV error for a series of $\\lambda$ values and the black dotted line shows the value that selected by cross validation. The right plot shows the coefficients across the values of $\\lambda$. The dip in error is not that significant, so we might want to select least square estimation only."
   ]
  },
  {
   "cell_type": "markdown",
   "metadata": {},
   "source": [
    "## Dimension Reduction Methods\n",
    "We transform the predictors and then fit a model using transformed variables as predictors. Let $Z_1, Z_2, .... ,Z_M$, M < p are linear combination of our original p predictors.\n",
    "$$Z_m = \\sum_{j = 1}^{p}\\phi_{jm}X_j$$\n",
    "for some constraints $\\phi_{1m}, \\phi_{2m}, ....... , \\phi_{pm}$, m = 1,2,....,M. Then our model becomes\n",
    "$$y_i = \\theta_0 + \\sum_{m = 1}\\theta_mZ_{im} + \\epsilon_i,\\ \\ i = 1,....,n$$\n",
    "Dimension reduction approaches can outperform least square estimates. as it helps in reducing the variance of the model. \n",
    "\n",
    "Our problem reduced from estimating p coefficients to M coefficients. \n",
    "$$\\sum_{m = 1}^{M}\\theta_m Z_{im} = \\sum_{m = 1}^{M}\\theta_m \\sum_{j = 1}^{p}\\phi_{jm}x_{ij} = \\sum_{j = 1}^{p} \\sum_{m = 1}^{M}\\theta_m \\phi_{jm} x_{ij} = \\sum_{j = 1}^{p}\\beta_jx_{ij}$$\n",
    "$$\\beta_j = \\sum_{m = 1}^{M}\\theta_m\\phi_{jm}$$\n",
    "Hence, it is like a special case of original linear regression model with constraints that $\\beta_j = \\sum_{m = 1}^{M}\\theta_m\\phi_{jm}$\n",
    "\n",
    "### Principal Compenent Analysis (PCA) :-\n",
    "A technique to reduce he dimension of a n X p data matrix X.\n",
    "* First principal component direction of the data is that along which the observations vary the most. Also, the projected observations would have the largest possible variance.\n",
    "* To project a point on the line simply involves finding the location on the line which is closest to the point.\n",
    "$$Z_1 = \\phi_{11}(x - \\bar x) + \\phi_{21}(y - \\bar y)$$\n",
    "where $\\phi_{11}, \\phi_{21}$ are the principal component loadings.\n",
    "* The idea is to find a linear combination of x & y such that $\\phi_{11}^2 +  \\phi_{21}^2 = 1$, and this particular linear combination should have the highest variance.\n",
    "* If $\\phi_{11} = \\phi_{21}$, then $Z_1$ is simply the average of 2 variables.\n",
    "* First component vector is the line that is as close as possible to the data.\n",
    "* $Z_{11}, Z_{21}, ...... ,Z_{n1}$ are called the principal component scores.\n",
    "* A negetive component indicates that the point is below average in one or more feature.\n",
    "* A positive component indicates that the point is above average in one or more feature.\n",
    "* How well a component represent 2 vectors is depends on how linearly related two vectors are.\n",
    "\n",
    "__2nd Principal Component__ :- A linear combination of variables that is uncorrelated with $Z_1$ and has largest variance subject to this constraint. Now, 2nd principal component should be orthogonal to first PC to be uncorrelated. For p predictors, we can create atmost p principal component."
   ]
  },
  {
   "cell_type": "code",
   "execution_count": 84,
   "metadata": {},
   "outputs": [],
   "source": [
    "url = \"https://raw.githubusercontent.com/atystats/ISLR_Notes_codes/master/Datasets/Carseats.csv\"\n",
    "Carseats = pd.read_csv(url)\n",
    "X = np.array(Carseats[['Population','Advertising']])\n",
    "scaler = StandardScaler().fit(X)\n",
    "X = scaler.transform(X)"
   ]
  },
  {
   "cell_type": "code",
   "execution_count": 105,
   "metadata": {},
   "outputs": [
    {
     "data": {
      "image/png": "[encoded data removed]",
      "text/plain": [
       "<Figure size 1008x360 with 2 Axes>"
      ]
     },
     "metadata": {
      "needs_background": "light"
     },
     "output_type": "display_data"
    }
   ],
   "source": [
    "pca = PCA(n_components = 1)\n",
    "pca.fit(X)\n",
    "pcs = pca.transform(X)\n",
    "fig = plt.figure(figsize = (14,5))\n",
    "ax1 = fig.add_subplot(121)\n",
    "ax1.scatter(pcs, X[:,0])\n",
    "ax1.set_xlabel(\"1st PCA\")\n",
    "ax1.set_ylabel(\"Population\")\n",
    "ax2 = fig.add_subplot(122)\n",
    "ax2.scatter(pcs, X[:,1], color = \"g\")\n",
    "ax2.set_xlabel(\"1st PCA\")\n",
    "ax2.set_ylabel(\"Advertising\")\n",
    "plt.show()"
   ]
  },
  {
   "cell_type": "markdown",
   "metadata": {},
   "source": [
    "The above plot shows the scatter plot of first component PCA and the variables used to create that.\n",
    "\n",
    "### Principal Component Regression Approach\n",
    "While using principal as regression variables, we assume that the directions in which $X_1, X_2, .... , X_p$ show the most variation are the directions that are associated with Y.\n",
    "\n",
    "If this assumption holds, then fitting a model on principal component $Z_1, Z_2, .... , Z_n$ leads to better result that modeling on $X_1, ... , X_n$. It reduce overfitting. If the true model has less no. of variables, PCR might out perform shrinkage methods as well.\n",
    "\n",
    "* For a limited dataset, as M increase, bias decrease but variance increase.\n",
    "* PCR ends up in M $\\le$ p predictors but it is not feature selection methods, because we are using all the p features.\n",
    "* PCR and ridge regression are closely related. Ridge is a continous version of PCR. \n",
    "* In PCR, M is choosen using cross validation.\n",
    "* We need to make sure that all variables are standardized before PCA otherwise high scale or variance variables will play a larger role in PC obtained.\n",
    "\n",
    "__Drawback of PCA__ :- The $Z_1, Z_2, .... , Z_n$ are identified in unsupervised way with an assumption that they are related to response variable in same way, which might not be true.\n",
    "\n",
    "### Partial Least Squares \n",
    "PLS tries to find linear combination of $X_1, ... , X_n$ that explains response as well as predictors.\n",
    "\n",
    "__How to calculate__ :-\n",
    "1. Standardize p predictors.\n",
    "2. Assign weight to each predictors equal to the coefficients that comes from regression Y on $X_i$ or the correlation coefficient of Y and $X_i$. \n",
    "$$\\phi_{ji} = \\beta_j\\ \\ (from\\ model\\ Y = \\beta_j X)$$\n",
    "So we are putting highest weight to variable which is most correlated with response.\n",
    "3. To identify 2nd PLS direction, we adjust all variables for $Z_1$ i.e. we regress all variable on $Z_1$ and then calculate the residual. This will give us unexplained variation in each variable. \n",
    "4. Then $Z_2$ is calculated as linear combination of all these p residuals same as earlier, and so on....\n",
    "\n",
    "Value M decided from CV. In practice, ridge and PCR might perform similar. PLS can reduce bias but can also increase variance.\n",
    "\n",
    "### High Dimensional Data\n",
    "* Traditional techniques of classification and regression will not work in high dimensional setting i.e. $p\\ge n$.\n",
    "* Least squares shouldn't be used if $p \\ge n$. For p = n, least squares will give the perfect fit on training set and hence will overfit.\n",
    "* Same logic applies to logistic regression and linear discriminant analysis.\n",
    "* Adjusting the training set RSS or $R^2$ in order to account for number of variables using $C_p$, AIC, BIC do not work in high dimensional setting as $\\sigma^2$ almost becomes zero.\n",
    "* Similarly, adjusted $R^2$ also becomes almost equal to $R^2$ as n = p and one can obtain a model with adjusted $R^2$.\n",
    "\n",
    "* In high dimensional settings, stepwise, PCA, shrinkage methods proves quite useful. These methods protects from overfitted models.\n",
    "* Regularization plays an important role in high dimensional problems.\n",
    "* Appropriate tuning parameters selection is crucial.\n",
    "* Test error tends to increase as dimension increase unless the additional features are truly associated with the response.\n",
    "* Adding feature that truly associated with response will improve fit.\n",
    "* Even if feature is relevant, the variance incurred in fitting their coefficients may outweigh the reduction in bias that they bring. Having a test dataset is crucial.\n",
    "\n",
    "## Lab : Subset Selection Methods\n",
    "__1. Best Subset Selection__"
   ]
  },
  {
   "cell_type": "code",
   "execution_count": 2,
   "metadata": {},
   "outputs": [
    {
     "data": {
      "text/plain": [
       "59"
      ]
     },
     "execution_count": 2,
     "metadata": {},
     "output_type": "execute_result"
    }
   ],
   "source": [
    "# Loading Hitters data\n",
    "url = \"https://raw.githubusercontent.com/atystats/ISLR_Notes_codes/master/Datasets/Hitters.csv\"\n",
    "Hitters = pd.read_csv(url)\n",
    "# checking for the null values in the data.\n",
    "Hitters[\"Salary\"].isna().sum()"
   ]
  },
  {
   "cell_type": "code",
   "execution_count": 3,
   "metadata": {},
   "outputs": [
    {
     "data": {
      "text/plain": [
       "(263, 20)"
      ]
     },
     "execution_count": 3,
     "metadata": {},
     "output_type": "execute_result"
    }
   ],
   "source": [
    "#Omit values that have NA\n",
    "Hitters = Hitters.dropna()\n",
    "Hitters.shape"
   ]
  },
  {
   "cell_type": "code",
   "execution_count": 4,
   "metadata": {},
   "outputs": [
    {
     "data": {
      "text/plain": [
       "0"
      ]
     },
     "execution_count": 4,
     "metadata": {},
     "output_type": "execute_result"
    }
   ],
   "source": [
    "Hitters[\"Salary\"].isna().sum()"
   ]
  },
  {
   "cell_type": "code",
   "execution_count": 5,
   "metadata": {},
   "outputs": [
    {
     "name": "stdout",
     "output_type": "stream",
     "text": [
      "Done for :  0\n",
      "Done for :  1\n",
      "Done for :  2\n",
      "Done for :  3\n",
      "Done for :  4\n",
      "Done for :  5\n",
      "Done for :  6\n",
      "Done for :  7\n",
      "Done for :  8\n",
      "Done for :  9\n",
      "Done for :  10\n",
      "Done for :  11\n",
      "Done for :  12\n",
      "Done for :  13\n",
      "Done for :  14\n",
      "Done for :  15\n",
      "Done for :  16\n",
      "Done for :  17\n",
      "Done for :  18\n"
     ]
    }
   ],
   "source": [
    "def Best_subset_selection(dataset,response):\n",
    "    variables = dataset.columns\n",
    "    variables = variables.drop(response)\n",
    "    results = []\n",
    "    for k in range(len(variables)):\n",
    "        for subset in itertools.combinations(variables,k+1):\n",
    "            all_columns = \"+\".join(list(subset))\n",
    "            \n",
    "            my_formula = response + '~' + all_columns\n",
    "            model = ols(formula = my_formula, data = dataset).fit()\n",
    "            results.append({\"RSS\":model.mse_resid, \"R_squared\": model.rsquared,\"Variable_count\": k+1, \n",
    "                            'resid_sum': (model.resid ** 2).sum(), 'BIC': model.bic, \n",
    "                            'Adjusted_R2': model.rsquared_adj})\n",
    "        print(\"Done for : \",k)\n",
    "    Matrices = pd.DataFrame(results)\n",
    "    return(Matrices)\n",
    "Metrices = Best_subset_selection(Hitters, \"Salary\")"
   ]
  },
  {
   "cell_type": "code",
   "execution_count": 31,
   "metadata": {},
   "outputs": [],
   "source": [
    "sigma_sq = Metrices[Metrices['Variable_count']== len(Hitters.columns) -1]['resid_sum']/(len(Hitters) - len(Hitters.columns) -1)\n",
    "Metrices[\"Cp\"] = (Metrices['resid_sum'] + 2 * Metrices['Variable_count'] * sigma_sq.values)/len(Hitters)\n",
    "\n",
    "# Function to calculate the different statistics corresponding to each subset of varibles.\n",
    "def BSS_metrices(matrix, data):    \n",
    "    Min_RSS = matrix.groupby([\"Variable_count\"])['RSS'].min().reset_index()\n",
    "    Max_R2 = matrix.groupby([\"Variable_count\"])['R_squared'].max().reset_index()\n",
    "    Min_BIC = matrix.groupby([\"Variable_count\"])['BIC'].min().reset_index()\n",
    "    Max_adj_R2 = matrix.groupby([\"Variable_count\"])['Adjusted_R2'].max().reset_index()\n",
    "    sigma_sq = matrix[matrix['Variable_count']== len(data.columns) -1]['resid_sum']/(len(data) - len(data.columns) -1)\n",
    "    Min_Cp = matrix.groupby([\"Variable_count\"])['Cp'].min().reset_index()\n",
    "    All_mat = pd.concat([Min_RSS, Max_R2[\"R_squared\"], Min_BIC[\"BIC\"], Max_adj_R2[\"Adjusted_R2\"], Min_Cp[\"Cp\"]], axis = 1)\n",
    "    return(All_mat)\n",
    "\n",
    "Eval_mat = BSS_metrices(Metrices,Hitters)"
   ]
  },
  {
   "cell_type": "code",
   "execution_count": 82,
   "metadata": {},
   "outputs": [
    {
     "data": {
      "text/html": [
       "<div>\n",
       "<style scoped>\n",
       "    .dataframe tbody tr th:only-of-type {\n",
       "        vertical-align: middle;\n",
       "    }\n",
       "\n",
       "    .dataframe tbody tr th {\n",
       "        vertical-align: top;\n",
       "    }\n",
       "\n",
       "    .dataframe thead th {\n",
       "        text-align: right;\n",
       "    }\n",
       "</style>\n",
       "<table border=\"1\" class=\"dataframe\">\n",
       "  <thead>\n",
       "    <tr style=\"text-align: right;\">\n",
       "      <th></th>\n",
       "      <th>Variable_count</th>\n",
       "      <th>RSS</th>\n",
       "      <th>R_squared</th>\n",
       "      <th>BIC</th>\n",
       "      <th>Adjusted_R2</th>\n",
       "      <th>Cp</th>\n",
       "    </tr>\n",
       "  </thead>\n",
       "  <tbody>\n",
       "    <tr>\n",
       "      <th>0</th>\n",
       "      <td>1</td>\n",
       "      <td>138619.460747</td>\n",
       "      <td>0.321450</td>\n",
       "      <td>3869.283615</td>\n",
       "      <td>0.318850</td>\n",
       "      <td>138325.798618</td>\n",
       "    </tr>\n",
       "    <tr>\n",
       "      <th>1</th>\n",
       "      <td>2</td>\n",
       "      <td>117871.384194</td>\n",
       "      <td>0.425224</td>\n",
       "      <td>3831.203767</td>\n",
       "      <td>0.420802</td>\n",
       "      <td>118047.800202</td>\n",
       "    </tr>\n",
       "    <tr>\n",
       "      <th>2</th>\n",
       "      <td>3</td>\n",
       "      <td>112931.648092</td>\n",
       "      <td>0.451429</td>\n",
       "      <td>3824.503056</td>\n",
       "      <td>0.445075</td>\n",
       "      <td>113495.491255</td>\n",
       "    </tr>\n",
       "    <tr>\n",
       "      <th>3</th>\n",
       "      <td>4</td>\n",
       "      <td>108414.154325</td>\n",
       "      <td>0.475407</td>\n",
       "      <td>3818.321064</td>\n",
       "      <td>0.467273</td>\n",
       "      <td>109394.961755</td>\n",
       "    </tr>\n",
       "    <tr>\n",
       "      <th>4</th>\n",
       "      <td>5</td>\n",
       "      <td>105641.632031</td>\n",
       "      <td>0.490804</td>\n",
       "      <td>3816.058548</td>\n",
       "      <td>0.480897</td>\n",
       "      <td>107033.948057</td>\n",
       "    </tr>\n",
       "    <tr>\n",
       "      <th>5</th>\n",
       "      <td>6</td>\n",
       "      <td>102323.843467</td>\n",
       "      <td>0.508715</td>\n",
       "      <td>3812.213078</td>\n",
       "      <td>0.497200</td>\n",
       "      <td>104163.264700</td>\n",
       "    </tr>\n",
       "    <tr>\n",
       "      <th>6</th>\n",
       "      <td>7</td>\n",
       "      <td>101594.303924</td>\n",
       "      <td>0.514123</td>\n",
       "      <td>3814.874046</td>\n",
       "      <td>0.500785</td>\n",
       "      <td>103827.330687</td>\n",
       "    </tr>\n",
       "    <tr>\n",
       "      <th>7</th>\n",
       "      <td>8</td>\n",
       "      <td>98964.291098</td>\n",
       "      <td>0.528557</td>\n",
       "      <td>3812.514735</td>\n",
       "      <td>0.513708</td>\n",
       "      <td>101661.506427</td>\n",
       "    </tr>\n",
       "    <tr>\n",
       "      <th>8</th>\n",
       "      <td>9</td>\n",
       "      <td>98079.254492</td>\n",
       "      <td>0.534612</td>\n",
       "      <td>3814.686826</td>\n",
       "      <td>0.518057</td>\n",
       "      <td>101194.309579</td>\n",
       "    </tr>\n",
       "    <tr>\n",
       "      <th>9</th>\n",
       "      <td>10</td>\n",
       "      <td>97223.815626</td>\n",
       "      <td>0.540495</td>\n",
       "      <td>3816.913469</td>\n",
       "      <td>0.522261</td>\n",
       "      <td>100762.202859</td>\n",
       "    </tr>\n",
       "    <tr>\n",
       "      <th>10</th>\n",
       "      <td>11</td>\n",
       "      <td>97160.737257</td>\n",
       "      <td>0.542615</td>\n",
       "      <td>3821.269208</td>\n",
       "      <td>0.522571</td>\n",
       "      <td>101092.808544</td>\n",
       "    </tr>\n",
       "    <tr>\n",
       "      <th>11</th>\n",
       "      <td>12</td>\n",
       "      <td>97332.929517</td>\n",
       "      <td>0.543630</td>\n",
       "      <td>3826.257147</td>\n",
       "      <td>0.521724</td>\n",
       "      <td>101647.535195</td>\n",
       "    </tr>\n",
       "    <tr>\n",
       "      <th>12</th>\n",
       "      <td>13</td>\n",
       "      <td>97546.778467</td>\n",
       "      <td>0.544457</td>\n",
       "      <td>3831.352392</td>\n",
       "      <td>0.520674</td>\n",
       "      <td>102240.391622</td>\n",
       "    </tr>\n",
       "    <tr>\n",
       "      <th>13</th>\n",
       "      <td>14</td>\n",
       "      <td>97776.856423</td>\n",
       "      <td>0.545216</td>\n",
       "      <td>3836.485787</td>\n",
       "      <td>0.519543</td>\n",
       "      <td>102846.925219</td>\n",
       "    </tr>\n",
       "    <tr>\n",
       "      <th>14</th>\n",
       "      <td>15</td>\n",
       "      <td>98118.126944</td>\n",
       "      <td>0.545469</td>\n",
       "      <td>3841.911664</td>\n",
       "      <td>0.517866</td>\n",
       "      <td>103556.137173</td>\n",
       "    </tr>\n",
       "    <tr>\n",
       "      <th>15</th>\n",
       "      <td>16</td>\n",
       "      <td>98452.753955</td>\n",
       "      <td>0.545766</td>\n",
       "      <td>3847.312301</td>\n",
       "      <td>0.516222</td>\n",
       "      <td>104256.539831</td>\n",
       "    </tr>\n",
       "    <tr>\n",
       "      <th>16</th>\n",
       "      <td>17</td>\n",
       "      <td>98814.068394</td>\n",
       "      <td>0.545952</td>\n",
       "      <td>3852.776595</td>\n",
       "      <td>0.514446</td>\n",
       "      <td>104979.258710</td>\n",
       "    </tr>\n",
       "    <tr>\n",
       "      <th>17</th>\n",
       "      <td>18</td>\n",
       "      <td>99187.858027</td>\n",
       "      <td>0.546095</td>\n",
       "      <td>3858.266071</td>\n",
       "      <td>0.512610</td>\n",
       "      <td>105710.803894</td>\n",
       "    </tr>\n",
       "    <tr>\n",
       "      <th>18</th>\n",
       "      <td>19</td>\n",
       "      <td>99591.356180</td>\n",
       "      <td>0.546116</td>\n",
       "      <td>3863.825860</td>\n",
       "      <td>0.510627</td>\n",
       "      <td>106466.955888</td>\n",
       "    </tr>\n",
       "  </tbody>\n",
       "</table>\n",
       "</div>"
      ],
      "text/plain": [
       "    Variable_count            RSS  R_squared          BIC  Adjusted_R2  \\\n",
       "0                1  138619.460747   0.321450  3869.283615     0.318850   \n",
       "1                2  117871.384194   0.425224  3831.203767     0.420802   \n",
       "2                3  112931.648092   0.451429  3824.503056     0.445075   \n",
       "3                4  108414.154325   0.475407  3818.321064     0.467273   \n",
       "4                5  105641.632031   0.490804  3816.058548     0.480897   \n",
       "5                6  102323.843467   0.508715  3812.213078     0.497200   \n",
       "6                7  101594.303924   0.514123  3814.874046     0.500785   \n",
       "7                8   98964.291098   0.528557  3812.514735     0.513708   \n",
       "8                9   98079.254492   0.534612  3814.686826     0.518057   \n",
       "9               10   97223.815626   0.540495  3816.913469     0.522261   \n",
       "10              11   97160.737257   0.542615  3821.269208     0.522571   \n",
       "11              12   97332.929517   0.543630  3826.257147     0.521724   \n",
       "12              13   97546.778467   0.544457  3831.352392     0.520674   \n",
       "13              14   97776.856423   0.545216  3836.485787     0.519543   \n",
       "14              15   98118.126944   0.545469  3841.911664     0.517866   \n",
       "15              16   98452.753955   0.545766  3847.312301     0.516222   \n",
       "16              17   98814.068394   0.545952  3852.776595     0.514446   \n",
       "17              18   99187.858027   0.546095  3858.266071     0.512610   \n",
       "18              19   99591.356180   0.546116  3863.825860     0.510627   \n",
       "\n",
       "               Cp  \n",
       "0   138325.798618  \n",
       "1   118047.800202  \n",
       "2   113495.491255  \n",
       "3   109394.961755  \n",
       "4   107033.948057  \n",
       "5   104163.264700  \n",
       "6   103827.330687  \n",
       "7   101661.506427  \n",
       "8   101194.309579  \n",
       "9   100762.202859  \n",
       "10  101092.808544  \n",
       "11  101647.535195  \n",
       "12  102240.391622  \n",
       "13  102846.925219  \n",
       "14  103556.137173  \n",
       "15  104256.539831  \n",
       "16  104979.258710  \n",
       "17  105710.803894  \n",
       "18  106466.955888  "
      ]
     },
     "execution_count": 82,
     "metadata": {},
     "output_type": "execute_result"
    }
   ],
   "source": [
    "Eval_mat"
   ]
  },
  {
   "cell_type": "code",
   "execution_count": 84,
   "metadata": {},
   "outputs": [
    {
     "name": "stdout",
     "output_type": "stream",
     "text": [
      "('AtBat', 'Hits', 'Walks', 'CRBI', 'Division', 'PutOuts')\n"
     ]
    }
   ],
   "source": [
    "# Function to get the list of variables that resulted in best statistics defined.\n",
    "def get_best_param(Eval_mat, matrix, stats, dataset, response):\n",
    "    variables = dataset.columns\n",
    "    variables = variables.drop(response)\n",
    "    if stats in ['RSS','BIC','Cp']:        \n",
    "        no_var = (Eval_mat[Eval_mat[stats] == Eval_mat[stats].min()][\"Variable_count\"]).values[0]\n",
    "        min_val = Eval_mat[stats].min()\n",
    "        data = matrix[matrix['Variable_count'] == no_var]\n",
    "        print(list(itertools.combinations(variables,no_var))[data[data[stats] == min_val].index[0] - data.index[0]])\n",
    "    else:    \n",
    "        no_var = (Eval_mat[Eval_mat[stats] == Eval_mat[stats].max()][\"Variable_count\"]).values[0]\n",
    "        max_val = Eval_mat[stats].max()\n",
    "        data = matrix[matrix['Variable_count'] == no_var]\n",
    "        print(list(itertools.combinations(variables,no_var))[data[data[stats] == max_val].index[0] - data.index[0]])\n",
    "        \n",
    "get_best_param(Eval_mat, Metrices, 'BIC', Hitters, 'Salary')"
   ]
  },
  {
   "cell_type": "markdown",
   "metadata": {},
   "source": [
    "The above list of variables result in the minimum BIC. We can evaluate that for any statistic.\n",
    "\n",
    "__2. Forward Selection__"
   ]
  },
  {
   "cell_type": "code",
   "execution_count": 217,
   "metadata": {},
   "outputs": [
    {
     "name": "stdout",
     "output_type": "stream",
     "text": [
      "Done for  0\n",
      "Done for  1\n",
      "Done for  2\n",
      "Done for  3\n",
      "Done for  4\n",
      "Done for  5\n",
      "Done for  6\n",
      "Done for  7\n",
      "Done for  8\n",
      "Done for  9\n",
      "Done for  10\n",
      "Done for  11\n",
      "Done for  12\n",
      "Done for  13\n",
      "Done for  14\n",
      "Done for  15\n",
      "Done for  16\n",
      "Done for  17\n",
      "Done for  18\n"
     ]
    }
   ],
   "source": [
    "# This function will return the best model with lowest BIC using Forward Selection method\n",
    "def Forward_selection(dataset,response):\n",
    "    variables = dataset.columns\n",
    "    variables = variables.drop(response)\n",
    "    forward_sel = []\n",
    "    var_left = variables.copy()\n",
    "    BIC = []\n",
    "    \n",
    "    for k in range(len(variables)):\n",
    "        RSS = []\n",
    "        metric = []\n",
    "        \n",
    "        for p in range(len(var_left)):\n",
    "            subset = forward_sel + [var_left[p]]\n",
    "            all_columns = \"+\".join(subset)\n",
    "            my_formula = response + '~' + all_columns\n",
    "            model = ols(formula = my_formula, data = dataset).fit()\n",
    "            RSS.append(model.mse_resid)\n",
    "            metric.append(model.bic)\n",
    "            \n",
    "        forward_sel.append(var_left[RSS.index(min(RSS))])\n",
    "        BIC.append(metric[RSS.index(min(RSS))])\n",
    "            \n",
    "        var_left = [x for x in variables if x not in forward_sel]\n",
    "        print('Done for ', k)\n",
    "        \n",
    "    final_selection = forward_sel[:BIC.index(min(BIC))+1] # model with lowest BIC\n",
    "    \n",
    "    # Model for the final selection\n",
    "    all_col = \"+\".join(final_selection)\n",
    "    my_formula = response + '~' + all_col\n",
    "    model = ols(formula = my_formula, data = dataset).fit()\n",
    "\n",
    "    return model\n",
    "\n",
    "FS_model = Forward_selection(Hitters,'Salary')"
   ]
  },
  {
   "cell_type": "code",
   "execution_count": 218,
   "metadata": {},
   "outputs": [
    {
     "data": {
      "text/plain": [
       "Intercept         91.511798\n",
       "Division[T.W]   -122.951534\n",
       "CRBI               0.643017\n",
       "Hits               7.604398\n",
       "PutOuts            0.264308\n",
       "AtBat             -1.868589\n",
       "Walks              3.697647\n",
       "dtype: float64"
      ]
     },
     "execution_count": 218,
     "metadata": {},
     "output_type": "execute_result"
    }
   ],
   "source": [
    "# The model selected from the forward selection model is:-\n",
    "FS_model.params"
   ]
  },
  {
   "cell_type": "markdown",
   "metadata": {},
   "source": [
    "__3. Backward Selection__"
   ]
  },
  {
   "cell_type": "code",
   "execution_count": 266,
   "metadata": {},
   "outputs": [
    {
     "name": "stdout",
     "output_type": "stream",
     "text": [
      "Done for  0\n",
      "Done for  1\n",
      "Done for  2\n",
      "Done for  3\n",
      "Done for  4\n",
      "Done for  5\n",
      "Done for  6\n",
      "Done for  7\n",
      "Done for  8\n",
      "Done for  9\n",
      "Done for  10\n",
      "Done for  11\n",
      "Done for  12\n",
      "Done for  13\n",
      "Done for  14\n",
      "Done for  15\n",
      "Done for  16\n",
      "Done for  17\n",
      "Done for  18\n"
     ]
    }
   ],
   "source": [
    "# This function will return the best model with lowest BIC using Backward Selection method\n",
    "def Backward_selection(dataset,response):\n",
    "    variables = dataset.columns\n",
    "    variables = variables.drop(response)\n",
    "    backward_sel = []\n",
    "    var_left = variables.copy()\n",
    "    BIC = []\n",
    "    \n",
    "    for k in range(len(variables)):\n",
    "        RSS = []\n",
    "        metric = []\n",
    "        if k == 0:\n",
    "            subset = var_left\n",
    "            all_columns = \"+\".join(subset)\n",
    "            my_formula = response + '~' + all_columns\n",
    "            model = ols(formula = my_formula, data = dataset).fit()\n",
    "            \n",
    "            backward_sel.append(var_left)\n",
    "            BIC.append(model.bic)\n",
    "        \n",
    "        else:\n",
    "            for p in range(len(var_left)):\n",
    "                subset = [var_left[i] for i in range(len(var_left)) if i!= p]\n",
    "                all_columns = \"+\".join(subset)\n",
    "                my_formula = response + '~' + all_columns\n",
    "                model = ols(formula = my_formula, data = dataset).fit()\n",
    "                RSS.append(model.mse_resid)\n",
    "                metric.append(model.bic)\n",
    "            \n",
    "            backward_sel.append([var_left[i] for i in range(len(var_left)) if i!= RSS.index(min(RSS))])\n",
    "            BIC.append(metric[RSS.index(min(RSS))])\n",
    "            \n",
    "            var_left = np.delete(var_left, RSS.index(min(RSS)))\n",
    "        \n",
    "        print('Done for ', k)\n",
    "        \n",
    "    final_selection = backward_sel[BIC.index(min(BIC))] # model with lowest BIC\n",
    "    \n",
    "    # Model for the final selection\n",
    "    all_col = \"+\".join(final_selection)\n",
    "    my_formula = response + '~' + all_col\n",
    "    model = ols(formula = my_formula, data = dataset).fit()\n",
    "\n",
    "    return model\n",
    "\n",
    "BS_model = Backward_selection(Hitters,'Salary')"
   ]
  },
  {
   "cell_type": "code",
   "execution_count": 268,
   "metadata": {},
   "outputs": [
    {
     "data": {
      "text/plain": [
       "Intercept        117.152043\n",
       "Division[T.W]   -123.779837\n",
       "AtBat             -2.033921\n",
       "Hits               6.854914\n",
       "Walks              6.440664\n",
       "CRuns              0.704539\n",
       "CRBI               0.527324\n",
       "CWalks            -0.806606\n",
       "PutOuts            0.275389\n",
       "dtype: float64"
      ]
     },
     "execution_count": 268,
     "metadata": {},
     "output_type": "execute_result"
    }
   ],
   "source": [
    "BS_model.params"
   ]
  },
  {
   "cell_type": "markdown",
   "metadata": {},
   "source": [
    "We can see that forward and backward selection leads to different selection of model. Now in the above 2 approaches we have used BIC to select among the models. \n",
    " \n",
    "## Lab 2: Ridge Regression and Lasso\n",
    "\n",
    "__Ridge Regression__"
   ]
  },
  {
   "cell_type": "code",
   "execution_count": 64,
   "metadata": {},
   "outputs": [],
   "source": [
    "# Loading Hitters data\n",
    "url = \"https://raw.githubusercontent.com/atystats/ISLR_Notes_codes/master/Datasets/Hitters.csv\"\n",
    "Hitters = pd.read_csv(url)\n",
    "Hitters = Hitters.dropna()\n",
    "\n",
    "dummy = pd.get_dummies(Hitters[['League','Division','NewLeague']]) # Creating dummies for categorical vars\n",
    "Hitters = pd.concat([Hitters,dummy],axis = 1)\n",
    "# Code for fitting ridge regression model for different values of lambda.\n",
    "X = np.array(Hitters.drop(['Salary','League','Division','NewLeague','League_A',\n",
    "                          'Division_E','NewLeague_A'], axis = 1))\n",
    "y = np.array(Hitters['Salary'])\n",
    "scaler = StandardScaler().fit(X)\n",
    "X = scaler.transform(X)\n",
    "lambda_range = 10**np.linspace(10,-2,100)\n",
    "coef = []\n",
    "for l in lambda_range:\n",
    "    model = Ridge(alpha = l)\n",
    "    model.fit(X,y)\n",
    "    coef.append(list(model.coef_))\n",
    "col = Hitters.drop(['Salary','League','Division','NewLeague','League_A','Division_E','NewLeague_A'], axis = 1).columns\n",
    "coef_df = pd.DataFrame(coef,columns = col, index = lambda_range)\n",
    "del coef"
   ]
  },
  {
   "cell_type": "code",
   "execution_count": 65,
   "metadata": {},
   "outputs": [
    {
     "data": {
      "text/plain": [
       "(100, 19)"
      ]
     },
     "execution_count": 65,
     "metadata": {},
     "output_type": "execute_result"
    }
   ],
   "source": [
    "coef_df.shape"
   ]
  },
  {
   "cell_type": "code",
   "execution_count": 66,
   "metadata": {},
   "outputs": [
    {
     "data": {
      "text/plain": [
       "11497.569953977356"
      ]
     },
     "execution_count": 66,
     "metadata": {},
     "output_type": "execute_result"
    }
   ],
   "source": [
    "coef_df.index[49] # to get the 50th index"
   ]
  },
  {
   "cell_type": "code",
   "execution_count": 71,
   "metadata": {},
   "outputs": [
    {
     "data": {
      "text/plain": [
       "AtBat          3.494574\n",
       "Hits           3.952735\n",
       "HmRun          2.983900\n",
       "Runs           3.754690\n",
       "RBI            3.981076\n",
       "Walks          3.991857\n",
       "Years          3.461209\n",
       "CAtBat         4.617142\n",
       "CHits          4.848250\n",
       "CHmRun         4.625988\n",
       "CRuns          4.969938\n",
       "CRBI           5.008957\n",
       "CWalks         4.275527\n",
       "PutOuts        2.837986\n",
       "Assists        0.236442\n",
       "Errors        -0.069616\n",
       "League_N      -0.034223\n",
       "Division_W    -1.877802\n",
       "NewLeague_N    0.048489\n",
       "Name: 11497.569953977356, dtype: float64"
      ]
     },
     "execution_count": 71,
     "metadata": {},
     "output_type": "execute_result"
    }
   ],
   "source": [
    "coef_df.iloc[49,] # Coefficient for lambda = 11497.569953977356"
   ]
  },
  {
   "cell_type": "code",
   "execution_count": 75,
   "metadata": {},
   "outputs": [
    {
     "data": {
      "text/plain": [
       "15.509329901628673"
      ]
     },
     "execution_count": 75,
     "metadata": {},
     "output_type": "execute_result"
    }
   ],
   "source": [
    "np.sqrt((coef_df.iloc[49,]**2).sum())"
   ]
  },
  {
   "cell_type": "code",
   "execution_count": 76,
   "metadata": {},
   "outputs": [
    {
     "data": {
      "text/plain": [
       "705.4802310718645"
      ]
     },
     "execution_count": 76,
     "metadata": {},
     "output_type": "execute_result"
    }
   ],
   "source": [
    "coef_df.index[59] # to get the 60th index"
   ]
  },
  {
   "cell_type": "code",
   "execution_count": 77,
   "metadata": {},
   "outputs": [
    {
     "data": {
      "text/plain": [
       "AtBat          16.436909\n",
       "Hits           24.147890\n",
       "HmRun          11.541520\n",
       "Runs           20.796881\n",
       "RBI            19.997243\n",
       "Walks          23.885453\n",
       "Years          13.478743\n",
       "CAtBat         22.482103\n",
       "CHits          25.850293\n",
       "CHmRun         23.990950\n",
       "CRuns          26.454467\n",
       "CRBI           26.819732\n",
       "CWalks         18.862008\n",
       "PutOuts        24.649574\n",
       "Assists         1.677569\n",
       "Errors         -2.602909\n",
       "League_N        4.294669\n",
       "Division_W    -19.598632\n",
       "NewLeague_N     3.190716\n",
       "Name: 705.4802310718645, dtype: float64"
      ]
     },
     "execution_count": 77,
     "metadata": {},
     "output_type": "execute_result"
    }
   ],
   "source": [
    "coef_df.iloc[59,] # Coefficient for lambda = 705.4802310718645"
   ]
  },
  {
   "cell_type": "code",
   "execution_count": 79,
   "metadata": {},
   "outputs": [
    {
     "data": {
      "text/plain": [
       "84.41074083895579"
      ]
     },
     "execution_count": 79,
     "metadata": {},
     "output_type": "execute_result"
    }
   ],
   "source": [
    "np.sqrt((coef_df.iloc[59,]**2).sum()) # l2 norm"
   ]
  },
  {
   "cell_type": "code",
   "execution_count": 113,
   "metadata": {},
   "outputs": [
    {
     "data": {
      "text/plain": [
       "122.0"
      ]
     },
     "execution_count": 113,
     "metadata": {},
     "output_type": "execute_result"
    }
   ],
   "source": [
    "# Dividing the data in train and test\n",
    "lambda_range = np.linspace(1,500,500)\n",
    "\n",
    "X_train, X_test, y_train, y_test = train_test_split(X, y, test_size=0.50, random_state=70)\n",
    "cv_ridge = RidgeCV(alphas = lambda_range).fit(X_train,y_train)\n",
    "cv_ridge.alpha_ \n",
    "# The value of lambda will change based on the random split of the data."
   ]
  },
  {
   "cell_type": "code",
   "execution_count": 114,
   "metadata": {},
   "outputs": [
    {
     "data": {
      "text/plain": [
       "101745.10126424646"
      ]
     },
     "execution_count": 114,
     "metadata": {},
     "output_type": "execute_result"
    }
   ],
   "source": [
    "# Calculating the MSE on the test data set.\n",
    "ridge_predict = cv_ridge.predict(X_test)\n",
    "((ridge_predict - y_test) ** 2).mean()"
   ]
  },
  {
   "cell_type": "markdown",
   "metadata": {},
   "source": [
    "__Lasso Regression__"
   ]
  },
  {
   "cell_type": "code",
   "execution_count": 119,
   "metadata": {},
   "outputs": [],
   "source": [
    "## Lasso Regression \n",
    "lambda_range = np.linspace(1,1000,100)\n",
    "coef = []\n",
    "for l in lambda_range:\n",
    "    model = Lasso(alpha = l)\n",
    "    model.fit(X,y)\n",
    "    coef.append(list(model.coef_))\n",
    "col = Hitters.drop(['Salary','League','Division','NewLeague','League_A','Division_E','NewLeague_A'], axis = 1).columns\n",
    "coef_df = pd.DataFrame(coef,columns = col, index = lambda_range)\n",
    "del coef"
   ]
  },
  {
   "cell_type": "markdown",
   "metadata": {},
   "source": [
    "Similar to ridge, LassoCV can help us in identifying the value of $\\lambda$ for which error is minimum."
   ]
  },
  {
   "cell_type": "code",
   "execution_count": 125,
   "metadata": {},
   "outputs": [
    {
     "name": "stderr",
     "output_type": "stream",
     "text": [
      "/Users/ankittyagi/anaconda3/lib/python3.6/site-packages/sklearn/linear_model/_coordinate_descent.py:472: ConvergenceWarning: Objective did not converge. You might want to increase the number of iterations. Duality gap: 4458.029246231541, tolerance: 2115.8083984058994\n",
      "  tol, rng, random, positive)\n",
      "/Users/ankittyagi/anaconda3/lib/python3.6/site-packages/sklearn/linear_model/_coordinate_descent.py:472: ConvergenceWarning: Objective did not converge. You might want to increase the number of iterations. Duality gap: 6655.831660654396, tolerance: 2115.8083984058994\n",
      "  tol, rng, random, positive)\n",
      "/Users/ankittyagi/anaconda3/lib/python3.6/site-packages/sklearn/linear_model/_coordinate_descent.py:472: ConvergenceWarning: Objective did not converge. You might want to increase the number of iterations. Duality gap: 7089.927342426032, tolerance: 2115.8083984058994\n",
      "  tol, rng, random, positive)\n",
      "/Users/ankittyagi/anaconda3/lib/python3.6/site-packages/sklearn/linear_model/_coordinate_descent.py:472: ConvergenceWarning: Objective did not converge. You might want to increase the number of iterations. Duality gap: 7032.378848934546, tolerance: 2115.8083984058994\n",
      "  tol, rng, random, positive)\n",
      "/Users/ankittyagi/anaconda3/lib/python3.6/site-packages/sklearn/linear_model/_coordinate_descent.py:472: ConvergenceWarning: Objective did not converge. You might want to increase the number of iterations. Duality gap: 6889.389786044136, tolerance: 2115.8083984058994\n",
      "  tol, rng, random, positive)\n",
      "/Users/ankittyagi/anaconda3/lib/python3.6/site-packages/sklearn/linear_model/_coordinate_descent.py:472: ConvergenceWarning: Objective did not converge. You might want to increase the number of iterations. Duality gap: 6730.57645384036, tolerance: 2115.8083984058994\n",
      "  tol, rng, random, positive)\n",
      "/Users/ankittyagi/anaconda3/lib/python3.6/site-packages/sklearn/linear_model/_coordinate_descent.py:472: ConvergenceWarning: Objective did not converge. You might want to increase the number of iterations. Duality gap: 6569.019320689142, tolerance: 2115.8083984058994\n",
      "  tol, rng, random, positive)\n",
      "/Users/ankittyagi/anaconda3/lib/python3.6/site-packages/sklearn/linear_model/_coordinate_descent.py:472: ConvergenceWarning: Objective did not converge. You might want to increase the number of iterations. Duality gap: 6408.09735677205, tolerance: 2115.8083984058994\n",
      "  tol, rng, random, positive)\n",
      "/Users/ankittyagi/anaconda3/lib/python3.6/site-packages/sklearn/linear_model/_coordinate_descent.py:472: ConvergenceWarning: Objective did not converge. You might want to increase the number of iterations. Duality gap: 6648.524306010455, tolerance: 2115.8083984058994\n",
      "  tol, rng, random, positive)\n",
      "/Users/ankittyagi/anaconda3/lib/python3.6/site-packages/sklearn/linear_model/_coordinate_descent.py:472: ConvergenceWarning: Objective did not converge. You might want to increase the number of iterations. Duality gap: 4763.0020893365145, tolerance: 2115.8083984058994\n",
      "  tol, rng, random, positive)\n",
      "/Users/ankittyagi/anaconda3/lib/python3.6/site-packages/sklearn/linear_model/_coordinate_descent.py:472: ConvergenceWarning: Objective did not converge. You might want to increase the number of iterations. Duality gap: 4215.332429364324, tolerance: 2115.8083984058994\n",
      "  tol, rng, random, positive)\n",
      "/Users/ankittyagi/anaconda3/lib/python3.6/site-packages/sklearn/linear_model/_coordinate_descent.py:472: ConvergenceWarning: Objective did not converge. You might want to increase the number of iterations. Duality gap: 4072.493425924331, tolerance: 2115.8083984058994\n",
      "  tol, rng, random, positive)\n",
      "/Users/ankittyagi/anaconda3/lib/python3.6/site-packages/sklearn/linear_model/_coordinate_descent.py:472: ConvergenceWarning: Objective did not converge. You might want to increase the number of iterations. Duality gap: 3957.901732854545, tolerance: 2115.8083984058994\n",
      "  tol, rng, random, positive)\n",
      "/Users/ankittyagi/anaconda3/lib/python3.6/site-packages/sklearn/linear_model/_coordinate_descent.py:472: ConvergenceWarning: Objective did not converge. You might want to increase the number of iterations. Duality gap: 3848.3258164711297, tolerance: 2115.8083984058994\n",
      "  tol, rng, random, positive)\n",
      "/Users/ankittyagi/anaconda3/lib/python3.6/site-packages/sklearn/linear_model/_coordinate_descent.py:472: ConvergenceWarning: Objective did not converge. You might want to increase the number of iterations. Duality gap: 3742.5757653508335, tolerance: 2115.8083984058994\n",
      "  tol, rng, random, positive)\n",
      "/Users/ankittyagi/anaconda3/lib/python3.6/site-packages/sklearn/linear_model/_coordinate_descent.py:472: ConvergenceWarning: Objective did not converge. You might want to increase the number of iterations. Duality gap: 2716.544500304386, tolerance: 2402.372236593463\n",
      "  tol, rng, random, positive)\n",
      "/Users/ankittyagi/anaconda3/lib/python3.6/site-packages/sklearn/linear_model/_coordinate_descent.py:472: ConvergenceWarning: Objective did not converge. You might want to increase the number of iterations. Duality gap: 3268.6517897937447, tolerance: 2402.372236593463\n",
      "  tol, rng, random, positive)\n",
      "/Users/ankittyagi/anaconda3/lib/python3.6/site-packages/sklearn/linear_model/_coordinate_descent.py:472: ConvergenceWarning: Objective did not converge. You might want to increase the number of iterations. Duality gap: 3256.3757294006646, tolerance: 2402.372236593463\n",
      "  tol, rng, random, positive)\n",
      "/Users/ankittyagi/anaconda3/lib/python3.6/site-packages/sklearn/linear_model/_coordinate_descent.py:472: ConvergenceWarning: Objective did not converge. You might want to increase the number of iterations. Duality gap: 3193.075367487967, tolerance: 2402.372236593463\n",
      "  tol, rng, random, positive)\n",
      "/Users/ankittyagi/anaconda3/lib/python3.6/site-packages/sklearn/linear_model/_coordinate_descent.py:472: ConvergenceWarning: Objective did not converge. You might want to increase the number of iterations. Duality gap: 3125.140669375658, tolerance: 2402.372236593463\n",
      "  tol, rng, random, positive)\n",
      "/Users/ankittyagi/anaconda3/lib/python3.6/site-packages/sklearn/linear_model/_coordinate_descent.py:472: ConvergenceWarning: Objective did not converge. You might want to increase the number of iterations. Duality gap: 3057.0923619121313, tolerance: 2402.372236593463\n",
      "  tol, rng, random, positive)\n",
      "/Users/ankittyagi/anaconda3/lib/python3.6/site-packages/sklearn/linear_model/_coordinate_descent.py:472: ConvergenceWarning: Objective did not converge. You might want to increase the number of iterations. Duality gap: 2989.80492339842, tolerance: 2402.372236593463\n",
      "  tol, rng, random, positive)\n",
      "/Users/ankittyagi/anaconda3/lib/python3.6/site-packages/sklearn/linear_model/_coordinate_descent.py:472: ConvergenceWarning: Objective did not converge. You might want to increase the number of iterations. Duality gap: 2923.746753938496, tolerance: 2402.372236593463\n",
      "  tol, rng, random, positive)\n"
     ]
    },
    {
     "data": {
      "text/plain": [
       "100680.46115150684"
      ]
     },
     "execution_count": 125,
     "metadata": {},
     "output_type": "execute_result"
    }
   ],
   "source": [
    "cv_Lasso = LassoCV().fit(X_train,y_train)\n",
    "Lasso_predict = cv_Lasso.predict(X_test)\n",
    "((Lasso_predict - y_test) ** 2).mean()"
   ]
  },
  {
   "cell_type": "code",
   "execution_count": 126,
   "metadata": {},
   "outputs": [
    {
     "data": {
      "text/plain": [
       "array([  0.        ,  79.03854298,  -0.        ,   0.        ,\n",
       "         0.        ,  15.71341079,   0.        ,   0.        ,\n",
       "        39.63770893,   0.        ,   0.        , 161.6793307 ,\n",
       "         0.        ,  58.16239304,  21.91091686,  -0.        ,\n",
       "         0.        , -53.76668353,   0.        ])"
      ]
     },
     "execution_count": 126,
     "metadata": {},
     "output_type": "execute_result"
    }
   ],
   "source": [
    "cv_Lasso.coef_"
   ]
  },
  {
   "cell_type": "markdown",
   "metadata": {},
   "source": [
    "We can see that in Lasso a lot coefficient has converged to zero."
   ]
  },
  {
   "cell_type": "markdown",
   "metadata": {},
   "source": [
    "## Lab 3: PCR and PLS Regression\n",
    "__Principal Component Regression__"
   ]
  },
  {
   "cell_type": "code",
   "execution_count": 10,
   "metadata": {},
   "outputs": [
    {
     "data": {
      "text/plain": [
       "PCA(copy=True, iterated_power='auto', n_components=19, random_state=None,\n",
       "    svd_solver='auto', tol=0.0, whiten=False)"
      ]
     },
     "execution_count": 10,
     "metadata": {},
     "output_type": "execute_result"
    }
   ],
   "source": [
    "# Loading Hitters data\n",
    "url = \"https://raw.githubusercontent.com/atystats/ISLR_Notes_codes/master/Datasets/Hitters.csv\"\n",
    "Hitters = pd.read_csv(url)\n",
    "Hitters = Hitters.dropna()\n",
    "\n",
    "dummy = pd.get_dummies(Hitters[['League','Division','NewLeague']]) # Creating dummies for categorical vars\n",
    "Hitters = pd.concat([Hitters,dummy],axis = 1)\n",
    "\n",
    "X = np.array(Hitters.drop(['Salary','League','Division','NewLeague','League_A',\n",
    "                          'Division_E','NewLeague_A'], axis = 1))\n",
    "y = np.array(Hitters['Salary'])\n",
    "scaler = StandardScaler().fit(X)\n",
    "X = scaler.transform(X)\n",
    "\n",
    "# Fitting PCA\n",
    "pca = PCA(n_components = 19)\n",
    "pca.fit(X)"
   ]
  },
  {
   "cell_type": "code",
   "execution_count": 40,
   "metadata": {},
   "outputs": [
    {
     "data": {
      "text/plain": [
       "array([3.83142396e-01, 2.18410758e-01, 1.06863592e-01, 8.19251975e-02,\n",
       "       5.25608081e-02, 4.34450422e-02, 3.62810828e-02, 2.70015556e-02,\n",
       "       1.31964802e-02, 9.72721749e-03, 7.22341252e-03, 6.70946072e-03,\n",
       "       5.03086617e-03, 3.21246472e-03, 2.73557843e-03, 1.47396692e-03,\n",
       "       7.41715623e-04, 2.55915858e-04, 6.24891919e-05])"
      ]
     },
     "execution_count": 40,
     "metadata": {},
     "output_type": "execute_result"
    }
   ],
   "source": [
    "# How much variance is explained by each compoenent.\n",
    "pca.explained_variance_ratio_"
   ]
  },
  {
   "cell_type": "markdown",
   "metadata": {},
   "source": [
    "The Python don't have a PCA cross validation function, so we have to code it."
   ]
  },
  {
   "cell_type": "code",
   "execution_count": 23,
   "metadata": {},
   "outputs": [
    {
     "name": "stdout",
     "output_type": "stream",
     "text": [
      ">1 121369.299 (47132.870)\n",
      ">2 122581.860 (69195.720)\n",
      ">3 124059.099 (69387.224)\n",
      ">4 123199.242 (91331.429)\n",
      ">5 123690.074 (59827.899)\n",
      ">6 119877.200 (56066.912)\n",
      ">7 117451.409 (61096.617)\n",
      ">8 117979.184 (66005.564)\n",
      ">9 122390.575 (73349.697)\n",
      ">10 120649.569 (68724.591)\n",
      ">11 120530.173 (59023.515)\n",
      ">12 125275.268 (83550.663)\n",
      ">13 123103.712 (75314.078)\n",
      ">14 117480.839 (65114.187)\n",
      ">15 125833.622 (67782.594)\n",
      ">16 124351.700 (71290.374)\n",
      ">17 114256.317 (69331.957)\n",
      ">18 115640.006 (53347.900)\n",
      ">19 117928.920 (60621.479)\n"
     ]
    }
   ],
   "source": [
    "# Get a list of models to evaluate\n",
    "mse = make_scorer(mean_squared_error)\n",
    "\n",
    "def get_models():\n",
    "    models = dict()\n",
    "    for i in range(1,20):\n",
    "        steps = [('pca',PCA(n_components = i)),('m',LinearRegression())]\n",
    "        models[str(i)] = Pipeline(steps = steps)\n",
    "    return models\n",
    "\n",
    "# evaluate a given model using cross-validation\n",
    "def evaluate_model(model):\n",
    "    cv = KFold(n_splits = 10, shuffle =  True, random_state = random.randint(1,100))\n",
    "    scores = cross_val_score(model, X, y, scoring= mse, cv=cv, n_jobs=-1)\n",
    "    return scores\n",
    "\n",
    "# get the models to evaluate\n",
    "models = get_models()\n",
    "\n",
    "# evaluate the models and store results\n",
    "results, names = list(), list()\n",
    "for name, model in models.items():\n",
    "    scores = evaluate_model(model)\n",
    "    results.append(scores)\n",
    "    names.append(name)\n",
    "    print('>%s %.3f (%.3f)' % (name, np.mean(scores), np.std(scores)))\n",
    "    "
   ]
  },
  {
   "cell_type": "code",
   "execution_count": 38,
   "metadata": {},
   "outputs": [
    {
     "data": {
      "image/png": "[encoded data removed]",
      "text/plain": [
       "<Figure size 432x288 with 1 Axes>"
      ]
     },
     "metadata": {
      "needs_background": "light"
     },
     "output_type": "display_data"
    }
   ],
   "source": [
    "plt.plot(np.mean(results, axis = 1))\n",
    "plt.xticks(list(range(0,19)))\n",
    "plt.show()"
   ]
  },
  {
   "cell_type": "markdown",
   "metadata": {},
   "source": [
    "As can be seen from the plot that cross validation error is smallest when components are 17. But as we have seen that the variance explained is also very small after 10 components, a smaller n_components can be used."
   ]
  },
  {
   "cell_type": "code",
   "execution_count": 41,
   "metadata": {},
   "outputs": [
    {
     "data": {
      "image/png": "[encoded data removed]",
      "text/plain": [
       "<Figure size 432x288 with 1 Axes>"
      ]
     },
     "metadata": {
      "needs_background": "light"
     },
     "output_type": "display_data"
    }
   ],
   "source": [
    "# Now we will fit the PCR on the training data and calculate the error \n",
    "X_train, X_test, y_train, y_test = train_test_split(X, y, test_size=0.50, random_state=70)\n",
    "def get_models():\n",
    "    models = dict()\n",
    "    for i in range(1,20):\n",
    "        steps = [('pca',PCA(n_components = i)),('m',LinearRegression())]\n",
    "        models[str(i)] = Pipeline(steps = steps)\n",
    "    return models\n",
    "\n",
    "# evaluate a given model using cross-validation\n",
    "def evaluate_model(model):\n",
    "    cv = KFold(n_splits = 10, shuffle =  True, random_state = random.randint(1,100))\n",
    "    scores = cross_val_score(model, X_train, y_train, scoring= mse, cv=cv, n_jobs=-1)\n",
    "    return scores\n",
    "\n",
    "# get the models to evaluate\n",
    "models = get_models()\n",
    "\n",
    "# evaluate the models and store results\n",
    "results, names = list(), list()\n",
    "for name, model in models.items():\n",
    "    scores = evaluate_model(model)\n",
    "    results.append(scores)\n",
    "    names.append(name)\n",
    "    \n",
    "plt.plot(np.mean(results, axis = 1))\n",
    "plt.xticks(list(range(0,19)))\n",
    "plt.show()"
   ]
  },
  {
   "cell_type": "markdown",
   "metadata": {},
   "source": [
    "This time it looks like the number of components are just 9. Now we will calculate the error on the test dataset."
   ]
  },
  {
   "cell_type": "code",
   "execution_count": 66,
   "metadata": {},
   "outputs": [
    {
     "data": {
      "text/plain": [
       "98787.91999183677"
      ]
     },
     "execution_count": 66,
     "metadata": {},
     "output_type": "execute_result"
    }
   ],
   "source": [
    "# fit the PCA and transform the training and test dataset\n",
    "X_train_PCA = models['8']['pca'].fit_transform(X_train)\n",
    "X_test_PCA = models['8']['pca'].transform(X_test)\n",
    "\n",
    "lm = LinearRegression()\n",
    "lm.fit(X_train_PCA, y_train)\n",
    "np.mean((lm.predict(X_test_PCA) - y_test)**2)"
   ]
  },
  {
   "cell_type": "markdown",
   "metadata": {},
   "source": [
    "The error is slightly smaller than the error we got from Lasso regression model. However the result of PCA are interpretable as it is not producing the coefficients.\n",
    "\n",
    "__Partial Least Squares__"
   ]
  },
  {
   "cell_type": "code",
   "execution_count": 96,
   "metadata": {},
   "outputs": [
    {
     "data": {
      "text/plain": [
       "PLSRegression(copy=True, max_iter=500, n_components=2, scale=True, tol=1e-06)"
      ]
     },
     "execution_count": 96,
     "metadata": {},
     "output_type": "execute_result"
    }
   ],
   "source": [
    "pls = PLSRegression(n_components = 19)\n",
    "pls.fit(X,y)\n",
    "\n",
    "# PLS don't tell the variance explained by each component. We will try to code it.\n",
    "total_variance_in_x = np.var(X, axis = 0)\n",
    "variance_in_x = np.var(pls.x_scores_, axis = 0) \n",
    "\n",
    "# normalize variance by total variance:\n",
    "fractions_of_explained_variance = variance_in_x / total_variance_in_x"
   ]
  },
  {
   "cell_type": "code",
   "execution_count": 88,
   "metadata": {},
   "outputs": [
    {
     "data": {
      "text/plain": [
       "array([7.08453802e+00, 1.57924882e+00, 2.21689945e+00, 8.17558140e-01,\n",
       "       3.72287945e-01, 8.33867208e-01, 3.87746060e-01, 2.59360777e-01,\n",
       "       3.81923337e-01, 1.56091147e-01, 2.26561932e-01, 1.47734031e-01,\n",
       "       5.71263639e-02, 3.37017063e-02, 6.94639402e-02, 1.77637393e-02,\n",
       "       7.55416943e-02, 5.34116543e-02, 1.19781451e-03])"
      ]
     },
     "execution_count": 88,
     "metadata": {},
     "output_type": "execute_result"
    }
   ],
   "source": [
    "fractions_of_explained_variance"
   ]
  },
  {
   "cell_type": "code",
   "execution_count": 104,
   "metadata": {},
   "outputs": [
    {
     "data": {
      "image/png": "[encoded data removed]",
      "text/plain": [
       "<Figure size 432x288 with 1 Axes>"
      ]
     },
     "metadata": {
      "needs_background": "light"
     },
     "output_type": "display_data"
    }
   ],
   "source": [
    "# evaluate a given model using cross-validation\n",
    "def PLS_cv(X,y,n_comp):\n",
    "    model = PLSRegression(n_components = n_comp)\n",
    "    cv = KFold(n_splits = 10, shuffle =  True, random_state = random.randint(1,100))\n",
    "    scores = cross_val_score(model, X, y, scoring= mse, cv=cv, n_jobs=-1)\n",
    "    return scores\n",
    "\n",
    "# evaluate the models and store results\n",
    "results, names = list(), list()\n",
    "for i in range(1,20):\n",
    "    scores = PLS_cv(X_train,y_train,i)\n",
    "    results.append(scores)\n",
    "    names.append(i)    \n",
    "    \n",
    "plt.plot(np.mean(results, axis = 1))\n",
    "plt.xticks(names)\n",
    "plt.show()"
   ]
  },
  {
   "cell_type": "markdown",
   "metadata": {},
   "source": [
    "The lowest cross validation error is when n_components is 13."
   ]
  },
  {
   "cell_type": "code",
   "execution_count": 127,
   "metadata": {},
   "outputs": [
    {
     "data": {
      "text/plain": [
       "101354.29853637319"
      ]
     },
     "execution_count": 127,
     "metadata": {},
     "output_type": "execute_result"
    }
   ],
   "source": [
    "# fit the PCA and transform the training and test dataset\n",
    "pls = PLSRegression(n_components =13)\n",
    "\n",
    "X_train_PLS = pls.fit_transform(X_train, y_train)\n",
    "X_train_PLS = X_train_PLS[0]\n",
    "\n",
    "X_test_PLS = pls.transform(X_test)\n",
    "\n",
    "lm = LinearRegression()\n",
    "lm.fit(X_train_PLS, y_train)\n",
    "np.mean((lm.predict(X_test_PLS) - y_test)**2)"
   ]
  },
  {
   "cell_type": "markdown",
   "metadata": {},
   "source": [
    "The MSE is comparable but slightly higher than the one we got from ridge, PCA, lasso."
   ]
  },
  {
   "cell_type": "markdown",
   "metadata": {},
   "source": [
    "## Excercises\n",
    "__Conceptual__\n",
    "\n",
    "1. (a). Best subset selection is supposed to have the least training RSS as it is testing for all the possible models and using training error to select model for each subset size.\n",
    "\n",
    "(b). Best subset should gives the test error as well as it is testing all the models. However, forward and backward selection can also pick the model with lowest test error.\n",
    "\n",
    "(c). (i). True. (ii). True. (iii). False. (iv). False. (v). False.\n",
    "\n",
    "2. (a). (iii) Less flexible and hence will give improved prediction accuracy when its increase in bias is less than its decrease in variance.\n",
    "\n",
    "(b). (iii) Less flexible and hence will give improved prediction accuracy when its increase in bias is less than its decrease in variance.\n",
    "\n",
    "(c). (ii) More flexible and hence will give improved prediction accuracy when its increase in variance is less than its decrease in bias.\n",
    "\n",
    "3. (a). Steadily decrease, as the s increase, the Lasso will converge to least square solutions and the flexibility increase and hence training error decrease.\n",
    "\n",
    "(b). (ii). Decrease intially and then eventually start increasing. As s increase we increase flexibility after a certain point we will start including varaiable that are not important and then the test error will increase\n",
    "\n",
    "(c). (iii). Steadily increase .\n",
    "\n",
    "(d). (ii). Stedily decrease.\n",
    "\n",
    "(e). Remain Constant. \n",
    "\n",
    "4. (a). (iv) Steadily increase as we are decreasing the flexibility.\n",
    "\n",
    "(b). (ii). Decrease intially as we start to decrease the flexibilty and then increase as the bias starts increasing after certain point.\n",
    "\n",
    "(c). (iv). Steadily decrease.\n",
    "\n",
    "(d). (iii). Stedilty increase.\n",
    "\n",
    "(e). Remain constant.\n",
    "\n",
    "5. (a). ($y_1 - \\beta_1x_{11} - \\beta_2x_{12})^2 + (y_2 - \\beta_1x_{21} - \\beta_2x_{22})^2 + \\lambda (\\beta_1^2 + \\beta_2^2$)\n",
    "\n",
    "(b). ($y_1 - (\\beta_1 + \\beta_2)x_{1})^2 + (y_2 - (\\beta_1 + \\beta_2)x_{2})^2 + \\lambda (\\beta_1^2 + \\beta_2^2$)\n",
    "\n",
    "Taking the derivative of above equation for $\\beta_1 and \\beta_2$, we can prove that they are both equal according to symmetry.\n",
    "\n",
    "(c). ($y_1 - \\beta_1x_{11} - \\beta_2x_{12})^2 + (y_2 - \\beta_1x_{21} - \\beta_2x_{22})^2 + \\lambda (\n",
    "|\\beta_1| + |\\beta_2|$)\n",
    "\n",
    "(d) solving the above equation we will find that the solutuion is $\\beta_1 + \\beta_2 = y_1/x_1$. This line is parallel to the constraints of the lasso. This means that the entire range of the diamond constraint of lasso can be a solution.\n",
    "\n",
    "__Applied__"
   ]
  },
  {
   "cell_type": "code",
   "execution_count": 9,
   "metadata": {},
   "outputs": [],
   "source": [
    "# 8.(a).\n",
    "X = np.random.normal(size = 100)\n",
    "ep = np.random.normal(size = 100)\n",
    "\n",
    "# 8.(b). \n",
    "beta0 = 3\n",
    "beta1 = 2\n",
    "beta2 = -3\n",
    "beta3 = 0.3\n",
    "\n",
    "Y = beta0 + beta1 * X + beta2 * X**2 + beta3 * X**3 + ep\n",
    "poly_X = dict()\n",
    "for i in range(1,11):\n",
    "    poly_X['X'+str(i)] = X**i\n",
    "poly_X = pd.DataFrame(poly_X)\n",
    "poly_X['Y'] = Y\n",
    "\n",
    "variables = poly_X.columns\n",
    "variables = variables.drop(\"Y\")"
   ]
  },
  {
   "cell_type": "code",
   "execution_count": 13,
   "metadata": {},
   "outputs": [
    {
     "name": "stdout",
     "output_type": "stream",
     "text": [
      "Done for :  0\n",
      "Done for :  1\n",
      "Done for :  2\n",
      "Done for :  3\n",
      "Done for :  4\n",
      "Done for :  5\n",
      "Done for :  6\n",
      "Done for :  7\n",
      "Done for :  8\n",
      "Done for :  9\n"
     ]
    }
   ],
   "source": [
    "# 8.(c).\n",
    "def Best_subset_selection(dataset,response):\n",
    "    variables = dataset.columns\n",
    "    variables = variables.drop(response)\n",
    "    results = []\n",
    "    for k in range(len(variables)):\n",
    "        for subset in itertools.combinations(variables,k+1):\n",
    "            all_columns = \"+\".join(list(subset))\n",
    "            \n",
    "            my_formula = response + '~' + all_columns\n",
    "            model = ols(formula = my_formula, data = dataset).fit()\n",
    "            results.append({\"RSS\":model.mse_resid, \"R_squared\": model.rsquared,\"Variable_count\": k+1, \n",
    "                            'resid_sum': (model.resid ** 2).sum(), 'BIC': model.bic, \n",
    "                            'Adjusted_R2': model.rsquared_adj})\n",
    "        print(\"Done for : \",k)\n",
    "    Matrices = pd.DataFrame(results)\n",
    "    return(Matrices)\n",
    "Metrices = Best_subset_selection(poly_X, \"Y\")\n",
    "\n",
    "sigma_sq = Metrices[Metrices['Variable_count']== len(poly_X.columns) -1]['resid_sum']/(len(poly_X) - len(poly_X.columns) -1)\n",
    "Metrices[\"Cp\"] = (Metrices['resid_sum'] + 2 * Metrices['Variable_count'] * sigma_sq.values)/len(poly_X)\n",
    "\n",
    "# Function to calculate the different statistics corresponding to each subset of varibles.\n",
    "def BSS_metrices(matrix, data):    \n",
    "    Min_RSS = matrix.groupby([\"Variable_count\"])['RSS'].min().reset_index()\n",
    "    Max_R2 = matrix.groupby([\"Variable_count\"])['R_squared'].max().reset_index()\n",
    "    Min_BIC = matrix.groupby([\"Variable_count\"])['BIC'].min().reset_index()\n",
    "    Max_adj_R2 = matrix.groupby([\"Variable_count\"])['Adjusted_R2'].max().reset_index()\n",
    "    sigma_sq = matrix[matrix['Variable_count']== len(data.columns) -1]['resid_sum']/(len(data) - len(data.columns) -1)\n",
    "    Min_Cp = matrix.groupby([\"Variable_count\"])['Cp'].min().reset_index()\n",
    "    All_mat = pd.concat([Min_RSS, Max_R2[\"R_squared\"], Min_BIC[\"BIC\"], Max_adj_R2[\"Adjusted_R2\"], Min_Cp[\"Cp\"]], axis = 1)\n",
    "    return(All_mat)\n",
    "\n",
    "Eval_mat = BSS_metrices(Metrices,poly_X)"
   ]
  },
  {
   "cell_type": "code",
   "execution_count": 22,
   "metadata": {},
   "outputs": [
    {
     "name": "stdout",
     "output_type": "stream",
     "text": [
      "('X1', 'X2', 'X5')\n"
     ]
    }
   ],
   "source": [
    "# Function to get the list of variables that resulted in best statistics defined.\n",
    "def get_best_param(Eval_mat, matrix, stats, dataset, response):\n",
    "    variables = dataset.columns\n",
    "    variables = variables.drop(response)\n",
    "    if stats in ['RSS','BIC','Cp']:        \n",
    "        no_var = (Eval_mat[Eval_mat[stats] == Eval_mat[stats].min()][\"Variable_count\"]).values[0]\n",
    "        min_val = Eval_mat[stats].min()\n",
    "        data = matrix[matrix['Variable_count'] == no_var]\n",
    "        print(list(itertools.combinations(variables,no_var))[data[data[stats] == min_val].index[0] - data.index[0]])\n",
    "    else:    \n",
    "        no_var = (Eval_mat[Eval_mat[stats] == Eval_mat[stats].max()][\"Variable_count\"]).values[0]\n",
    "        max_val = Eval_mat[stats].max()\n",
    "        data = matrix[matrix['Variable_count'] == no_var]\n",
    "        print(list(itertools.combinations(variables,no_var))[data[data[stats] == max_val].index[0] - data.index[0]])\n",
    "        \n",
    "get_best_param(Eval_mat, Metrices, 'BIC', poly_X, 'Y')"
   ]
  },
  {
   "cell_type": "code",
   "execution_count": 19,
   "metadata": {},
   "outputs": [
    {
     "data": {
      "image/png": "[encoded data removed]",
      "text/plain": [
       "<Figure size 1368x432 with 3 Axes>"
      ]
     },
     "metadata": {
      "needs_background": "light"
     },
     "output_type": "display_data"
    }
   ],
   "source": [
    "fig = plt.figure(figsize = (19,6))\n",
    "ax1 = fig.add_subplot(131)\n",
    "ax1.scatter(Eval_mat[\"Variable_count\"], Eval_mat[\"Cp\"], color = \"b\")\n",
    "ax1.plot(Eval_mat[\"Variable_count\"], Eval_mat[\"Cp\"], color = \"r\")\n",
    "ax1.plot(Eval_mat[\"Cp\"].idxmin() + 1, Eval_mat[\"Cp\"].min(), marker = \"x\", markersize = 20, color = 'b')\n",
    "ax1.set_xlabel(\"No. of predictors\", fontsize = 14)\n",
    "ax1.set_ylabel(\"$C_p$\", fontsize = 14)\n",
    "\n",
    "ax2 = fig.add_subplot(132)\n",
    "ax2.scatter(Eval_mat[\"Variable_count\"], Eval_mat[\"BIC\"], color = \"b\")\n",
    "ax2.plot(Eval_mat[\"Variable_count\"], Eval_mat[\"BIC\"], color = \"r\")\n",
    "ax2.plot(Eval_mat[\"BIC\"].idxmin() + 1, Eval_mat[\"BIC\"].min(), marker = \"x\", markersize = 20, color = 'b')\n",
    "ax2.set_xlabel(\"No. of predictors\", fontsize = 14)\n",
    "ax2.set_ylabel(\"BIC\", fontsize = 14)\n",
    "\n",
    "ax3 = fig.add_subplot(133)\n",
    "ax3.scatter(Eval_mat[\"Variable_count\"], Eval_mat[\"Adjusted_R2\"], color = \"b\")\n",
    "ax3.plot(Eval_mat[\"Variable_count\"], Eval_mat[\"Adjusted_R2\"], color = \"r\")\n",
    "ax3.plot(Eval_mat[\"Adjusted_R2\"].idxmax() + 1, Eval_mat[\"Adjusted_R2\"].max(), marker = \"x\", markersize = 20, color = 'b')\n",
    "ax3.set_xlabel(\"No. of predictors\", fontsize = 14)\n",
    "ax3.set_ylabel(\"Adjusted $R^2$\", fontsize = 14)\n",
    "\n",
    "plt.show()"
   ]
  },
  {
   "cell_type": "markdown",
   "metadata": {},
   "source": [
    "We can see that the variable selection based each of these metrices is quite different. BIC is selecting the model with smallest number of variables, while adjusted $R^2$ is selecting model with most number of variables. "
   ]
  },
  {
   "cell_type": "code",
   "execution_count": 20,
   "metadata": {},
   "outputs": [
    {
     "name": "stdout",
     "output_type": "stream",
     "text": [
      "Done for  0\n",
      "Done for  1\n",
      "Done for  2\n",
      "Done for  3\n",
      "Done for  4\n",
      "Done for  5\n",
      "Done for  6\n",
      "Done for  7\n",
      "Done for  8\n",
      "Done for  9\n"
     ]
    }
   ],
   "source": [
    "# 8.(d). # This function will return the best model with lowest BIC using Forward Selection method\n",
    "def Forward_selection(dataset,response):\n",
    "    variables = dataset.columns\n",
    "    variables = variables.drop(response)\n",
    "    forward_sel = []\n",
    "    var_left = variables.copy()\n",
    "    BIC = []\n",
    "    \n",
    "    for k in range(len(variables)):\n",
    "        RSS = []\n",
    "        metric = []\n",
    "        \n",
    "        for p in range(len(var_left)):\n",
    "            subset = forward_sel + [var_left[p]]\n",
    "            all_columns = \"+\".join(subset)\n",
    "            my_formula = response + '~' + all_columns\n",
    "            model = ols(formula = my_formula, data = dataset).fit()\n",
    "            RSS.append(model.mse_resid)\n",
    "            metric.append(model.bic)\n",
    "            \n",
    "        forward_sel.append(var_left[RSS.index(min(RSS))])\n",
    "        BIC.append(metric[RSS.index(min(RSS))])\n",
    "            \n",
    "        var_left = [x for x in variables if x not in forward_sel]\n",
    "        print('Done for ', k)\n",
    "        \n",
    "    final_selection = forward_sel[:BIC.index(min(BIC))+1] # model with lowest BIC\n",
    "    \n",
    "    # Model for the final selection\n",
    "    all_col = \"+\".join(final_selection)\n",
    "    my_formula = response + '~' + all_col\n",
    "    model = ols(formula = my_formula, data = dataset).fit()\n",
    "\n",
    "    return model\n",
    "\n",
    "FS_model = Forward_selection(poly_X,'Y')"
   ]
  },
  {
   "cell_type": "code",
   "execution_count": 21,
   "metadata": {},
   "outputs": [
    {
     "data": {
      "text/plain": [
       "Intercept    3.062164\n",
       "X2          -3.012660\n",
       "X1           2.008797\n",
       "X5           0.049532\n",
       "dtype: float64"
      ]
     },
     "execution_count": 21,
     "metadata": {},
     "output_type": "execute_result"
    }
   ],
   "source": [
    "FS_model.params"
   ]
  },
  {
   "cell_type": "markdown",
   "metadata": {},
   "source": [
    "We can see that Forward selection we are selecting the same model as Best Subset Selection using BIC as selection criteria."
   ]
  },
  {
   "cell_type": "code",
   "execution_count": 24,
   "metadata": {},
   "outputs": [
    {
     "name": "stdout",
     "output_type": "stream",
     "text": [
      "Done for  0\n",
      "Done for  1\n",
      "Done for  2\n",
      "Done for  3\n",
      "Done for  4\n",
      "Done for  5\n",
      "Done for  6\n",
      "Done for  7\n",
      "Done for  8\n",
      "Done for  9\n"
     ]
    }
   ],
   "source": [
    "# This function will return the best model with lowest BIC using Backward Selection method\n",
    "def Backward_selection(dataset,response):\n",
    "    variables = dataset.columns\n",
    "    variables = variables.drop(response)\n",
    "    backward_sel = []\n",
    "    var_left = variables.copy()\n",
    "    BIC = []\n",
    "    \n",
    "    for k in range(len(variables)):\n",
    "        RSS = []\n",
    "        metric = []\n",
    "        if k == 0:\n",
    "            subset = var_left\n",
    "            all_columns = \"+\".join(subset)\n",
    "            my_formula = response + '~' + all_columns\n",
    "            model = ols(formula = my_formula, data = dataset).fit()\n",
    "            \n",
    "            backward_sel.append(var_left)\n",
    "            BIC.append(model.bic)\n",
    "        \n",
    "        else:\n",
    "            for p in range(len(var_left)):\n",
    "                subset = [var_left[i] for i in range(len(var_left)) if i!= p]\n",
    "                all_columns = \"+\".join(subset)\n",
    "                my_formula = response + '~' + all_columns\n",
    "                model = ols(formula = my_formula, data = dataset).fit()\n",
    "                RSS.append(model.mse_resid)\n",
    "                metric.append(model.bic)\n",
    "            \n",
    "            backward_sel.append([var_left[i] for i in range(len(var_left)) if i!= RSS.index(min(RSS))])\n",
    "            BIC.append(metric[RSS.index(min(RSS))])\n",
    "            \n",
    "            var_left = np.delete(var_left, RSS.index(min(RSS)))\n",
    "        \n",
    "        print('Done for ', k)\n",
    "        \n",
    "    final_selection = backward_sel[BIC.index(min(BIC))] # model with lowest BIC\n",
    "    \n",
    "    # Model for the final selection\n",
    "    all_col = \"+\".join(final_selection)\n",
    "    my_formula = response + '~' + all_col\n",
    "    model = ols(formula = my_formula, data = dataset).fit()\n",
    "\n",
    "    return model\n",
    "\n",
    "BS_model = Backward_selection(poly_X,'Y')"
   ]
  },
  {
   "cell_type": "code",
   "execution_count": 25,
   "metadata": {},
   "outputs": [
    {
     "data": {
      "text/plain": [
       "Intercept    3.044636\n",
       "X1           2.122237\n",
       "X2          -2.992639\n",
       "X7           0.008145\n",
       "dtype: float64"
      ]
     },
     "execution_count": 25,
     "metadata": {},
     "output_type": "execute_result"
    }
   ],
   "source": [
    "BS_model.params"
   ]
  },
  {
   "cell_type": "markdown",
   "metadata": {},
   "source": [
    "We can see that Backward selection we are selecting the same model as Best Subset Selection using BIC as selection criteria."
   ]
  },
  {
   "cell_type": "code",
   "execution_count": 38,
   "metadata": {},
   "outputs": [
    {
     "name": "stderr",
     "output_type": "stream",
     "text": [
      "/Users/ankittyagi/anaconda3/lib/python3.6/site-packages/sklearn/linear_model/_coordinate_descent.py:472: ConvergenceWarning: Objective did not converge. You might want to increase the number of iterations. Duality gap: 0.16505458132792228, tolerance: 0.16036705737301962\n",
      "  tol, rng, random, positive)\n",
      "/Users/ankittyagi/anaconda3/lib/python3.6/site-packages/sklearn/linear_model/_coordinate_descent.py:472: ConvergenceWarning: Objective did not converge. You might want to increase the number of iterations. Duality gap: 0.22061358378664409, tolerance: 0.16036705737301962\n",
      "  tol, rng, random, positive)\n",
      "/Users/ankittyagi/anaconda3/lib/python3.6/site-packages/sklearn/linear_model/_coordinate_descent.py:472: ConvergenceWarning: Objective did not converge. You might want to increase the number of iterations. Duality gap: 0.25485279639997316, tolerance: 0.16036705737301962\n",
      "  tol, rng, random, positive)\n",
      "/Users/ankittyagi/anaconda3/lib/python3.6/site-packages/sklearn/linear_model/_coordinate_descent.py:472: ConvergenceWarning: Objective did not converge. You might want to increase the number of iterations. Duality gap: 0.27999775569332996, tolerance: 0.16036705737301962\n",
      "  tol, rng, random, positive)\n",
      "/Users/ankittyagi/anaconda3/lib/python3.6/site-packages/sklearn/linear_model/_coordinate_descent.py:472: ConvergenceWarning: Objective did not converge. You might want to increase the number of iterations. Duality gap: 0.2979638073929891, tolerance: 0.16036705737301962\n",
      "  tol, rng, random, positive)\n",
      "/Users/ankittyagi/anaconda3/lib/python3.6/site-packages/sklearn/linear_model/_coordinate_descent.py:472: ConvergenceWarning: Objective did not converge. You might want to increase the number of iterations. Duality gap: 0.3099680277251764, tolerance: 0.16036705737301962\n",
      "  tol, rng, random, positive)\n",
      "/Users/ankittyagi/anaconda3/lib/python3.6/site-packages/sklearn/linear_model/_coordinate_descent.py:472: ConvergenceWarning: Objective did not converge. You might want to increase the number of iterations. Duality gap: 0.31703185886306073, tolerance: 0.16036705737301962\n",
      "  tol, rng, random, positive)\n",
      "/Users/ankittyagi/anaconda3/lib/python3.6/site-packages/sklearn/linear_model/_coordinate_descent.py:472: ConvergenceWarning: Objective did not converge. You might want to increase the number of iterations. Duality gap: 0.3200264121883265, tolerance: 0.16036705737301962\n",
      "  tol, rng, random, positive)\n",
      "/Users/ankittyagi/anaconda3/lib/python3.6/site-packages/sklearn/linear_model/_coordinate_descent.py:472: ConvergenceWarning: Objective did not converge. You might want to increase the number of iterations. Duality gap: 0.3196939626019457, tolerance: 0.16036705737301962\n",
      "  tol, rng, random, positive)\n",
      "/Users/ankittyagi/anaconda3/lib/python3.6/site-packages/sklearn/linear_model/_coordinate_descent.py:472: ConvergenceWarning: Objective did not converge. You might want to increase the number of iterations. Duality gap: 0.31666579700299735, tolerance: 0.16036705737301962\n",
      "  tol, rng, random, positive)\n",
      "/Users/ankittyagi/anaconda3/lib/python3.6/site-packages/sklearn/linear_model/_coordinate_descent.py:472: ConvergenceWarning: Objective did not converge. You might want to increase the number of iterations. Duality gap: 0.31147763550120544, tolerance: 0.16036705737301962\n",
      "  tol, rng, random, positive)\n",
      "/Users/ankittyagi/anaconda3/lib/python3.6/site-packages/sklearn/linear_model/_coordinate_descent.py:472: ConvergenceWarning: Objective did not converge. You might want to increase the number of iterations. Duality gap: 0.30458297920012, tolerance: 0.16036705737301962\n",
      "  tol, rng, random, positive)\n",
      "/Users/ankittyagi/anaconda3/lib/python3.6/site-packages/sklearn/linear_model/_coordinate_descent.py:472: ConvergenceWarning: Objective did not converge. You might want to increase the number of iterations. Duality gap: 0.29636465654152744, tolerance: 0.16036705737301962\n",
      "  tol, rng, random, positive)\n",
      "/Users/ankittyagi/anaconda3/lib/python3.6/site-packages/sklearn/linear_model/_coordinate_descent.py:472: ConvergenceWarning: Objective did not converge. You might want to increase the number of iterations. Duality gap: 0.28714481201319586, tolerance: 0.16036705737301962\n",
      "  tol, rng, random, positive)\n",
      "/Users/ankittyagi/anaconda3/lib/python3.6/site-packages/sklearn/linear_model/_coordinate_descent.py:472: ConvergenceWarning: Objective did not converge. You might want to increase the number of iterations. Duality gap: 0.2936101203133603, tolerance: 0.16036705737301962\n",
      "  tol, rng, random, positive)\n",
      "/Users/ankittyagi/anaconda3/lib/python3.6/site-packages/sklearn/linear_model/_coordinate_descent.py:472: ConvergenceWarning: Objective did not converge. You might want to increase the number of iterations. Duality gap: 1.1228527280674143, tolerance: 0.16036705737301962\n",
      "  tol, rng, random, positive)\n",
      "/Users/ankittyagi/anaconda3/lib/python3.6/site-packages/sklearn/linear_model/_coordinate_descent.py:472: ConvergenceWarning: Objective did not converge. You might want to increase the number of iterations. Duality gap: 0.9799890557601998, tolerance: 0.16036705737301962\n",
      "  tol, rng, random, positive)\n",
      "/Users/ankittyagi/anaconda3/lib/python3.6/site-packages/sklearn/linear_model/_coordinate_descent.py:472: ConvergenceWarning: Objective did not converge. You might want to increase the number of iterations. Duality gap: 2.448701986459241, tolerance: 0.16036705737301962\n",
      "  tol, rng, random, positive)\n",
      "/Users/ankittyagi/anaconda3/lib/python3.6/site-packages/sklearn/linear_model/_coordinate_descent.py:472: ConvergenceWarning: Objective did not converge. You might want to increase the number of iterations. Duality gap: 3.4441339416250685, tolerance: 0.16036705737301962\n",
      "  tol, rng, random, positive)\n",
      "/Users/ankittyagi/anaconda3/lib/python3.6/site-packages/sklearn/linear_model/_coordinate_descent.py:472: ConvergenceWarning: Objective did not converge. You might want to increase the number of iterations. Duality gap: 0.5505830995473389, tolerance: 0.14786225274875367\n",
      "  tol, rng, random, positive)\n",
      "/Users/ankittyagi/anaconda3/lib/python3.6/site-packages/sklearn/linear_model/_coordinate_descent.py:472: ConvergenceWarning: Objective did not converge. You might want to increase the number of iterations. Duality gap: 0.26913221121344577, tolerance: 0.14786225274875367\n",
      "  tol, rng, random, positive)\n",
      "/Users/ankittyagi/anaconda3/lib/python3.6/site-packages/sklearn/linear_model/_coordinate_descent.py:472: ConvergenceWarning: Objective did not converge. You might want to increase the number of iterations. Duality gap: 0.4487055001588942, tolerance: 0.14786225274875367\n",
      "  tol, rng, random, positive)\n",
      "/Users/ankittyagi/anaconda3/lib/python3.6/site-packages/sklearn/linear_model/_coordinate_descent.py:472: ConvergenceWarning: Objective did not converge. You might want to increase the number of iterations. Duality gap: 0.8951390501659944, tolerance: 0.14786225274875367\n",
      "  tol, rng, random, positive)\n",
      "/Users/ankittyagi/anaconda3/lib/python3.6/site-packages/sklearn/linear_model/_coordinate_descent.py:472: ConvergenceWarning: Objective did not converge. You might want to increase the number of iterations. Duality gap: 1.0612257822626816, tolerance: 0.14786225274875367\n",
      "  tol, rng, random, positive)\n",
      "/Users/ankittyagi/anaconda3/lib/python3.6/site-packages/sklearn/linear_model/_coordinate_descent.py:472: ConvergenceWarning: Objective did not converge. You might want to increase the number of iterations. Duality gap: 1.167672697561784, tolerance: 0.14786225274875367\n",
      "  tol, rng, random, positive)\n",
      "/Users/ankittyagi/anaconda3/lib/python3.6/site-packages/sklearn/linear_model/_coordinate_descent.py:472: ConvergenceWarning: Objective did not converge. You might want to increase the number of iterations. Duality gap: 1.2426444435262738, tolerance: 0.14786225274875367\n",
      "  tol, rng, random, positive)\n",
      "/Users/ankittyagi/anaconda3/lib/python3.6/site-packages/sklearn/linear_model/_coordinate_descent.py:472: ConvergenceWarning: Objective did not converge. You might want to increase the number of iterations. Duality gap: 1.2930374866858756, tolerance: 0.14786225274875367\n",
      "  tol, rng, random, positive)\n",
      "/Users/ankittyagi/anaconda3/lib/python3.6/site-packages/sklearn/linear_model/_coordinate_descent.py:472: ConvergenceWarning: Objective did not converge. You might want to increase the number of iterations. Duality gap: 1.3231901101094081, tolerance: 0.14786225274875367\n",
      "  tol, rng, random, positive)\n",
      "/Users/ankittyagi/anaconda3/lib/python3.6/site-packages/sklearn/linear_model/_coordinate_descent.py:472: ConvergenceWarning: Objective did not converge. You might want to increase the number of iterations. Duality gap: 1.3366719692260176, tolerance: 0.14786225274875367\n",
      "  tol, rng, random, positive)\n",
      "/Users/ankittyagi/anaconda3/lib/python3.6/site-packages/sklearn/linear_model/_coordinate_descent.py:472: ConvergenceWarning: Objective did not converge. You might want to increase the number of iterations. Duality gap: 1.3365142521490725, tolerance: 0.14786225274875367\n",
      "  tol, rng, random, positive)\n",
      "/Users/ankittyagi/anaconda3/lib/python3.6/site-packages/sklearn/linear_model/_coordinate_descent.py:472: ConvergenceWarning: Objective did not converge. You might want to increase the number of iterations. Duality gap: 1.3252945140040993, tolerance: 0.14786225274875367\n",
      "  tol, rng, random, positive)\n",
      "/Users/ankittyagi/anaconda3/lib/python3.6/site-packages/sklearn/linear_model/_coordinate_descent.py:472: ConvergenceWarning: Objective did not converge. You might want to increase the number of iterations. Duality gap: 1.3052005282604568, tolerance: 0.14786225274875367\n",
      "  tol, rng, random, positive)\n",
      "/Users/ankittyagi/anaconda3/lib/python3.6/site-packages/sklearn/linear_model/_coordinate_descent.py:472: ConvergenceWarning: Objective did not converge. You might want to increase the number of iterations. Duality gap: 1.2780847620402938, tolerance: 0.14786225274875367\n",
      "  tol, rng, random, positive)\n",
      "/Users/ankittyagi/anaconda3/lib/python3.6/site-packages/sklearn/linear_model/_coordinate_descent.py:472: ConvergenceWarning: Objective did not converge. You might want to increase the number of iterations. Duality gap: 1.2455114479855638, tolerance: 0.14786225274875367\n",
      "  tol, rng, random, positive)\n",
      "/Users/ankittyagi/anaconda3/lib/python3.6/site-packages/sklearn/linear_model/_coordinate_descent.py:472: ConvergenceWarning: Objective did not converge. You might want to increase the number of iterations. Duality gap: 0.18207491248426777, tolerance: 0.16051078049218376\n",
      "  tol, rng, random, positive)\n",
      "/Users/ankittyagi/anaconda3/lib/python3.6/site-packages/sklearn/linear_model/_coordinate_descent.py:472: ConvergenceWarning: Objective did not converge. You might want to increase the number of iterations. Duality gap: 0.3266266078478566, tolerance: 0.16051078049218376\n",
      "  tol, rng, random, positive)\n",
      "/Users/ankittyagi/anaconda3/lib/python3.6/site-packages/sklearn/linear_model/_coordinate_descent.py:472: ConvergenceWarning: Objective did not converge. You might want to increase the number of iterations. Duality gap: 0.39921650687142574, tolerance: 0.16051078049218376\n",
      "  tol, rng, random, positive)\n",
      "/Users/ankittyagi/anaconda3/lib/python3.6/site-packages/sklearn/linear_model/_coordinate_descent.py:472: ConvergenceWarning: Objective did not converge. You might want to increase the number of iterations. Duality gap: 0.4484630979479789, tolerance: 0.16051078049218376\n",
      "  tol, rng, random, positive)\n",
      "/Users/ankittyagi/anaconda3/lib/python3.6/site-packages/sklearn/linear_model/_coordinate_descent.py:472: ConvergenceWarning: Objective did not converge. You might want to increase the number of iterations. Duality gap: 0.48410019939888116, tolerance: 0.16051078049218376\n",
      "  tol, rng, random, positive)\n",
      "/Users/ankittyagi/anaconda3/lib/python3.6/site-packages/sklearn/linear_model/_coordinate_descent.py:472: ConvergenceWarning: Objective did not converge. You might want to increase the number of iterations. Duality gap: 0.5088928061801425, tolerance: 0.16051078049218376\n",
      "  tol, rng, random, positive)\n",
      "/Users/ankittyagi/anaconda3/lib/python3.6/site-packages/sklearn/linear_model/_coordinate_descent.py:472: ConvergenceWarning: Objective did not converge. You might want to increase the number of iterations. Duality gap: 0.5247134536685962, tolerance: 0.16051078049218376\n",
      "  tol, rng, random, positive)\n",
      "/Users/ankittyagi/anaconda3/lib/python3.6/site-packages/sklearn/linear_model/_coordinate_descent.py:472: ConvergenceWarning: Objective did not converge. You might want to increase the number of iterations. Duality gap: 0.5331211302111569, tolerance: 0.16051078049218376\n",
      "  tol, rng, random, positive)\n",
      "/Users/ankittyagi/anaconda3/lib/python3.6/site-packages/sklearn/linear_model/_coordinate_descent.py:472: ConvergenceWarning: Objective did not converge. You might want to increase the number of iterations. Duality gap: 0.5354423698479422, tolerance: 0.16051078049218376\n",
      "  tol, rng, random, positive)\n",
      "/Users/ankittyagi/anaconda3/lib/python3.6/site-packages/sklearn/linear_model/_coordinate_descent.py:472: ConvergenceWarning: Objective did not converge. You might want to increase the number of iterations. Duality gap: 0.5328063555173799, tolerance: 0.16051078049218376\n",
      "  tol, rng, random, positive)\n",
      "/Users/ankittyagi/anaconda3/lib/python3.6/site-packages/sklearn/linear_model/_coordinate_descent.py:472: ConvergenceWarning: Objective did not converge. You might want to increase the number of iterations. Duality gap: 0.5261725017110734, tolerance: 0.16051078049218376\n",
      "  tol, rng, random, positive)\n",
      "/Users/ankittyagi/anaconda3/lib/python3.6/site-packages/sklearn/linear_model/_coordinate_descent.py:472: ConvergenceWarning: Objective did not converge. You might want to increase the number of iterations. Duality gap: 0.5302532341278265, tolerance: 0.16051078049218376\n",
      "  tol, rng, random, positive)\n",
      "/Users/ankittyagi/anaconda3/lib/python3.6/site-packages/sklearn/linear_model/_coordinate_descent.py:472: ConvergenceWarning: Objective did not converge. You might want to increase the number of iterations. Duality gap: 1.4484004666240367, tolerance: 0.16051078049218376\n",
      "  tol, rng, random, positive)\n",
      "/Users/ankittyagi/anaconda3/lib/python3.6/site-packages/sklearn/linear_model/_coordinate_descent.py:472: ConvergenceWarning: Objective did not converge. You might want to increase the number of iterations. Duality gap: 0.7344323930115024, tolerance: 0.16051078049218376\n",
      "  tol, rng, random, positive)\n",
      "/Users/ankittyagi/anaconda3/lib/python3.6/site-packages/sklearn/linear_model/_coordinate_descent.py:472: ConvergenceWarning: Objective did not converge. You might want to increase the number of iterations. Duality gap: 2.3411851792185985, tolerance: 0.16051078049218376\n",
      "  tol, rng, random, positive)\n",
      "/Users/ankittyagi/anaconda3/lib/python3.6/site-packages/sklearn/linear_model/_coordinate_descent.py:472: ConvergenceWarning: Objective did not converge. You might want to increase the number of iterations. Duality gap: 3.450427634358448, tolerance: 0.16051078049218376\n",
      "  tol, rng, random, positive)\n",
      "/Users/ankittyagi/anaconda3/lib/python3.6/site-packages/sklearn/linear_model/_coordinate_descent.py:472: ConvergenceWarning: Objective did not converge. You might want to increase the number of iterations. Duality gap: 4.105254152147381, tolerance: 0.16051078049218376\n",
      "  tol, rng, random, positive)\n",
      "/Users/ankittyagi/anaconda3/lib/python3.6/site-packages/sklearn/linear_model/_coordinate_descent.py:472: ConvergenceWarning: Objective did not converge. You might want to increase the number of iterations. Duality gap: 0.25180491968285423, tolerance: 0.152449918663076\n",
      "  tol, rng, random, positive)\n",
      "/Users/ankittyagi/anaconda3/lib/python3.6/site-packages/sklearn/linear_model/_coordinate_descent.py:472: ConvergenceWarning: Objective did not converge. You might want to increase the number of iterations. Duality gap: 0.295958277569639, tolerance: 0.152449918663076\n",
      "  tol, rng, random, positive)\n",
      "/Users/ankittyagi/anaconda3/lib/python3.6/site-packages/sklearn/linear_model/_coordinate_descent.py:472: ConvergenceWarning: Objective did not converge. You might want to increase the number of iterations. Duality gap: 0.32713061772773244, tolerance: 0.152449918663076\n",
      "  tol, rng, random, positive)\n",
      "/Users/ankittyagi/anaconda3/lib/python3.6/site-packages/sklearn/linear_model/_coordinate_descent.py:472: ConvergenceWarning: Objective did not converge. You might want to increase the number of iterations. Duality gap: 0.3495295198173949, tolerance: 0.152449918663076\n",
      "  tol, rng, random, positive)\n",
      "/Users/ankittyagi/anaconda3/lib/python3.6/site-packages/sklearn/linear_model/_coordinate_descent.py:472: ConvergenceWarning: Objective did not converge. You might want to increase the number of iterations. Duality gap: 0.3647272194028801, tolerance: 0.152449918663076\n",
      "  tol, rng, random, positive)\n",
      "/Users/ankittyagi/anaconda3/lib/python3.6/site-packages/sklearn/linear_model/_coordinate_descent.py:472: ConvergenceWarning: Objective did not converge. You might want to increase the number of iterations. Duality gap: 0.3739562448686229, tolerance: 0.152449918663076\n",
      "  tol, rng, random, positive)\n",
      "/Users/ankittyagi/anaconda3/lib/python3.6/site-packages/sklearn/linear_model/_coordinate_descent.py:472: ConvergenceWarning: Objective did not converge. You might want to increase the number of iterations. Duality gap: 0.3782631742155331, tolerance: 0.152449918663076\n",
      "  tol, rng, random, positive)\n",
      "/Users/ankittyagi/anaconda3/lib/python3.6/site-packages/sklearn/linear_model/_coordinate_descent.py:472: ConvergenceWarning: Objective did not converge. You might want to increase the number of iterations. Duality gap: 0.37853984641265015, tolerance: 0.152449918663076\n",
      "  tol, rng, random, positive)\n",
      "/Users/ankittyagi/anaconda3/lib/python3.6/site-packages/sklearn/linear_model/_coordinate_descent.py:472: ConvergenceWarning: Objective did not converge. You might want to increase the number of iterations. Duality gap: 0.37554502457720673, tolerance: 0.152449918663076\n",
      "  tol, rng, random, positive)\n",
      "/Users/ankittyagi/anaconda3/lib/python3.6/site-packages/sklearn/linear_model/_coordinate_descent.py:472: ConvergenceWarning: Objective did not converge. You might want to increase the number of iterations. Duality gap: 0.36992288295653, tolerance: 0.152449918663076\n",
      "  tol, rng, random, positive)\n",
      "/Users/ankittyagi/anaconda3/lib/python3.6/site-packages/sklearn/linear_model/_coordinate_descent.py:472: ConvergenceWarning: Objective did not converge. You might want to increase the number of iterations. Duality gap: 0.362218995332114, tolerance: 0.152449918663076\n",
      "  tol, rng, random, positive)\n",
      "/Users/ankittyagi/anaconda3/lib/python3.6/site-packages/sklearn/linear_model/_coordinate_descent.py:472: ConvergenceWarning: Objective did not converge. You might want to increase the number of iterations. Duality gap: 0.3528941676172508, tolerance: 0.152449918663076\n",
      "  tol, rng, random, positive)\n",
      "/Users/ankittyagi/anaconda3/lib/python3.6/site-packages/sklearn/linear_model/_coordinate_descent.py:472: ConvergenceWarning: Objective did not converge. You might want to increase the number of iterations. Duality gap: 0.34233640310657165, tolerance: 0.152449918663076\n",
      "  tol, rng, random, positive)\n",
      "/Users/ankittyagi/anaconda3/lib/python3.6/site-packages/sklearn/linear_model/_coordinate_descent.py:472: ConvergenceWarning: Objective did not converge. You might want to increase the number of iterations. Duality gap: 0.33087124683066804, tolerance: 0.152449918663076\n",
      "  tol, rng, random, positive)\n"
     ]
    }
   ],
   "source": [
    "# 8.(e). \n",
    "X = np.array(poly_X.drop('Y',axis = 1))\n",
    "y = np.array(poly_X['Y'])\n",
    "cv_Lasso = LassoCV(cv=5, random_state=0).fit(X , y)"
   ]
  },
  {
   "cell_type": "code",
   "execution_count": 40,
   "metadata": {},
   "outputs": [
    {
     "name": "stdout",
     "output_type": "stream",
     "text": [
      "[ 0.         -0.          0.         -0.          0.         -0.\n",
      "  0.         -0.          0.00238681 -0.00213065]\n",
      "52.46647234525658\n"
     ]
    }
   ],
   "source": [
    "print(cv_Lasso.coef_)\n",
    "print(cv_Lasso.alpha_)"
   ]
  },
  {
   "cell_type": "code",
   "execution_count": 54,
   "metadata": {},
   "outputs": [
    {
     "data": {
      "image/png": "[encoded data removed]",
      "text/plain": [
       "<Figure size 432x288 with 1 Axes>"
      ]
     },
     "metadata": {
      "needs_background": "light"
     },
     "output_type": "display_data"
    }
   ],
   "source": [
    "# Cross validation error plot\n",
    "plt.plot(np.mean(cv_Lasso.mse_path_,axis = 1)[:58]) # Plotting the first 58 values of alpha\n",
    "plt.show()"
   ]
  },
  {
   "cell_type": "markdown",
   "metadata": {},
   "source": [
    "The plot above shows how the CV error decrease first and then start increasing after a certain value. The value of alpha with minimum CV error is 52.5.\n",
    "Another thing is that the model selected by Lasso is completely different from the one selected with other methods."
   ]
  },
  {
   "cell_type": "code",
   "execution_count": 66,
   "metadata": {},
   "outputs": [],
   "source": [
    "# 9.(a). \n",
    "url = \"https://raw.githubusercontent.com/atystats/ISLR_Notes_codes/master/Datasets/College.csv\"\n",
    "College = pd.read_csv(url, index_col = 0)\n",
    "dummy = pd.get_dummies(College[['Private']]) # Creating dummies for categorical vars\n",
    "College = pd.concat([College,dummy],axis = 1)\n",
    "\n",
    "X = np.array(College.drop(['Apps','Private','Private_No'], axis = 1))\n",
    "y = np.array(College['Apps'])\n",
    "\n",
    "X_train, X_test, y_train, y_test = train_test_split(X, y, test_size=0.50, random_state=70)"
   ]
  },
  {
   "cell_type": "code",
   "execution_count": 67,
   "metadata": {},
   "outputs": [
    {
     "data": {
      "text/plain": [
       "992060.7903898334"
      ]
     },
     "execution_count": 67,
     "metadata": {},
     "output_type": "execute_result"
    }
   ],
   "source": [
    "# 9.(b).\n",
    "lm = LinearRegression()\n",
    "lm.fit(X_train,y_train)\n",
    "np.mean((lm.predict(X_test) - y_test)**2) # Test Error"
   ]
  },
  {
   "cell_type": "code",
   "execution_count": 71,
   "metadata": {},
   "outputs": [
    {
     "data": {
      "text/plain": [
       "500.0"
      ]
     },
     "execution_count": 71,
     "metadata": {},
     "output_type": "execute_result"
    }
   ],
   "source": [
    "# 9.(c). \n",
    "# Ridge Regression \n",
    "lambda_range = np.linspace(1,500,500)\n",
    "\n",
    "cv_ridge = RidgeCV(alphas = lambda_range, store_cv_values = True).fit(X_train,y_train)\n",
    "cv_ridge.alpha_ "
   ]
  },
  {
   "cell_type": "code",
   "execution_count": 77,
   "metadata": {},
   "outputs": [
    {
     "data": {
      "text/plain": [
       "1016374.1159994911"
      ]
     },
     "execution_count": 77,
     "metadata": {},
     "output_type": "execute_result"
    }
   ],
   "source": [
    "np.mean((cv_ridge.predict(X_test) - y_test)**2) # Test Error"
   ]
  },
  {
   "cell_type": "code",
   "execution_count": 78,
   "metadata": {},
   "outputs": [
    {
     "data": {
      "text/plain": [
       "45068.49302557086"
      ]
     },
     "execution_count": 78,
     "metadata": {},
     "output_type": "execute_result"
    }
   ],
   "source": [
    "# 9.(d).\n",
    "cv_Lasso = LassoCV(cv=5, random_state=0).fit(X_train , y_train)\n",
    "cv_Lasso.alpha_"
   ]
  },
  {
   "cell_type": "code",
   "execution_count": 79,
   "metadata": {},
   "outputs": [
    {
     "data": {
      "text/plain": [
       "1106872.2596497042"
      ]
     },
     "execution_count": 79,
     "metadata": {},
     "output_type": "execute_result"
    }
   ],
   "source": [
    "np.mean((cv_Lasso.predict(X_test) - y_test)**2) # Test Error"
   ]
  },
  {
   "cell_type": "code",
   "execution_count": 81,
   "metadata": {},
   "outputs": [
    {
     "data": {
      "image/png": "[encoded data removed]",
      "text/plain": [
       "<Figure size 432x288 with 1 Axes>"
      ]
     },
     "metadata": {
      "needs_background": "light"
     },
     "output_type": "display_data"
    }
   ],
   "source": [
    "# 9.(e).\n",
    "# Now we will fit the PCR on the training data and calculate the error \n",
    "mse = make_scorer(mean_squared_error)\n",
    "def get_models():\n",
    "    models = dict()\n",
    "    for i in range(1,20):\n",
    "        steps = [('pca',PCA(n_components = i)),('m',LinearRegression())]\n",
    "        models[str(i)] = Pipeline(steps = steps)\n",
    "    return models\n",
    "\n",
    "# evaluate a given model using cross-validation\n",
    "def evaluate_model(model):\n",
    "    cv = KFold(n_splits = 10, shuffle =  True, random_state = random.randint(1,100))\n",
    "    scores = cross_val_score(model, X_train, y_train, scoring= mse, cv=cv, n_jobs=-1)\n",
    "    return scores\n",
    "\n",
    "# get the models to evaluate\n",
    "models = get_models()\n",
    "\n",
    "# evaluate the models and store results\n",
    "results, names = list(), list()\n",
    "for name, model in models.items():\n",
    "    scores = evaluate_model(model)\n",
    "    results.append(scores)\n",
    "    names.append(name)\n",
    "    \n",
    "plt.plot(np.mean(results, axis = 1))\n",
    "plt.xticks(list(range(0,19)))\n",
    "plt.show()"
   ]
  },
  {
   "cell_type": "code",
   "execution_count": 86,
   "metadata": {},
   "outputs": [
    {
     "data": {
      "text/plain": [
       "1080825.059546384"
      ]
     },
     "execution_count": 86,
     "metadata": {},
     "output_type": "execute_result"
    }
   ],
   "source": [
    "# The above plot suggest M = 4 or M = 11.\n",
    "# fit the PCA and transform the training and test dataset\n",
    "X_train_PCA = models['11']['pca'].fit_transform(X_train)\n",
    "X_test_PCA = models['11']['pca'].transform(X_test)\n",
    "\n",
    "lm = LinearRegression()\n",
    "lm.fit(X_train_PCA, y_train)\n",
    "np.mean((lm.predict(X_test_PCA) - y_test)**2)"
   ]
  },
  {
   "cell_type": "code",
   "execution_count": 87,
   "metadata": {},
   "outputs": [
    {
     "data": {
      "image/png": "[encoded data removed]",
      "text/plain": [
       "<Figure size 432x288 with 1 Axes>"
      ]
     },
     "metadata": {
      "needs_background": "light"
     },
     "output_type": "display_data"
    }
   ],
   "source": [
    "# 9.(f).\n",
    "# evaluate a given model using cross-validation\n",
    "def PLS_cv(X,y,n_comp):\n",
    "    model = PLSRegression(n_components = n_comp)\n",
    "    cv = KFold(n_splits = 10, shuffle =  True, random_state = random.randint(1,100))\n",
    "    scores = cross_val_score(model, X, y, scoring= mse, cv=cv, n_jobs=-1)\n",
    "    return scores\n",
    "\n",
    "# evaluate the models and store results\n",
    "results, names = list(), list()\n",
    "for i in range(1,20):\n",
    "    scores = PLS_cv(X_train,y_train,i)\n",
    "    results.append(scores)\n",
    "    names.append(i)    \n",
    "    \n",
    "plt.plot(np.mean(results, axis = 1))\n",
    "plt.xticks(names)\n",
    "plt.show()"
   ]
  },
  {
   "cell_type": "code",
   "execution_count": 91,
   "metadata": {},
   "outputs": [
    {
     "data": {
      "text/plain": [
       "990927.5386504993"
      ]
     },
     "execution_count": 91,
     "metadata": {},
     "output_type": "execute_result"
    }
   ],
   "source": [
    "# The chart above shows that M = 7 or M = 15\n",
    "# fit the PCA and transform the training and test dataset\n",
    "pls = PLSRegression(n_components =15)\n",
    "\n",
    "X_train_PLS = pls.fit_transform(X_train, y_train)\n",
    "X_train_PLS = X_train_PLS[0]\n",
    "\n",
    "X_test_PLS = pls.transform(X_test)\n",
    "\n",
    "lm = LinearRegression()\n",
    "lm.fit(X_train_PLS, y_train)\n",
    "np.mean((lm.predict(X_test_PLS) - y_test)**2)"
   ]
  },
  {
   "cell_type": "markdown",
   "metadata": {},
   "source": [
    "We can see that there is not much difference in the results and least square has performed even better in some cases. Also, the error seems to be quite high in all the cases."
   ]
  },
  {
   "cell_type": "code",
   "execution_count": 136,
   "metadata": {},
   "outputs": [],
   "source": [
    "# 10.(a).\n",
    "url = \"https://raw.githubusercontent.com/atystats/ISLR_Notes_codes/master/Datasets/Boston.csv\"\n",
    "Boston = pd.read_csv(url)\n",
    "variables = Boston.columns\n",
    "variables = variables.drop(\"crim\")"
   ]
  },
  {
   "cell_type": "code",
   "execution_count": 138,
   "metadata": {},
   "outputs": [
    {
     "name": "stdout",
     "output_type": "stream",
     "text": [
      "Done for :  0\n",
      "Done for :  1\n",
      "Done for :  2\n",
      "Done for :  3\n",
      "Done for :  4\n",
      "Done for :  5\n",
      "Done for :  6\n",
      "Done for :  7\n",
      "Done for :  8\n",
      "Done for :  9\n",
      "Done for :  10\n",
      "Done for :  11\n",
      "Done for :  12\n"
     ]
    }
   ],
   "source": [
    "def Best_subset_selection(dataset,response):\n",
    "    variables = dataset.columns\n",
    "    variables = variables.drop(response)\n",
    "    results = []\n",
    "    for k in range(len(variables)):\n",
    "        for subset in itertools.combinations(variables,k+1):\n",
    "            all_columns = \"+\".join(list(subset))\n",
    "            \n",
    "            my_formula = response + '~' + all_columns\n",
    "            model = ols(formula = my_formula, data = dataset).fit()\n",
    "            results.append({\"RSS\":model.mse_resid, \"R_squared\": model.rsquared,\"Variable_count\": k+1, \n",
    "                            'resid_sum': (model.resid ** 2).sum(), 'BIC': model.bic, \n",
    "                            'Adjusted_R2': model.rsquared_adj})\n",
    "        print(\"Done for : \",k)\n",
    "    Matrices = pd.DataFrame(results)\n",
    "    return(Matrices)\n",
    "Metrices = Best_subset_selection(Boston, \"crim\")\n",
    "\n",
    "sigma_sq = Metrices[Metrices['Variable_count']== len(Boston.columns) -1]['resid_sum']/(len(Boston) - len(Boston.columns) -1)\n",
    "Metrices[\"Cp\"] = (Metrices['resid_sum'] + 2 * Metrices['Variable_count'] * sigma_sq.values)/len(Boston)\n",
    "\n",
    "# Function to calculate the different statistics corresponding to each subset of varibles.\n",
    "def BSS_metrices(matrix, data):    \n",
    "    Min_RSS = matrix.groupby([\"Variable_count\"])['RSS'].min().reset_index()\n",
    "    Max_R2 = matrix.groupby([\"Variable_count\"])['R_squared'].max().reset_index()\n",
    "    Min_BIC = matrix.groupby([\"Variable_count\"])['BIC'].min().reset_index()\n",
    "    Max_adj_R2 = matrix.groupby([\"Variable_count\"])['Adjusted_R2'].max().reset_index()\n",
    "    sigma_sq = matrix[matrix['Variable_count']== len(data.columns) -1]['resid_sum']/(len(data) - len(data.columns) -1)\n",
    "    Min_Cp = matrix.groupby([\"Variable_count\"])['Cp'].min().reset_index()\n",
    "    All_mat = pd.concat([Min_RSS, Max_R2[\"R_squared\"], Min_BIC[\"BIC\"], Max_adj_R2[\"Adjusted_R2\"], Min_Cp[\"Cp\"]], axis = 1)\n",
    "    return(All_mat)\n",
    "\n",
    "Eval_mat = BSS_metrices(Metrices,Boston)"
   ]
  },
  {
   "cell_type": "code",
   "execution_count": 139,
   "metadata": {},
   "outputs": [
    {
     "name": "stdout",
     "output_type": "stream",
     "text": [
      "('rad', 'black', 'lstat')\n"
     ]
    }
   ],
   "source": [
    "# Function to get the list of variables that resulted in best statistics defined.\n",
    "def get_best_param(Eval_mat, matrix, stats, dataset, response):\n",
    "    variables = dataset.columns\n",
    "    variables = variables.drop(response)\n",
    "    if stats in ['RSS','BIC','Cp']:        \n",
    "        no_var = (Eval_mat[Eval_mat[stats] == Eval_mat[stats].min()][\"Variable_count\"]).values[0]\n",
    "        min_val = Eval_mat[stats].min()\n",
    "        data = matrix[matrix['Variable_count'] == no_var]\n",
    "        print(list(itertools.combinations(variables,no_var))[data[data[stats] == min_val].index[0] - data.index[0]])\n",
    "    else:    \n",
    "        no_var = (Eval_mat[Eval_mat[stats] == Eval_mat[stats].max()][\"Variable_count\"]).values[0]\n",
    "        max_val = Eval_mat[stats].max()\n",
    "        data = matrix[matrix['Variable_count'] == no_var]\n",
    "        print(list(itertools.combinations(variables,no_var))[data[data[stats] == max_val].index[0] - data.index[0]])\n",
    "        \n",
    "get_best_param(Eval_mat, Metrices, 'BIC', Boston, 'crim')"
   ]
  },
  {
   "cell_type": "code",
   "execution_count": 140,
   "metadata": {},
   "outputs": [
    {
     "data": {
      "text/plain": [
       "array([ 0.02410063, -0.00477455, -0.        , -0.        ,  0.        ,\n",
       "        0.01178236, -0.03409809,  0.49274523, -0.00078494, -0.        ,\n",
       "       -0.00942876,  0.12270841, -0.08859749])"
      ]
     },
     "execution_count": 140,
     "metadata": {},
     "output_type": "execute_result"
    }
   ],
   "source": [
    "X = np.array(Boston.drop('crim',axis = 1))\n",
    "y = np.array(Boston['crim'])\n",
    "cv_Lasso = LassoCV(cv=5, random_state=0).fit(X , y)\n",
    "cv_Lasso.coef_"
   ]
  },
  {
   "cell_type": "code",
   "execution_count": 142,
   "metadata": {},
   "outputs": [
    {
     "data": {
      "image/png": "[encoded data removed]",
      "text/plain": [
       "<Figure size 432x288 with 1 Axes>"
      ]
     },
     "metadata": {
      "needs_background": "light"
     },
     "output_type": "display_data"
    }
   ],
   "source": [
    "mse = make_scorer(mean_squared_error)\n",
    "def get_models():\n",
    "    models = dict()\n",
    "    for i in range(1,20):\n",
    "        steps = [('pca',PCA(n_components = i)),('m',LinearRegression())]\n",
    "        models[str(i)] = Pipeline(steps = steps)\n",
    "    return models\n",
    "\n",
    "# evaluate a given model using cross-validation\n",
    "def evaluate_model(model):\n",
    "    cv = KFold(n_splits = 10, shuffle =  True, random_state = random.randint(1,100))\n",
    "    scores = cross_val_score(model, X, y, scoring= mse, cv=cv, n_jobs=-1)\n",
    "    return scores\n",
    "\n",
    "# get the models to evaluate\n",
    "models = get_models()\n",
    "\n",
    "# evaluate the models and store results\n",
    "results, names = list(), list()\n",
    "for name, model in models.items():\n",
    "    scores = evaluate_model(model)\n",
    "    results.append(scores)\n",
    "    names.append(name)\n",
    "    \n",
    "plt.plot(np.mean(results, axis = 1))\n",
    "plt.xticks(list(range(0,13)))\n",
    "plt.show()"
   ]
  },
  {
   "cell_type": "code",
   "execution_count": 143,
   "metadata": {},
   "outputs": [
    {
     "data": {
      "text/plain": [
       "40.723084764790066"
      ]
     },
     "execution_count": 143,
     "metadata": {},
     "output_type": "execute_result"
    }
   ],
   "source": [
    "# The above plot suggest M = 4 or M = 11.\n",
    "# fit the PCA and transform the training and test dataset\n",
    "X_PCA = models['10']['pca'].fit_transform(X)\n",
    "\n",
    "lm = LinearRegression()\n",
    "lm.fit(X_PCA, y)\n",
    "np.mean((lm.predict(X_PCA) - y)**2)"
   ]
  },
  {
   "cell_type": "code",
   "execution_count": null,
   "metadata": {},
   "outputs": [],
   "source": []
  }
 ],
 "metadata": {
  "kernelspec": {
   "display_name": "Python 3",
   "language": "python",
   "name": "python3"
  },
  "language_info": {
   "codemirror_mode": {
    "name": "ipython",
    "version": 3
   },
   "file_extension": ".py",
   "mimetype": "text/x-python",
   "name": "python",
   "nbconvert_exporter": "python",
   "pygments_lexer": "ipython3",
   "version": "3.6.8"
  }
 },
 "nbformat": 4,
 "nbformat_minor": 4
}
