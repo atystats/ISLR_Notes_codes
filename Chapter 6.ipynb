{
 "cells": [
  {
   "cell_type": "markdown",
   "metadata": {},
   "source": [
    "# Chapter 6\n",
    "\n",
    "# Linear Model Selection and Regularization\n",
    "\n",
    "Some ways in which linear model can be improved by replacing least squares fitting with some alternative fitting procedures. These alternative procedures will improve the prediction accuracy and model interpretibility.\n",
    "\n",
    "__1. Prediction Accuracy__ :- Least square method is supposed to have low bias if the true model is linear and also if data is big enough it will have low variance as well. But if:\n",
    "\n",
    "    (i). p > n, no least square solution exist.\n",
    "    (ii). if n is not much larger than p, estimates will have higher variability and the model might overfit.\n",
    "   By constraining ot shrinkage, we can reduce the variance with some negligible increase in bias.\n",
    "\n",
    "__2. Model Interpretibility__ :- By setting irrelevant variables to zero, we can increase interpretibility of the model. Least square is unlikely to do that.\n",
    "\n",
    "\n",
    "## 3 methods of model selection and regularization :-\n",
    "__1. Best Subset Selection__:- Identifying a subset of p predictors that we believe related to response.\n",
    "\n",
    "__2. Shrinkage__:- Fitting a model with all variables but they are shrunken towards zero relative to least squares. Shrinkage can also perform variable selection.\n",
    "\n",
    "__3. Dimension Reduction__:- Projecting p predictors into M dimensional subspace, where M < p. This is done by taking M linear combination of the p variables.\n",
    "\n",
    "## Subset Selection :-\n",
    "Methods of selecting subset of predictors.\n",
    "\n",
    "### 1. Best Subset Selection :-\n",
    "Fit a seperate regression model for each combination of p predictors. Several stages of Best subset selection.\n",
    "1. Start with $M_o$ i.e. a null model.\n",
    "2. For k = 1,2,...p, Fit all $p \\choose k$ models and pick the best among them and call them $M_0$ based on RSS or $R^2$.\n",
    "3. Select a single best model from $M_0, M_1,......,M_p$ using cross validated prediction error, $C_p$, AIC, BIC or adjusted $R^2$.\n",
    "\n",
    "Step 2 is reducing the problem from one of $2^p$ to one of (p+1) possible models. But as p increases, RSS decreases and $R^2$ increase so we will end up selecting model with maximum variable. We need to check performance of test data and hence come step 3."
   ]
  },
  {
   "cell_type": "code",
   "execution_count": 5,
   "metadata": {},
   "outputs": [],
   "source": [
    "import pandas as pd\n",
    "import numpy as np\n",
    "import seaborn as sns\n",
    "import matplotlib.pyplot as plt\n",
    "import statistics as stats\n",
    "from sklearn.preprocessing import scale\n",
    "from sklearn.linear_model import LinearRegression\n",
    "from statsmodels.formula.api import ols\n",
    "import statsmodels.api as sm\n",
    "import random\n",
    "import itertools"
   ]
  },
  {
   "cell_type": "code",
   "execution_count": 34,
   "metadata": {},
   "outputs": [],
   "source": [
    "url = \"https://raw.githubusercontent.com/atystats/ISLR_Notes_codes/master/Datasets/Credit.csv\"\n",
    "Credit = pd.read_csv(url, index_col = 0)\n",
    "variables = Credit.columns\n",
    "variables = variables.drop(\"Balance\")"
   ]
  },
  {
   "cell_type": "code",
   "execution_count": 59,
   "metadata": {},
   "outputs": [
    {
     "name": "stdout",
     "output_type": "stream",
     "text": [
      "Done for :  0\n",
      "Done for :  1\n",
      "Done for :  2\n",
      "Done for :  3\n",
      "Done for :  4\n",
      "Done for :  5\n",
      "Done for :  6\n",
      "Done for :  7\n",
      "Done for :  8\n",
      "Done for :  9\n"
     ]
    }
   ],
   "source": [
    "results = []\n",
    "for k in range(len(variables)):\n",
    "    for subset in itertools.combinations(variables,k+1):\n",
    "        all_columns = \"+\".join(list(subset))\n",
    "        my_formula = \"Balance~\" + all_columns\n",
    "        model = ols(formula = my_formula, data = Credit).fit()\n",
    "        results.append({\"RSS\":model.mse_resid, \"R_squared\": model.rsquared,\"Variable_count\": k+1})\n",
    "    print(\"Done for : \",k)\n",
    "RSS_and_r2 = pd.DataFrame(results)\n",
    "Min_RSS = RSS_and_r2.groupby([\"Variable_count\"])['RSS'].min().reset_index()\n",
    "Max_R2 = RSS_and_r2.groupby([\"Variable_count\"])['R_squared'].max().reset_index()"
   ]
  },
  {
   "cell_type": "code",
   "execution_count": 79,
   "metadata": {},
   "outputs": [
    {
     "data": {
      "image/png": "[encoded data removed]",
      "text/plain": [
       "<Figure size 1008x504 with 2 Axes>"
      ]
     },
     "metadata": {
      "needs_background": "light"
     },
     "output_type": "display_data"
    }
   ],
   "source": [
    "fig = plt.figure(figsize = (14,7))\n",
    "ax1 = fig.add_subplot(121)\n",
    "ax1.scatter(RSS_and_r2[\"Variable_count\"], RSS_and_r2[\"RSS\"], color = \"grey\")\n",
    "ax1.plot(Min_RSS[\"Variable_count\"], Min_RSS[\"RSS\"], color = \"r\")\n",
    "ax1.set_xlabel(\"No. of predictors\", fontsize = 14)\n",
    "ax1.set_ylabel(\"Mean Sum of Squares\", fontsize = 14)\n",
    "ax2 = fig.add_subplot(122)\n",
    "ax2.scatter(RSS_and_r2[\"Variable_count\"], RSS_and_r2[\"R_squared\"], color = \"grey\")\n",
    "ax2.plot(Max_R2[\"Variable_count\"], Max_R2[\"R_squared\"], color = \"r\")\n",
    "ax2.set_xlabel(\"No. of predictors\", fontsize = 14)\n",
    "ax2.set_ylabel(\"$R^2$\", fontsize = 14)\n",
    "plt.show()"
   ]
  },
  {
   "cell_type": "markdown",
   "metadata": {},
   "source": [
    "Above plot shows that, after adding 3 variables, there is little improvement in RSS and $R^2$ with each additional variable. So the subset of 3 variable with combination that gives minimum error can be used for model building.\n",
    "\n",
    "For classification, instead of RSS or $R^2$, we can use deviance.\n",
    "\n",
    "__Deviance__:- Negetive two times the maximized log-likelihood; smaller the deviance, better the fit. Deviance can be used for a broader class of models. \n",
    "\n",
    "__Drawbacks of Best Subset Selection__ :-\n",
    "1. The drawback is that it can be computationally expensive if p is large.\n",
    "2. When p is large, we have a big search space and hence more chances of selecting a model that is good at training but not on testing."
   ]
  },
  {
   "cell_type": "markdown",
   "metadata": {},
   "source": [
    "### 2. Stepwise Selection :-\n",
    "Selecting a far more restricted set of variables.\n",
    "\n",
    "__Forward Stepwise Selection__ :- \n",
    "1. Start with null model $M_o$.\n",
    "2. For k = 0,1,2,.....,p-1. \n",
    "    \n",
    "    (i). Consider all p-k models that augment the predictors in $M_k$ with one additional predictor.\n",
    "    \n",
    "    (ii). Choose the best among p-k models and call it $M_{k+1}$. Here best is defined as having smallest RSS or highest $R^2$.\n",
    "    \n",
    "3. Select a single model from $M_0, M_1, .... , M_p$ using cross validation error, $C_p$, AIC, BIC, etc.\n",
    "\n",
    "Unlike Best subset selection, now we are considering only, 1 + p(p+1)/2 models.\n",
    "\n",
    "__Drawbacks__:- \n",
    "1. Not guaranteed to find the best model.\n",
    "2. If best one variable models has $X_1$, but best 2 variable model contain $X_2, X_3$, then forward selection will never select that model because 2 variable model will always have $X_1$.\n",
    "\n",
    "__Advantage__:- Forward selection can be applied in high dimensional setting where n < p; however we can only construct $M_1,......,M_{n-1}$ only."
   ]
  },
  {
   "cell_type": "code",
   "execution_count": null,
   "metadata": {},
   "outputs": [],
   "source": []
  },
  {
   "cell_type": "code",
   "execution_count": null,
   "metadata": {},
   "outputs": [],
   "source": []
  },
  {
   "cell_type": "code",
   "execution_count": null,
   "metadata": {},
   "outputs": [],
   "source": []
  },
  {
   "cell_type": "code",
   "execution_count": null,
   "metadata": {},
   "outputs": [],
   "source": []
  },
  {
   "cell_type": "code",
   "execution_count": null,
   "metadata": {},
   "outputs": [],
   "source": []
  },
  {
   "cell_type": "code",
   "execution_count": 58,
   "metadata": {},
   "outputs": [],
   "source": []
  },
  {
   "cell_type": "code",
   "execution_count": null,
   "metadata": {},
   "outputs": [],
   "source": []
  }
 ],
 "metadata": {
  "kernelspec": {
   "display_name": "Python 3",
   "language": "python",
   "name": "python3"
  },
  "language_info": {
   "codemirror_mode": {
    "name": "ipython",
    "version": 3
   },
   "file_extension": ".py",
   "mimetype": "text/x-python",
   "name": "python",
   "nbconvert_exporter": "python",
   "pygments_lexer": "ipython3",
   "version": "3.6.8"
  }
 },
 "nbformat": 4,
 "nbformat_minor": 4
}
