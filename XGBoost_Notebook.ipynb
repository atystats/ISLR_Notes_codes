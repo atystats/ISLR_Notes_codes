{
 "cells": [
  {
   "cell_type": "markdown",
   "metadata": {},
   "source": [
    "# XGBoost"
   ]
  },
  {
   "cell_type": "code",
   "execution_count": 20,
   "metadata": {},
   "outputs": [],
   "source": [
    "import numpy as np\n",
    "import pandas as pd\n",
    "import xgboost as xg\n",
    "from sklearn.model_selection import train_test_split, KFold, cross_val_score, StratifiedKFold, GridSearchCV\n",
    "from sklearn.metrics import accuracy_score\n",
    "from sklearn.preprocessing import LabelEncoder, OneHotEncoder\n",
    "from sklearn.impute import SimpleImputer\n",
    "import sklearn.externals \n",
    "from sklearn.feature_selection import SelectFromModel\n",
    "import matplotlib.pyplot as plt\n",
    "from matplotlib import figure as fig\n",
    "import pickle\n",
    "import joblib\n",
    "from time import time"
   ]
  },
  {
   "cell_type": "markdown",
   "metadata": {},
   "source": [
    "## Pima Indians Dataset"
   ]
  },
  {
   "cell_type": "code",
   "execution_count": 3,
   "metadata": {},
   "outputs": [
    {
     "data": {
      "text/plain": [
       "(767, 9)"
      ]
     },
     "execution_count": 3,
     "metadata": {},
     "output_type": "execute_result"
    }
   ],
   "source": [
    "#Load the data Pima Indians dataset.\n",
    "url = \"https://raw.githubusercontent.com/atystats/ISLR_Notes_codes/master/Datasets/pima-indians-diabetes.csv\"\n",
    "dataset_pd = pd.read_csv(url)\n",
    "dataset = np.array(dataset_pd)\n",
    "dataset.shape"
   ]
  },
  {
   "cell_type": "code",
   "execution_count": 4,
   "metadata": {},
   "outputs": [],
   "source": [
    "# Seperating target and predictors\n",
    "X = dataset[:,0:8]\n",
    "y = dataset[:,8]"
   ]
  },
  {
   "cell_type": "code",
   "execution_count": 5,
   "metadata": {},
   "outputs": [],
   "source": [
    "# Train and test split of the data\n",
    "X_train, X_test, y_train, y_test = train_test_split(X, y, test_size = 0.33, random_state = 7)"
   ]
  },
  {
   "cell_type": "code",
   "execution_count": 6,
   "metadata": {},
   "outputs": [
    {
     "data": {
      "text/plain": [
       "XGBClassifier(base_score=0.5, booster='gbtree', colsample_bylevel=1,\n",
       "              colsample_bynode=1, colsample_bytree=1, gamma=0, gpu_id=-1,\n",
       "              importance_type='gain', interaction_constraints='',\n",
       "              learning_rate=0.300000012, max_delta_step=0, max_depth=6,\n",
       "              min_child_weight=1, missing=nan, monotone_constraints='()',\n",
       "              n_estimators=100, n_jobs=0, num_parallel_tree=1, random_state=0,\n",
       "              reg_alpha=0, reg_lambda=1, scale_pos_weight=1, subsample=1,\n",
       "              tree_method='exact', validate_parameters=1, verbosity=None)"
      ]
     },
     "execution_count": 6,
     "metadata": {},
     "output_type": "execute_result"
    }
   ],
   "source": [
    "# Fitting the XGBoost Model. The XGBoost use Scikit - learn API.\n",
    "model = xg.XGBClassifier()\n",
    "model.fit(X_train, y_train)"
   ]
  },
  {
   "cell_type": "code",
   "execution_count": 22,
   "metadata": {},
   "outputs": [],
   "source": [
    "# Make prediction with XGBoost Model\n",
    "predictions = model.predict(X_test)"
   ]
  },
  {
   "cell_type": "code",
   "execution_count": 25,
   "metadata": {},
   "outputs": [
    {
     "name": "stdout",
     "output_type": "stream",
     "text": [
      "Accuracy: 71.65%\n"
     ]
    }
   ],
   "source": [
    "# Accuracy of the model\n",
    "accuracy = accuracy_score(y_test, predictions)\n",
    "print(\"Accuracy: %.2f%%\" % (accuracy* 100))"
   ]
  },
  {
   "cell_type": "markdown",
   "metadata": {},
   "source": [
    "The accuracy of the model is 71.65%. We are correctly predicting the class 71.65% of the time.\n",
    "\n",
    "* Boosting Algorithm expects only the numerical variables. So we need to conver categorical to numerical variables.\n",
    "\n",
    "## Iris dataset (Encoding Categorical variables)"
   ]
  },
  {
   "cell_type": "code",
   "execution_count": 27,
   "metadata": {},
   "outputs": [
    {
     "data": {
      "text/plain": [
       "(149, 5)"
      ]
     },
     "execution_count": 27,
     "metadata": {},
     "output_type": "execute_result"
    }
   ],
   "source": [
    "# Loading the Iris dataset.\n",
    "url = \"https://raw.githubusercontent.com/atystats/ISLR_Notes_codes/master/Datasets/Iris.csv\"\n",
    "data = pd.read_csv(url)\n",
    "dataset = data.values\n",
    "dataset.shape"
   ]
  },
  {
   "cell_type": "code",
   "execution_count": 30,
   "metadata": {},
   "outputs": [],
   "source": [
    "# Seperating target and predictors\n",
    "X = dataset[:,0:4]\n",
    "y = dataset[:,4]"
   ]
  },
  {
   "cell_type": "code",
   "execution_count": 31,
   "metadata": {},
   "outputs": [],
   "source": [
    "#Encode string values as numerical\n",
    "label_encoder = LabelEncoder()\n",
    "label_encoder = label_encoder.fit(y)\n",
    "label_encoder_y = label_encoder.transform(y)"
   ]
  },
  {
   "cell_type": "code",
   "execution_count": 33,
   "metadata": {},
   "outputs": [],
   "source": [
    "# Train and test split of the data\n",
    "X_train, X_test, y_train, y_test = train_test_split(X, label_encoder_y, test_size = 0.33, random_state = 7)"
   ]
  },
  {
   "cell_type": "code",
   "execution_count": 34,
   "metadata": {},
   "outputs": [
    {
     "data": {
      "text/plain": [
       "XGBClassifier(base_score=0.5, booster='gbtree', colsample_bylevel=1,\n",
       "              colsample_bynode=1, colsample_bytree=1, gamma=0, gpu_id=-1,\n",
       "              importance_type='gain', interaction_constraints='',\n",
       "              learning_rate=0.300000012, max_delta_step=0, max_depth=6,\n",
       "              min_child_weight=1, missing=nan, monotone_constraints='()',\n",
       "              n_estimators=100, n_jobs=0, num_parallel_tree=1,\n",
       "              objective='multi:softprob', random_state=0, reg_alpha=0,\n",
       "              reg_lambda=1, scale_pos_weight=None, subsample=1,\n",
       "              tree_method='exact', validate_parameters=1, verbosity=None)"
      ]
     },
     "execution_count": 34,
     "metadata": {},
     "output_type": "execute_result"
    }
   ],
   "source": [
    "# Fitting the XGBoost Model. The XGBoost use Scikit - learn API.\n",
    "model = xg.XGBClassifier()\n",
    "model.fit(X_train, y_train)"
   ]
  },
  {
   "cell_type": "code",
   "execution_count": 35,
   "metadata": {},
   "outputs": [],
   "source": [
    "# Make prediction with XGBoost Model\n",
    "predictions = model.predict(X_test)"
   ]
  },
  {
   "cell_type": "code",
   "execution_count": 36,
   "metadata": {},
   "outputs": [
    {
     "name": "stdout",
     "output_type": "stream",
     "text": [
      "Accuracy: 92.00%\n"
     ]
    }
   ],
   "source": [
    "# Accuracy of the model\n",
    "accuracy = accuracy_score(y_test, predictions)\n",
    "print(\"Accuracy: %.2f%%\" % (accuracy* 100))"
   ]
  },
  {
   "cell_type": "markdown",
   "metadata": {},
   "source": [
    "The objective function has changed to \"multi:softprob\" because of the multiclass classification. We will now look at a dataset where all the variables are categorical.\n",
    "\n",
    "## Breast Cancer Dataset (One Hot Encoding) :-"
   ]
  },
  {
   "cell_type": "code",
   "execution_count": 47,
   "metadata": {},
   "outputs": [
    {
     "data": {
      "text/plain": [
       "(286, 10)"
      ]
     },
     "execution_count": 47,
     "metadata": {},
     "output_type": "execute_result"
    }
   ],
   "source": [
    "# Loading the Breast Cancer dataset.\n",
    "url = \"https://raw.githubusercontent.com/atystats/ISLR_Notes_codes/master/Datasets/breast-cancer.data\"\n",
    "data = pd.read_csv(url, header = None)\n",
    "dataset = data.values\n",
    "dataset.shape"
   ]
  },
  {
   "cell_type": "code",
   "execution_count": 49,
   "metadata": {},
   "outputs": [],
   "source": [
    "# Seperating target and predictors\n",
    "X = dataset[:,0:9]\n",
    "y = dataset[:,9]"
   ]
  },
  {
   "cell_type": "code",
   "execution_count": 53,
   "metadata": {},
   "outputs": [],
   "source": [
    "columns = []\n",
    "for i in range(X.shape[1]):\n",
    "    label_encoder = LabelEncoder()\n",
    "    feature = label_encoder.fit_transform(X[:,i])\n",
    "    feature = feature.reshape(X.shape[0], 1)\n",
    "    onehot_encoder = OneHotEncoder(sparse = False)\n",
    "    feature = onehot_encoder.fit_transform(feature)\n",
    "    columns.append(feature)\n",
    "\n",
    "# Collapse columns into array\n",
    "encoded_x = np.column_stack(columns)"
   ]
  },
  {
   "cell_type": "code",
   "execution_count": 57,
   "metadata": {},
   "outputs": [],
   "source": [
    "#Encode string values as numerical\n",
    "label_encoder = LabelEncoder()\n",
    "label_encoder = label_encoder.fit(y)\n",
    "label_encoder_y = label_encoder.transform(y)"
   ]
  },
  {
   "cell_type": "code",
   "execution_count": 58,
   "metadata": {},
   "outputs": [],
   "source": [
    "# Train and test split of the data\n",
    "X_train, X_test, y_train, y_test = train_test_split(encoded_x, label_encoder_y, test_size = 0.33, random_state = 7)"
   ]
  },
  {
   "cell_type": "code",
   "execution_count": 59,
   "metadata": {},
   "outputs": [
    {
     "data": {
      "text/plain": [
       "XGBClassifier(base_score=0.5, booster='gbtree', colsample_bylevel=1,\n",
       "              colsample_bynode=1, colsample_bytree=1, gamma=0, gpu_id=-1,\n",
       "              importance_type='gain', interaction_constraints='',\n",
       "              learning_rate=0.300000012, max_delta_step=0, max_depth=6,\n",
       "              min_child_weight=1, missing=nan, monotone_constraints='()',\n",
       "              n_estimators=100, n_jobs=0, num_parallel_tree=1, random_state=0,\n",
       "              reg_alpha=0, reg_lambda=1, scale_pos_weight=1, subsample=1,\n",
       "              tree_method='exact', validate_parameters=1, verbosity=None)"
      ]
     },
     "execution_count": 59,
     "metadata": {},
     "output_type": "execute_result"
    }
   ],
   "source": [
    "# Fitting the XGBoost Model. The XGBoost use Scikit - learn API.\n",
    "model = xg.XGBClassifier()\n",
    "model.fit(X_train, y_train)"
   ]
  },
  {
   "cell_type": "code",
   "execution_count": 60,
   "metadata": {},
   "outputs": [],
   "source": [
    "# Make prediction with XGBoost Model\n",
    "predictions = model.predict(X_test)"
   ]
  },
  {
   "cell_type": "code",
   "execution_count": 61,
   "metadata": {},
   "outputs": [
    {
     "name": "stdout",
     "output_type": "stream",
     "text": [
      "Accuracy: 71.58%\n"
     ]
    }
   ],
   "source": [
    "# Accuracy of the model\n",
    "accuracy = accuracy_score(y_test, predictions)\n",
    "print(\"Accuracy: %.2f%%\" % (accuracy* 100))"
   ]
  },
  {
   "cell_type": "markdown",
   "metadata": {},
   "source": [
    "## Horse Colic Dataset (Support for Missing Data) :-\n",
    "\n",
    "XGBoost is designed to work with sparse data or the missing data. We will now use a data with a lot missing values."
   ]
  },
  {
   "cell_type": "code",
   "execution_count": 66,
   "metadata": {},
   "outputs": [
    {
     "data": {
      "text/plain": [
       "(300, 28)"
      ]
     },
     "execution_count": 66,
     "metadata": {},
     "output_type": "execute_result"
    }
   ],
   "source": [
    "# Loading the Horse Colic dataset.\n",
    "url = \"https://raw.githubusercontent.com/atystats/ISLR_Notes_codes/master/Datasets/Horse_Colic.csv\"\n",
    "data = pd.read_csv(url, header = None)\n",
    "dataset = data.values\n",
    "dataset.shape"
   ]
  },
  {
   "cell_type": "code",
   "execution_count": 70,
   "metadata": {},
   "outputs": [],
   "source": [
    "# set missing value to 0\n",
    "dataset[dataset == '?'] = 0\n",
    "dataset = dataset.astype('float32')"
   ]
  },
  {
   "cell_type": "code",
   "execution_count": 74,
   "metadata": {},
   "outputs": [],
   "source": [
    "# Seperating target and predictors\n",
    "X = dataset[:,0:27]\n",
    "y = dataset[:,27]"
   ]
  },
  {
   "cell_type": "code",
   "execution_count": 75,
   "metadata": {},
   "outputs": [],
   "source": [
    "#Encode string values as numerical\n",
    "label_encoder = LabelEncoder()\n",
    "label_encoder = label_encoder.fit(y)\n",
    "label_encoder_y = label_encoder.transform(y)"
   ]
  },
  {
   "cell_type": "code",
   "execution_count": 76,
   "metadata": {},
   "outputs": [],
   "source": [
    "# Train and test split of the data\n",
    "X_train, X_test, y_train, y_test = train_test_split(X, label_encoder_y, test_size = 0.33, random_state = 7)"
   ]
  },
  {
   "cell_type": "code",
   "execution_count": 77,
   "metadata": {},
   "outputs": [
    {
     "data": {
      "text/plain": [
       "XGBClassifier(base_score=0.5, booster='gbtree', colsample_bylevel=1,\n",
       "              colsample_bynode=1, colsample_bytree=1, gamma=0, gpu_id=-1,\n",
       "              importance_type='gain', interaction_constraints='',\n",
       "              learning_rate=0.300000012, max_delta_step=0, max_depth=6,\n",
       "              min_child_weight=1, missing=nan, monotone_constraints='()',\n",
       "              n_estimators=100, n_jobs=0, num_parallel_tree=1, random_state=0,\n",
       "              reg_alpha=0, reg_lambda=1, scale_pos_weight=1, subsample=1,\n",
       "              tree_method='exact', validate_parameters=1, verbosity=None)"
      ]
     },
     "execution_count": 77,
     "metadata": {},
     "output_type": "execute_result"
    }
   ],
   "source": [
    "# Fitting the XGBoost Model. The XGBoost use Scikit - learn API.\n",
    "model = xg.XGBClassifier()\n",
    "model.fit(X_train, y_train)"
   ]
  },
  {
   "cell_type": "code",
   "execution_count": 78,
   "metadata": {},
   "outputs": [],
   "source": [
    "# Make prediction with XGBoost Model\n",
    "predictions = model.predict(X_test)"
   ]
  },
  {
   "cell_type": "code",
   "execution_count": 79,
   "metadata": {},
   "outputs": [
    {
     "name": "stdout",
     "output_type": "stream",
     "text": [
      "Accuracy: 82.83%\n"
     ]
    }
   ],
   "source": [
    "# Accuracy of the model\n",
    "accuracy = accuracy_score(y_test, predictions)\n",
    "print(\"Accuracy: %.2f%%\" % (accuracy* 100))"
   ]
  },
  {
   "cell_type": "markdown",
   "metadata": {},
   "source": [
    "We have changed the \"?\" to 0 in above example. 0 is the sparse value expected by XGBoost. Now we will just replace with \"?\" with Nan."
   ]
  },
  {
   "cell_type": "code",
   "execution_count": 80,
   "metadata": {},
   "outputs": [
    {
     "name": "stdout",
     "output_type": "stream",
     "text": [
      "Accuracy: 83.84%\n"
     ]
    }
   ],
   "source": [
    "dataset = data.values\n",
    "dataset[dataset == '?'] = np.nan\n",
    "dataset = dataset.astype('float32')\n",
    "X = dataset[:,0:27]\n",
    "\n",
    "# Train and test split of the data\n",
    "X_train, X_test, y_train, y_test = train_test_split(X, label_encoder_y, test_size = 0.33, random_state = 7)\n",
    "\n",
    "# Fitting the XGBoost Model. The XGBoost use Scikit - learn API.\n",
    "model = xg.XGBClassifier()\n",
    "model.fit(X_train, y_train)\n",
    "\n",
    "# Make prediction with XGBoost Model\n",
    "predictions = model.predict(X_test)\n",
    "\n",
    "# Accuracy of the model\n",
    "accuracy = accuracy_score(y_test, predictions)\n",
    "print(\"Accuracy: %.2f%%\" % (accuracy* 100))"
   ]
  },
  {
   "cell_type": "markdown",
   "metadata": {},
   "source": [
    "We will now impute the missing values using mean value."
   ]
  },
  {
   "cell_type": "code",
   "execution_count": 83,
   "metadata": {},
   "outputs": [
    {
     "name": "stdout",
     "output_type": "stream",
     "text": [
      "Accuracy: 81.82%\n"
     ]
    }
   ],
   "source": [
    "impute = SimpleImputer()\n",
    "imputed_x = impute.fit_transform(X)\n",
    "# Train and test split of the data\n",
    "X_train, X_test, y_train, y_test = train_test_split(imputed_x, label_encoder_y, test_size = 0.33, random_state = 7)\n",
    "\n",
    "# Fitting the XGBoost Model. The XGBoost use Scikit - learn API.\n",
    "model = xg.XGBClassifier()\n",
    "model.fit(X_train, y_train)\n",
    "\n",
    "# Make prediction with XGBoost Model\n",
    "predictions = model.predict(X_test)\n",
    "\n",
    "# Accuracy of the model\n",
    "accuracy = accuracy_score(y_test, predictions)\n",
    "print(\"Accuracy: %.2f%%\" % (accuracy* 100))"
   ]
  },
  {
   "cell_type": "markdown",
   "metadata": {},
   "source": [
    "## Evaluate Model using K-Fold Cross Validation"
   ]
  },
  {
   "cell_type": "code",
   "execution_count": 88,
   "metadata": {},
   "outputs": [
    {
     "name": "stdout",
     "output_type": "stream",
     "text": [
      "Accuracy: 73.67% (4.58%)\n"
     ]
    }
   ],
   "source": [
    "#Load the data Pima Indians dataset.\n",
    "url = \"https://raw.githubusercontent.com/atystats/ISLR_Notes_codes/master/Datasets/pima-indians-diabetes.csv\"\n",
    "dataset_pd = pd.read_csv(url)\n",
    "dataset = np.array(dataset_pd)\n",
    "\n",
    "# Seperating target and predictors\n",
    "X = dataset[:,0:8]\n",
    "y = dataset[:,8]\n",
    "\n",
    "model = xg.XGBClassifier()\n",
    "kfold = KFold(n_splits = 10)\n",
    "results = cross_val_score(model, X, y, cv = kfold)\n",
    "print(\"Accuracy: %.2f%% (%.2f%%)\" % (results.mean()*100, results.std()*100))"
   ]
  },
  {
   "cell_type": "markdown",
   "metadata": {},
   "source": [
    "For an imbalanced class problem, we might wants to use stratifiedKFold."
   ]
  },
  {
   "cell_type": "code",
   "execution_count": 91,
   "metadata": {},
   "outputs": [
    {
     "name": "stdout",
     "output_type": "stream",
     "text": [
      "Accuracy: 73.55% (4.64%)\n"
     ]
    }
   ],
   "source": [
    "kfold = StratifiedKFold(n_splits = 10)\n",
    "results = cross_val_score(model, X, y, cv = kfold)\n",
    "print(\"Accuracy: %.2f%% (%.2f%%)\" % (results.mean()*100, results.std()*100))"
   ]
  },
  {
   "cell_type": "markdown",
   "metadata": {},
   "source": [
    "### Plotting a tree from XGBoost"
   ]
  },
  {
   "cell_type": "code",
   "execution_count": 124,
   "metadata": {},
   "outputs": [
    {
     "data": {
      "image/png": "[encoded data removed]",
      "text/plain": [
       "<Figure size 2160x4320 with 1 Axes>"
      ]
     },
     "metadata": {
      "needs_background": "light"
     },
     "output_type": "display_data"
    }
   ],
   "source": [
    "model = xg.XGBClassifier()\n",
    "model.fit(X,y)\n",
    "fig, ax = plt.subplots(figsize=(30, 60))\n",
    "xg.plot_tree(model, ax = ax, num_tree = 0)\n",
    "plt.show()"
   ]
  },
  {
   "cell_type": "markdown",
   "metadata": {},
   "source": [
    "## Save and load trained XGBoost Models"
   ]
  },
  {
   "cell_type": "code",
   "execution_count": 8,
   "metadata": {},
   "outputs": [],
   "source": [
    "# save model to a file named pima.pickle\n",
    "pickle.dump(model, open('pima.pickle', 'wb'))"
   ]
  },
  {
   "cell_type": "code",
   "execution_count": 9,
   "metadata": {},
   "outputs": [],
   "source": [
    "# load model in to the environment.\n",
    "loaded_model = pickle.load(open('pima.pickle','rb'))"
   ]
  },
  {
   "cell_type": "markdown",
   "metadata": {},
   "source": [
    "The model loaded above can be used to make predictions. We can also use joblib for saving the model."
   ]
  },
  {
   "cell_type": "code",
   "execution_count": 14,
   "metadata": {},
   "outputs": [
    {
     "data": {
      "text/plain": [
       "['pima.joblib.dat']"
      ]
     },
     "execution_count": 14,
     "metadata": {},
     "output_type": "execute_result"
    }
   ],
   "source": [
    "# save model to a file named pima.joblib.dat\n",
    "joblib.dump(model, 'pima.joblib.dat')"
   ]
  },
  {
   "cell_type": "code",
   "execution_count": 16,
   "metadata": {},
   "outputs": [],
   "source": [
    "# load model in to the environment.\n",
    "loaded_model = joblib.load('pima.joblib.dat')"
   ]
  },
  {
   "cell_type": "code",
   "execution_count": 18,
   "metadata": {},
   "outputs": [
    {
     "name": "stdout",
     "output_type": "stream",
     "text": [
      "Accuracy: 71.65%\n"
     ]
    }
   ],
   "source": [
    "predictions = loaded_model.predict(X_test)\n",
    "# Accuracy of the model\n",
    "accuracy = accuracy_score(y_test, predictions)\n",
    "print(\"Accuracy: %.2f%%\" % (accuracy* 100))"
   ]
  },
  {
   "cell_type": "markdown",
   "metadata": {},
   "source": [
    "## Feature Importance and Feature Selection\n",
    "\n",
    "Importance is calculated for a single decision tree by the amount that each attribute split point improves the performance measure, weighted by the number of observations the node is responsible for."
   ]
  },
  {
   "cell_type": "code",
   "execution_count": 19,
   "metadata": {},
   "outputs": [
    {
     "name": "stdout",
     "output_type": "stream",
     "text": [
      "[0.11493116 0.22045502 0.09356379 0.09347729 0.09980775 0.16706984\n",
      " 0.1097094  0.1009858 ]\n"
     ]
    }
   ],
   "source": [
    "# Print variable importance\n",
    "print(model.feature_importances_)"
   ]
  },
  {
   "cell_type": "code",
   "execution_count": 21,
   "metadata": {},
   "outputs": [
    {
     "data": {
      "image/png": "[encoded data removed]",
      "text/plain": [
       "<Figure size 432x288 with 1 Axes>"
      ]
     },
     "metadata": {
      "needs_background": "light"
     },
     "output_type": "display_data"
    }
   ],
   "source": [
    "# Plot the feature importance.\n",
    "plt.bar(range(len(model.feature_importances_)), model.feature_importances_)\n",
    "plt.show()"
   ]
  },
  {
   "cell_type": "code",
   "execution_count": 23,
   "metadata": {},
   "outputs": [
    {
     "data": {
      "image/png": "[encoded data removed]",
      "text/plain": [
       "<Figure size 432x288 with 1 Axes>"
      ]
     },
     "metadata": {
      "needs_background": "light"
     },
     "output_type": "display_data"
    }
   ],
   "source": [
    "# We can also use the built-in fucntion for the plotting of feature importance.\n",
    "xg.plot_importance(model)\n",
    "plt.show()"
   ]
  },
  {
   "cell_type": "markdown",
   "metadata": {},
   "source": [
    "### Feature selection using XGBoost feature selection score."
   ]
  },
  {
   "cell_type": "code",
   "execution_count": 30,
   "metadata": {},
   "outputs": [
    {
     "name": "stdout",
     "output_type": "stream",
     "text": [
      "Thresh: 0.115, n = 3, Accuracy: 71.65%\n",
      "Thresh: 0.220, n = 1, Accuracy: 70.87%\n",
      "Thresh: 0.094, n = 7, Accuracy: 73.62%\n",
      "Thresh: 0.093, n = 8, Accuracy: 71.65%\n",
      "Thresh: 0.100, n = 6, Accuracy: 74.02%\n",
      "Thresh: 0.167, n = 2, Accuracy: 74.41%\n",
      "Thresh: 0.110, n = 4, Accuracy: 71.65%\n",
      "Thresh: 0.101, n = 5, Accuracy: 74.02%\n"
     ]
    }
   ],
   "source": [
    "for thresh in model.feature_importances_:\n",
    "    selection = SelectFromModel(model, threshold = thresh, prefit = True)\n",
    "    Select_X_train = selection.transform(X_train)\n",
    "    selection_model = xg.XGBClassifier()\n",
    "    selection_model.fit(Select_X_train, y_train)\n",
    "    Select_X_test = selection.transform(X_test)\n",
    "    y_pred = selection_model.predict(Select_X_test)\n",
    "    print(\"Thresh: %.3f, n = %d, Accuracy: %.2f%%\" % (thresh, Select_X_train.shape[1], accuracy_score(y_test, y_pred)* 100))"
   ]
  },
  {
   "cell_type": "markdown",
   "metadata": {},
   "source": [
    "## Monitor training performance and Early Stopping\n",
    "Early stopping is an approach to training complex machine learning models to avoid overfitting. It works by monitoring the performance of the model that is being trained on a separate test dataset and stopping the training procedure once the performance on the test dataset has not improved after a fixed number of training iterations."
   ]
  },
  {
   "cell_type": "code",
   "execution_count": 2,
   "metadata": {},
   "outputs": [
    {
     "name": "stdout",
     "output_type": "stream",
     "text": [
      "[0]\tvalidation_0-error:0.29921\n",
      "[1]\tvalidation_0-error:0.25591\n",
      "[2]\tvalidation_0-error:0.22441\n",
      "[3]\tvalidation_0-error:0.21654\n",
      "[4]\tvalidation_0-error:0.20079\n",
      "[5]\tvalidation_0-error:0.22835\n",
      "[6]\tvalidation_0-error:0.23228\n",
      "[7]\tvalidation_0-error:0.22047\n",
      "[8]\tvalidation_0-error:0.21654\n",
      "[9]\tvalidation_0-error:0.22835\n",
      "[10]\tvalidation_0-error:0.22835\n",
      "[11]\tvalidation_0-error:0.22835\n",
      "[12]\tvalidation_0-error:0.23228\n",
      "[13]\tvalidation_0-error:0.23228\n",
      "[14]\tvalidation_0-error:0.22835\n",
      "[15]\tvalidation_0-error:0.24803\n",
      "[16]\tvalidation_0-error:0.24016\n",
      "[17]\tvalidation_0-error:0.24016\n",
      "[18]\tvalidation_0-error:0.24016\n",
      "[19]\tvalidation_0-error:0.24803\n",
      "[20]\tvalidation_0-error:0.24409\n",
      "[21]\tvalidation_0-error:0.24803\n",
      "[22]\tvalidation_0-error:0.25197\n",
      "[23]\tvalidation_0-error:0.25591\n",
      "[24]\tvalidation_0-error:0.25591\n",
      "[25]\tvalidation_0-error:0.24803\n",
      "[26]\tvalidation_0-error:0.25591\n",
      "[27]\tvalidation_0-error:0.25197\n",
      "[28]\tvalidation_0-error:0.25197\n",
      "[29]\tvalidation_0-error:0.25591\n",
      "[30]\tvalidation_0-error:0.25984\n",
      "[31]\tvalidation_0-error:0.24803\n",
      "[32]\tvalidation_0-error:0.25591\n",
      "[33]\tvalidation_0-error:0.25984\n",
      "[34]\tvalidation_0-error:0.25984\n",
      "[35]\tvalidation_0-error:0.27165\n",
      "[36]\tvalidation_0-error:0.27165\n",
      "[37]\tvalidation_0-error:0.27559\n",
      "[38]\tvalidation_0-error:0.27559\n",
      "[39]\tvalidation_0-error:0.27165\n",
      "[40]\tvalidation_0-error:0.26772\n",
      "[41]\tvalidation_0-error:0.27953\n",
      "[42]\tvalidation_0-error:0.27165\n",
      "[43]\tvalidation_0-error:0.27559\n",
      "[44]\tvalidation_0-error:0.27165\n",
      "[45]\tvalidation_0-error:0.27559\n",
      "[46]\tvalidation_0-error:0.27559\n",
      "[47]\tvalidation_0-error:0.26772\n",
      "[48]\tvalidation_0-error:0.25591\n",
      "[49]\tvalidation_0-error:0.25591\n",
      "[50]\tvalidation_0-error:0.25984\n",
      "[51]\tvalidation_0-error:0.26378\n",
      "[52]\tvalidation_0-error:0.25984\n",
      "[53]\tvalidation_0-error:0.26378\n",
      "[54]\tvalidation_0-error:0.25984\n",
      "[55]\tvalidation_0-error:0.25984\n",
      "[56]\tvalidation_0-error:0.25984\n",
      "[57]\tvalidation_0-error:0.26378\n",
      "[58]\tvalidation_0-error:0.26772\n",
      "[59]\tvalidation_0-error:0.26378\n",
      "[60]\tvalidation_0-error:0.26378\n",
      "[61]\tvalidation_0-error:0.27165\n",
      "[62]\tvalidation_0-error:0.26772\n",
      "[63]\tvalidation_0-error:0.26772\n",
      "[64]\tvalidation_0-error:0.25984\n",
      "[65]\tvalidation_0-error:0.26378\n",
      "[66]\tvalidation_0-error:0.26378\n",
      "[67]\tvalidation_0-error:0.27165\n",
      "[68]\tvalidation_0-error:0.26378\n",
      "[69]\tvalidation_0-error:0.25984\n",
      "[70]\tvalidation_0-error:0.26772\n",
      "[71]\tvalidation_0-error:0.26772\n",
      "[72]\tvalidation_0-error:0.27165\n",
      "[73]\tvalidation_0-error:0.26772\n",
      "[74]\tvalidation_0-error:0.26378\n",
      "[75]\tvalidation_0-error:0.26378\n",
      "[76]\tvalidation_0-error:0.26378\n",
      "[77]\tvalidation_0-error:0.26772\n",
      "[78]\tvalidation_0-error:0.26378\n",
      "[79]\tvalidation_0-error:0.26772\n",
      "[80]\tvalidation_0-error:0.27165\n",
      "[81]\tvalidation_0-error:0.26772\n",
      "[82]\tvalidation_0-error:0.25984\n",
      "[83]\tvalidation_0-error:0.27165\n",
      "[84]\tvalidation_0-error:0.26772\n",
      "[85]\tvalidation_0-error:0.27165\n",
      "[86]\tvalidation_0-error:0.27953\n",
      "[87]\tvalidation_0-error:0.27165\n",
      "[88]\tvalidation_0-error:0.27559\n",
      "[89]\tvalidation_0-error:0.27953\n",
      "[90]\tvalidation_0-error:0.27953\n",
      "[91]\tvalidation_0-error:0.28740\n",
      "[92]\tvalidation_0-error:0.27559\n",
      "[93]\tvalidation_0-error:0.27559\n",
      "[94]\tvalidation_0-error:0.27559\n",
      "[95]\tvalidation_0-error:0.27559\n",
      "[96]\tvalidation_0-error:0.27165\n",
      "[97]\tvalidation_0-error:0.27953\n",
      "[98]\tvalidation_0-error:0.28347\n",
      "[99]\tvalidation_0-error:0.28347\n"
     ]
    },
    {
     "data": {
      "text/plain": [
       "XGBClassifier(base_score=0.5, booster='gbtree', colsample_bylevel=1,\n",
       "              colsample_bynode=1, colsample_bytree=1, gamma=0, gpu_id=-1,\n",
       "              importance_type='gain', interaction_constraints='',\n",
       "              learning_rate=0.300000012, max_delta_step=0, max_depth=6,\n",
       "              min_child_weight=1, missing=nan, monotone_constraints='()',\n",
       "              n_estimators=100, n_jobs=0, num_parallel_tree=1, random_state=0,\n",
       "              reg_alpha=0, reg_lambda=1, scale_pos_weight=1, subsample=1,\n",
       "              tree_method='exact', validate_parameters=1, verbosity=None)"
      ]
     },
     "execution_count": 2,
     "metadata": {},
     "output_type": "execute_result"
    }
   ],
   "source": [
    "# Morning training performance\n",
    "#Load the data Pima Indians dataset.\n",
    "url = \"https://raw.githubusercontent.com/atystats/ISLR_Notes_codes/master/Datasets/pima-indians-diabetes.csv\"\n",
    "dataset_pd = pd.read_csv(url)\n",
    "dataset = np.array(dataset_pd)\n",
    "\n",
    "# Seperating target and predictors\n",
    "X = dataset[:,0:8]\n",
    "y = dataset[:,8]\n",
    "\n",
    "# Train and test split of the data\n",
    "X_train, X_test, y_train, y_test = train_test_split(X, y, test_size = 0.33, random_state = 7)\n",
    "\n",
    "# Defining a evaluation test.\n",
    "eval_set = [(X_test, y_test)]\n",
    "# Fitting the XGBoost Model. The XGBoost use Scikit - learn API.\n",
    "model = xg.XGBClassifier()\n",
    "model.fit(X_train, y_train, eval_metric = 'error', eval_set = eval_set, verbose = True)"
   ]
  },
  {
   "cell_type": "code",
   "execution_count": 11,
   "metadata": {},
   "outputs": [
    {
     "data": {
      "text/plain": [
       "XGBClassifier(base_score=0.5, booster='gbtree', colsample_bylevel=1,\n",
       "              colsample_bynode=1, colsample_bytree=1, gamma=0, gpu_id=-1,\n",
       "              importance_type='gain', interaction_constraints='',\n",
       "              learning_rate=0.300000012, max_delta_step=0, max_depth=6,\n",
       "              min_child_weight=1, missing=nan, monotone_constraints='()',\n",
       "              n_estimators=100, n_jobs=0, num_parallel_tree=1, random_state=0,\n",
       "              reg_alpha=0, reg_lambda=1, scale_pos_weight=1, subsample=1,\n",
       "              tree_method='exact', validate_parameters=1, verbosity=None)"
      ]
     },
     "execution_count": 11,
     "metadata": {},
     "output_type": "execute_result"
    }
   ],
   "source": [
    "# Producing learning curves from the xgboost.\n",
    "# Defining a evaluation test.\n",
    "eval_set = [(X_train, y_train),(X_test, y_test)]\n",
    "# Fitting the XGBoost Model. The XGBoost use Scikit - learn API.\n",
    "model = xg.XGBClassifier()\n",
    "model.fit(X_train, y_train, eval_metric = ['error','logloss'], eval_set = eval_set, verbose = False)"
   ]
  },
  {
   "cell_type": "code",
   "execution_count": 12,
   "metadata": {},
   "outputs": [
    {
     "name": "stdout",
     "output_type": "stream",
     "text": [
      "{'validation_0': {'error': [0.167641, 0.146199, 0.128655, 0.116959, 0.091618, 0.077973, 0.068226, 0.068226, 0.05848, 0.05653, 0.050682, 0.048733, 0.046784, 0.046784, 0.038986, 0.031189, 0.02924, 0.015595, 0.017544, 0.009747, 0.009747, 0.007797, 0.009747, 0.009747, 0.005848, 0.005848, 0.005848, 0.005848, 0.005848, 0.005848, 0.003899, 0.003899, 0.005848, 0.003899, 0.003899, 0.001949, 0.0, 0.0, 0.0, 0.0, 0.0, 0.0, 0.0, 0.0, 0.0, 0.0, 0.0, 0.0, 0.0, 0.0, 0.0, 0.0, 0.0, 0.0, 0.0, 0.0, 0.0, 0.0, 0.0, 0.0, 0.0, 0.0, 0.0, 0.0, 0.0, 0.0, 0.0, 0.0, 0.0, 0.0, 0.0, 0.0, 0.0, 0.0, 0.0, 0.0, 0.0, 0.0, 0.0, 0.0, 0.0, 0.0, 0.0, 0.0, 0.0, 0.0, 0.0, 0.0, 0.0, 0.0, 0.0, 0.0, 0.0, 0.0, 0.0, 0.0, 0.0, 0.0, 0.0, 0.0], 'logloss': [0.562398, 0.485507, 0.423057, 0.374144, 0.337928, 0.310839, 0.290339, 0.272881, 0.259984, 0.243248, 0.231159, 0.223224, 0.216505, 0.213184, 0.202324, 0.187931, 0.180396, 0.171102, 0.166493, 0.156309, 0.152547, 0.14613, 0.143403, 0.140238, 0.134307, 0.127619, 0.12433, 0.120774, 0.114399, 0.110148, 0.106009, 0.103512, 0.101691, 0.098012, 0.096482, 0.09336, 0.089686, 0.086997, 0.083535, 0.08233, 0.080795, 0.079531, 0.077852, 0.075443, 0.073017, 0.070519, 0.068601, 0.066119, 0.064671, 0.063947, 0.062031, 0.060062, 0.058705, 0.057526, 0.056574, 0.055429, 0.054631, 0.053614, 0.05236, 0.051916, 0.05123, 0.050273, 0.049288, 0.048014, 0.04737, 0.046433, 0.045647, 0.044967, 0.044342, 0.043771, 0.043076, 0.042654, 0.04204, 0.041242, 0.040583, 0.039875, 0.039159, 0.038528, 0.037846, 0.037456, 0.036871, 0.036442, 0.035857, 0.035263, 0.034845, 0.034501, 0.034044, 0.033695, 0.033276, 0.032919, 0.032656, 0.032301, 0.03194, 0.031618, 0.031244, 0.031021, 0.030682, 0.030322, 0.029989, 0.029671]}, 'validation_1': {'error': [0.299213, 0.255906, 0.224409, 0.216535, 0.200787, 0.228346, 0.232283, 0.220472, 0.216535, 0.228346, 0.228346, 0.228346, 0.232283, 0.232283, 0.228346, 0.248031, 0.240157, 0.240157, 0.240157, 0.248031, 0.244094, 0.248031, 0.251969, 0.255906, 0.255906, 0.248031, 0.255906, 0.251969, 0.251969, 0.255906, 0.259843, 0.248031, 0.255906, 0.259843, 0.259843, 0.271654, 0.271654, 0.275591, 0.275591, 0.271654, 0.267717, 0.279528, 0.271654, 0.275591, 0.271654, 0.275591, 0.275591, 0.267717, 0.255906, 0.255906, 0.259843, 0.26378, 0.259843, 0.26378, 0.259843, 0.259843, 0.259843, 0.26378, 0.267717, 0.26378, 0.26378, 0.271654, 0.267717, 0.267717, 0.259843, 0.26378, 0.26378, 0.271654, 0.26378, 0.259843, 0.267717, 0.267717, 0.271654, 0.267717, 0.26378, 0.26378, 0.26378, 0.267717, 0.26378, 0.267717, 0.271654, 0.267717, 0.259843, 0.271654, 0.267717, 0.271654, 0.279528, 0.271654, 0.275591, 0.279528, 0.279528, 0.287402, 0.275591, 0.275591, 0.275591, 0.275591, 0.271654, 0.279528, 0.283465, 0.283465], 'logloss': [0.600643, 0.55118, 0.518722, 0.490583, 0.474883, 0.475497, 0.465679, 0.460775, 0.457618, 0.456719, 0.453101, 0.451772, 0.455474, 0.457184, 0.458875, 0.46467, 0.469434, 0.475465, 0.476445, 0.480379, 0.485267, 0.485841, 0.489163, 0.490081, 0.493904, 0.492476, 0.495176, 0.499482, 0.502295, 0.5041, 0.512246, 0.513034, 0.514285, 0.512145, 0.516448, 0.518773, 0.521122, 0.520986, 0.524232, 0.523649, 0.522558, 0.530957, 0.535043, 0.540068, 0.54559, 0.544325, 0.547065, 0.550585, 0.554795, 0.556873, 0.557384, 0.560529, 0.556591, 0.558881, 0.563847, 0.562608, 0.565187, 0.565579, 0.567681, 0.569301, 0.569458, 0.571872, 0.575426, 0.573422, 0.57507, 0.578624, 0.581758, 0.585446, 0.58562, 0.586259, 0.588657, 0.58831, 0.590568, 0.593497, 0.596297, 0.595355, 0.597612, 0.600852, 0.600183, 0.603716, 0.605806, 0.608376, 0.609864, 0.612123, 0.614776, 0.617396, 0.620821, 0.623574, 0.624613, 0.627289, 0.627542, 0.628508, 0.630504, 0.630709, 0.630474, 0.634702, 0.63498, 0.637445, 0.641905, 0.642496]}}\n"
     ]
    }
   ],
   "source": [
    "# In the output validation_0 is the training data and validation_1 is the test data.\n",
    "result = model.evals_result_\n",
    "print(result)"
   ]
  },
  {
   "cell_type": "code",
   "execution_count": 29,
   "metadata": {},
   "outputs": [
    {
     "data": {
      "image/png": "[encoded data removed]",
      "text/plain": [
       "<Figure size 1008x360 with 2 Axes>"
      ]
     },
     "metadata": {
      "needs_background": "light"
     },
     "output_type": "display_data"
    }
   ],
   "source": [
    "fig, (ax1,ax2) = plt.subplots(1,2, figsize = (14,5))\n",
    "ax1.plot(range(0,len(result['validation_0']['logloss'])), result['validation_0']['logloss'], label = 'Train')\n",
    "ax1.plot(range(0,len(result['validation_1']['logloss'])), result['validation_1']['logloss'], label = 'Test')\n",
    "ax1.legend()\n",
    "ax1.set_ylabel(\"Log Loss\")\n",
    "ax1.set_title(\"XGBoost Log Loss\")\n",
    "\n",
    "ax2.plot(range(0,len(result['validation_0']['error'])), result['validation_0']['error'], label = 'Train')\n",
    "ax2.plot(range(0,len(result['validation_1']['error'])), result['validation_1']['error'], label = 'Test')\n",
    "ax2.legend()\n",
    "ax2.set_ylabel(\"Error\")\n",
    "ax2.set_title(\"XGBoost Classification Error\")\n",
    "plt.show()"
   ]
  },
  {
   "cell_type": "markdown",
   "metadata": {},
   "source": [
    "Looking at the plot, we can say that after the 10th iteration, test error starts increasing. So we will stop our model at 10.\n",
    "\n",
    "XGBoost supports early stopping after a fixed number of iterations. In addition to specifying a metric and test dataset for evaluation each epoch, you must specify a window of the number of epochs over which no improvement is observed."
   ]
  },
  {
   "cell_type": "code",
   "execution_count": 31,
   "metadata": {},
   "outputs": [
    {
     "name": "stdout",
     "output_type": "stream",
     "text": [
      "[0]\tvalidation_0-logloss:0.60064\n",
      "Will train until validation_0-logloss hasn't improved in 10 rounds.\n",
      "[1]\tvalidation_0-logloss:0.55118\n",
      "[2]\tvalidation_0-logloss:0.51872\n",
      "[3]\tvalidation_0-logloss:0.49058\n",
      "[4]\tvalidation_0-logloss:0.47488\n",
      "[5]\tvalidation_0-logloss:0.47550\n",
      "[6]\tvalidation_0-logloss:0.46568\n",
      "[7]\tvalidation_0-logloss:0.46077\n",
      "[8]\tvalidation_0-logloss:0.45762\n",
      "[9]\tvalidation_0-logloss:0.45672\n",
      "[10]\tvalidation_0-logloss:0.45310\n",
      "[11]\tvalidation_0-logloss:0.45177\n",
      "[12]\tvalidation_0-logloss:0.45547\n",
      "[13]\tvalidation_0-logloss:0.45718\n",
      "[14]\tvalidation_0-logloss:0.45887\n",
      "[15]\tvalidation_0-logloss:0.46467\n",
      "[16]\tvalidation_0-logloss:0.46943\n",
      "[17]\tvalidation_0-logloss:0.47547\n",
      "[18]\tvalidation_0-logloss:0.47645\n",
      "[19]\tvalidation_0-logloss:0.48038\n",
      "[20]\tvalidation_0-logloss:0.48527\n",
      "[21]\tvalidation_0-logloss:0.48584\n",
      "Stopping. Best iteration:\n",
      "[11]\tvalidation_0-logloss:0.45177\n",
      "\n"
     ]
    },
    {
     "data": {
      "text/plain": [
       "XGBClassifier(base_score=0.5, booster='gbtree', colsample_bylevel=1,\n",
       "              colsample_bynode=1, colsample_bytree=1, gamma=0, gpu_id=-1,\n",
       "              importance_type='gain', interaction_constraints='',\n",
       "              learning_rate=0.300000012, max_delta_step=0, max_depth=6,\n",
       "              min_child_weight=1, missing=nan, monotone_constraints='()',\n",
       "              n_estimators=100, n_jobs=0, num_parallel_tree=1, random_state=0,\n",
       "              reg_alpha=0, reg_lambda=1, scale_pos_weight=1, subsample=1,\n",
       "              tree_method='exact', validate_parameters=1, verbosity=None)"
      ]
     },
     "execution_count": 31,
     "metadata": {},
     "output_type": "execute_result"
    }
   ],
   "source": [
    "# Defining a evaluation test.\n",
    "eval_set = [(X_test, y_test)]\n",
    "# Fitting the XGBoost Model. The XGBoost use Scikit - learn API.\n",
    "model = xg.XGBClassifier()\n",
    "model.fit(X_train, y_train, early_stopping_rounds = 10,  eval_metric = 'logloss', eval_set = eval_set, verbose = True)"
   ]
  },
  {
   "cell_type": "markdown",
   "metadata": {},
   "source": [
    "## Multithreading for XGBoost"
   ]
  },
  {
   "cell_type": "code",
   "execution_count": 17,
   "metadata": {},
   "outputs": [
    {
     "name": "stdout",
     "output_type": "stream",
     "text": [
      "1 287.4796679019928\n",
      "2 145.50993394851685\n",
      "3 100.90336012840271\n",
      "4 87.30547094345093\n"
     ]
    }
   ],
   "source": [
    "#Load the data Pima Indians dataset.\n",
    "url = \"/Users/atyagi/Desktop/ISLR Python Repo/ISLR_Notes_codes/Datasets/Otto Group product classification train.csv\"\n",
    "dataset_pd = pd.read_csv(url, index_col = 0)\n",
    "dataset = np.array(dataset_pd)\n",
    "\n",
    "X = dataset[:,0:93]\n",
    "y = dataset[:,93]\n",
    "#Encode string values as numerical\n",
    "label_encoder = LabelEncoder()\n",
    "label_encoder = label_encoder.fit(y)\n",
    "label_encoder_y = label_encoder.transform(y)\n",
    "\n",
    "for n in [1,2,3,4]:\n",
    "    start = time()\n",
    "    model = xg.XGBClassifier(nthread = n)\n",
    "    model.fit(X, label_encoder_y)\n",
    "    elapsed = time() - start\n",
    "    print(n, elapsed)"
   ]
  },
  {
   "cell_type": "markdown",
   "metadata": {},
   "source": [
    "We can see that more number of threads result in less time to train the model. However, we can see that the difference in time with each increasing threads is not same and decreasing.\n",
    "\n",
    "XGBoost nthread option can be used while doing a cross validation."
   ]
  },
  {
   "cell_type": "code",
   "execution_count": 18,
   "metadata": {},
   "outputs": [
    {
     "name": "stdout",
     "output_type": "stream",
     "text": [
      "Single thread XGBoost, multitread CV :-  833.0684661865234\n",
      "Multi thread XGBoost, Single thread CV :-  2506.365104198456\n",
      "Multi thread XGBoost, Multi thread CV :-  922.1155881881714\n"
     ]
    }
   ],
   "source": [
    "# Single thread XGBoost, multithread CV.\n",
    "start = time()\n",
    "model = xg.XGBClassifier(nthread = 1)\n",
    "kfold = KFold(n_splits = 10)\n",
    "results = cross_val_score(model, X, label_encoder_y, cv = kfold, n_jobs = -1)\n",
    "elapsed = time() - start\n",
    "print(\"Single thread XGBoost, multitread CV :- \",elapsed)\n",
    "\n",
    "# Multi thread XGBoost, Single thread CV.\n",
    "start = time()\n",
    "model = xg.XGBClassifier(nthread = -1)\n",
    "kfold = KFold(n_splits = 10)\n",
    "results = cross_val_score(model, X, label_encoder_y, cv = kfold, n_jobs = 1)\n",
    "elapsed = time() - start\n",
    "print(\"Multi thread XGBoost, Single thread CV :- \",elapsed)\n",
    "\n",
    "# Multi thread XGBoost, Multi thread CV.\n",
    "start = time()\n",
    "model = xg.XGBClassifier(nthread = -1)\n",
    "kfold = KFold(n_splits = 10)\n",
    "results = cross_val_score(model, X, label_encoder_y, cv = kfold, n_jobs = -1)\n",
    "elapsed = time() - start\n",
    "print(\"Multi thread XGBoost, Multi thread CV :- \",elapsed)"
   ]
  },
  {
   "cell_type": "markdown",
   "metadata": {},
   "source": [
    "An example of configuration for XGBoost:-\n",
    "\n",
    "* Number of Trees (n estimators) set to a fixed value between 100 and 1000, depending on the dataset size.\n",
    "* Learning Rate (learning rate) simplified to the ratio: [2 to 10]/trees, depending on the number of trees.\n",
    "* Row Sampling (subsample) grid searched values in the range [0.5, 0.75, 1.0].\n",
    "* Column Sampling (colsample bytree and maybe colsample bylevel) grid searched values in the range [0.4, 0.6, 0.8, 1.0]\n",
    "* Min Leaf Weight (min child weight) simplified to the ratio (3/rare_events) , where rare events is the percentage of rare event observations in the dataset.\n",
    "* Tree Size (max depth) grid searched values in the rage [4, 6, 8, 10].\n",
    "* Min Split Gain (gamma) fixed with a value of zero.\n",
    "\n",
    "\n",
    "## Hyperparameter Tuning :\n",
    "### Number and size of Decision Trees with XGBoost\n",
    "We can decide on number of decision trees using the grid search."
   ]
  },
  {
   "cell_type": "code",
   "execution_count": 24,
   "metadata": {},
   "outputs": [],
   "source": [
    "# Grid Search for number of trees\n",
    "model = xg.XGBClassifier()\n",
    "n_estimators = range(100, 400, 50)\n",
    "param_grid = dict(n_estimators = n_estimators)\n",
    "kfold = StratifiedKFold(n_splits = 5, shuffle = True, random_state = 7)\n",
    "grid_search = GridSearchCV(model, param_grid, scoring = \"neg_log_loss\", n_jobs = -1, cv = kfold)\n",
    "result = grid_search.fit(X, label_encoder_y)"
   ]
  },
  {
   "cell_type": "code",
   "execution_count": 33,
   "metadata": {},
   "outputs": [
    {
     "name": "stdout",
     "output_type": "stream",
     "text": [
      "Best paramter is {'n_estimators': 200} \n",
      "Best score is -0.479826\n"
     ]
    }
   ],
   "source": [
    "print(\"Best paramter is %s \" % result.best_params_)\n",
    "print(\"Best score is %f\" % result.best_score_)"
   ]
  },
  {
   "cell_type": "code",
   "execution_count": 38,
   "metadata": {},
   "outputs": [
    {
     "data": {
      "text/html": [
       "<div>\n",
       "<style scoped>\n",
       "    .dataframe tbody tr th:only-of-type {\n",
       "        vertical-align: middle;\n",
       "    }\n",
       "\n",
       "    .dataframe tbody tr th {\n",
       "        vertical-align: top;\n",
       "    }\n",
       "\n",
       "    .dataframe thead th {\n",
       "        text-align: right;\n",
       "    }\n",
       "</style>\n",
       "<table border=\"1\" class=\"dataframe\">\n",
       "  <thead>\n",
       "    <tr style=\"text-align: right;\">\n",
       "      <th></th>\n",
       "      <th>params</th>\n",
       "      <th>mean_score</th>\n",
       "      <th>std_score</th>\n",
       "    </tr>\n",
       "  </thead>\n",
       "  <tbody>\n",
       "    <tr>\n",
       "      <th>0</th>\n",
       "      <td>{'n_estimators': 100}</td>\n",
       "      <td>-0.489946</td>\n",
       "      <td>0.007807</td>\n",
       "    </tr>\n",
       "    <tr>\n",
       "      <th>1</th>\n",
       "      <td>{'n_estimators': 150}</td>\n",
       "      <td>-0.481382</td>\n",
       "      <td>0.007898</td>\n",
       "    </tr>\n",
       "    <tr>\n",
       "      <th>2</th>\n",
       "      <td>{'n_estimators': 200}</td>\n",
       "      <td>-0.479826</td>\n",
       "      <td>0.006927</td>\n",
       "    </tr>\n",
       "    <tr>\n",
       "      <th>3</th>\n",
       "      <td>{'n_estimators': 250}</td>\n",
       "      <td>-0.483815</td>\n",
       "      <td>0.006227</td>\n",
       "    </tr>\n",
       "    <tr>\n",
       "      <th>4</th>\n",
       "      <td>{'n_estimators': 300}</td>\n",
       "      <td>-0.489143</td>\n",
       "      <td>0.006093</td>\n",
       "    </tr>\n",
       "    <tr>\n",
       "      <th>5</th>\n",
       "      <td>{'n_estimators': 350}</td>\n",
       "      <td>-0.496152</td>\n",
       "      <td>0.006500</td>\n",
       "    </tr>\n",
       "  </tbody>\n",
       "</table>\n",
       "</div>"
      ],
      "text/plain": [
       "                  params  mean_score  std_score\n",
       "0  {'n_estimators': 100}   -0.489946   0.007807\n",
       "1  {'n_estimators': 150}   -0.481382   0.007898\n",
       "2  {'n_estimators': 200}   -0.479826   0.006927\n",
       "3  {'n_estimators': 250}   -0.483815   0.006227\n",
       "4  {'n_estimators': 300}   -0.489143   0.006093\n",
       "5  {'n_estimators': 350}   -0.496152   0.006500"
      ]
     },
     "execution_count": 38,
     "metadata": {},
     "output_type": "execute_result"
    }
   ],
   "source": [
    "# Mean score for all the paramters tested\n",
    "pd.DataFrame({\"params\": result.cv_results_['params'], \"mean_score\": result.cv_results_['mean_test_score'],\n",
    "             \"std_score\": result.cv_results_['std_test_score']})"
   ]
  },
  {
   "cell_type": "code",
   "execution_count": 42,
   "metadata": {},
   "outputs": [
    {
     "data": {
      "image/png": "[encoded data removed]",
      "text/plain": [
       "<Figure size 432x288 with 1 Axes>"
      ]
     },
     "metadata": {
      "needs_background": "light"
     },
     "output_type": "display_data"
    }
   ],
   "source": [
    "plt.errorbar(n_estimators, result.cv_results_['mean_test_score'], yerr = result.cv_results_['std_test_score'])\n",
    "plt.xlabel(\"n_estimators\")\n",
    "plt.ylabel(\"Log Loss\")\n",
    "plt.show()"
   ]
  },
  {
   "cell_type": "markdown",
   "metadata": {},
   "source": [
    "Now we will use Grid Search for tuning the size of the decision trees."
   ]
  },
  {
   "cell_type": "code",
   "execution_count": 43,
   "metadata": {},
   "outputs": [
    {
     "name": "stdout",
     "output_type": "stream",
     "text": [
      "Fitting 5 folds for each of 5 candidates, totalling 25 fits\n"
     ]
    },
    {
     "name": "stderr",
     "output_type": "stream",
     "text": [
      "[Parallel(n_jobs=-1)]: Using backend LokyBackend with 8 concurrent workers.\n",
      "[Parallel(n_jobs=-1)]: Done  25 out of  25 | elapsed: 26.1min finished\n"
     ]
    }
   ],
   "source": [
    "# Grid Search for size of trees\n",
    "model = xg.XGBClassifier()\n",
    "max_depth = range(1, 11, 2)\n",
    "param_grid = dict(max_depth = max_depth)\n",
    "kfold = StratifiedKFold(n_splits = 5, shuffle = True, random_state = 7)\n",
    "grid_search = GridSearchCV(model, param_grid, scoring = \"neg_log_loss\", n_jobs = -1, cv = kfold, verbose = 1)\n",
    "result = grid_search.fit(X, label_encoder_y)"
   ]
  },
  {
   "cell_type": "code",
   "execution_count": 44,
   "metadata": {},
   "outputs": [
    {
     "name": "stdout",
     "output_type": "stream",
     "text": [
      "Best paramter is {'max_depth': 7} \n",
      "Best score is -0.482728\n"
     ]
    }
   ],
   "source": [
    "print(\"Best paramter is %s \" % result.best_params_)\n",
    "print(\"Best score is %f\" % result.best_score_)"
   ]
  },
  {
   "cell_type": "code",
   "execution_count": 45,
   "metadata": {},
   "outputs": [
    {
     "data": {
      "text/html": [
       "<div>\n",
       "<style scoped>\n",
       "    .dataframe tbody tr th:only-of-type {\n",
       "        vertical-align: middle;\n",
       "    }\n",
       "\n",
       "    .dataframe tbody tr th {\n",
       "        vertical-align: top;\n",
       "    }\n",
       "\n",
       "    .dataframe thead th {\n",
       "        text-align: right;\n",
       "    }\n",
       "</style>\n",
       "<table border=\"1\" class=\"dataframe\">\n",
       "  <thead>\n",
       "    <tr style=\"text-align: right;\">\n",
       "      <th></th>\n",
       "      <th>params</th>\n",
       "      <th>mean_score</th>\n",
       "      <th>std_score</th>\n",
       "    </tr>\n",
       "  </thead>\n",
       "  <tbody>\n",
       "    <tr>\n",
       "      <th>0</th>\n",
       "      <td>{'max_depth': 1}</td>\n",
       "      <td>-0.729788</td>\n",
       "      <td>0.004931</td>\n",
       "    </tr>\n",
       "    <tr>\n",
       "      <th>1</th>\n",
       "      <td>{'max_depth': 3}</td>\n",
       "      <td>-0.557305</td>\n",
       "      <td>0.005455</td>\n",
       "    </tr>\n",
       "    <tr>\n",
       "      <th>2</th>\n",
       "      <td>{'max_depth': 5}</td>\n",
       "      <td>-0.502435</td>\n",
       "      <td>0.004596</td>\n",
       "    </tr>\n",
       "    <tr>\n",
       "      <th>3</th>\n",
       "      <td>{'max_depth': 7}</td>\n",
       "      <td>-0.482728</td>\n",
       "      <td>0.005454</td>\n",
       "    </tr>\n",
       "    <tr>\n",
       "      <th>4</th>\n",
       "      <td>{'max_depth': 9}</td>\n",
       "      <td>-0.482775</td>\n",
       "      <td>0.005348</td>\n",
       "    </tr>\n",
       "  </tbody>\n",
       "</table>\n",
       "</div>"
      ],
      "text/plain": [
       "             params  mean_score  std_score\n",
       "0  {'max_depth': 1}   -0.729788   0.004931\n",
       "1  {'max_depth': 3}   -0.557305   0.005455\n",
       "2  {'max_depth': 5}   -0.502435   0.004596\n",
       "3  {'max_depth': 7}   -0.482728   0.005454\n",
       "4  {'max_depth': 9}   -0.482775   0.005348"
      ]
     },
     "execution_count": 45,
     "metadata": {},
     "output_type": "execute_result"
    }
   ],
   "source": [
    "# Mean score for all the paramters tested\n",
    "pd.DataFrame({\"params\": result.cv_results_['params'], \"mean_score\": result.cv_results_['mean_test_score'],\n",
    "             \"std_score\": result.cv_results_['std_test_score']})"
   ]
  },
  {
   "cell_type": "code",
   "execution_count": 48,
   "metadata": {},
   "outputs": [
    {
     "data": {
      "image/png": "[encoded data removed]",
      "text/plain": [
       "<Figure size 432x288 with 1 Axes>"
      ]
     },
     "metadata": {
      "needs_background": "light"
     },
     "output_type": "display_data"
    }
   ],
   "source": [
    "plt.errorbar(max_depth, result.cv_results_['mean_test_score'], yerr = result.cv_results_['std_test_score'])\n",
    "plt.xlabel(\"max depth\")\n",
    "plt.ylabel(\"Log Loss\")\n",
    "plt.show()"
   ]
  },
  {
   "cell_type": "markdown",
   "metadata": {},
   "source": [
    "There is a relationship between the number of trees in the model and the depth of each tree. We would expect that deeper trees would result in fewer trees being required in the model, and the inverse where simpler trees (such as decision stumps) require many more trees to achieve similar results."
   ]
  },
  {
   "cell_type": "code",
   "execution_count": 49,
   "metadata": {},
   "outputs": [
    {
     "name": "stdout",
     "output_type": "stream",
     "text": [
      "Fitting 5 folds for each of 16 candidates, totalling 80 fits\n"
     ]
    },
    {
     "name": "stderr",
     "output_type": "stream",
     "text": [
      "[Parallel(n_jobs=-1)]: Using backend LokyBackend with 8 concurrent workers.\n",
      "[Parallel(n_jobs=-1)]: Done  34 tasks      | elapsed: 26.6min\n",
      "[Parallel(n_jobs=-1)]: Done  80 out of  80 | elapsed: 97.0min finished\n"
     ]
    }
   ],
   "source": [
    "# Grid Search for number and size of trees\n",
    "model = xg.XGBClassifier()\n",
    "max_depth = [2,4,6,8]\n",
    "n_estimators = [50,100,150,200]\n",
    "param_grid = dict(max_depth = max_depth, n_estimators = n_estimators)\n",
    "kfold = StratifiedKFold(n_splits = 5, shuffle = True, random_state = 7)\n",
    "grid_search = GridSearchCV(model, param_grid, scoring = \"neg_log_loss\", n_jobs = -1, cv = kfold, verbose = 1)\n",
    "result = grid_search.fit(X, label_encoder_y)"
   ]
  },
  {
   "cell_type": "code",
   "execution_count": 50,
   "metadata": {},
   "outputs": [
    {
     "name": "stdout",
     "output_type": "stream",
     "text": [
      "Best paramter is {'max_depth': 6, 'n_estimators': 200} \n",
      "Best score is -0.479826\n"
     ]
    }
   ],
   "source": [
    "print(\"Best paramter is %s \" % result.best_params_)\n",
    "print(\"Best score is %f\" % result.best_score_)"
   ]
  },
  {
   "cell_type": "code",
   "execution_count": 51,
   "metadata": {},
   "outputs": [
    {
     "data": {
      "text/html": [
       "<div>\n",
       "<style scoped>\n",
       "    .dataframe tbody tr th:only-of-type {\n",
       "        vertical-align: middle;\n",
       "    }\n",
       "\n",
       "    .dataframe tbody tr th {\n",
       "        vertical-align: top;\n",
       "    }\n",
       "\n",
       "    .dataframe thead th {\n",
       "        text-align: right;\n",
       "    }\n",
       "</style>\n",
       "<table border=\"1\" class=\"dataframe\">\n",
       "  <thead>\n",
       "    <tr style=\"text-align: right;\">\n",
       "      <th></th>\n",
       "      <th>params</th>\n",
       "      <th>mean_score</th>\n",
       "      <th>std_score</th>\n",
       "    </tr>\n",
       "  </thead>\n",
       "  <tbody>\n",
       "    <tr>\n",
       "      <th>0</th>\n",
       "      <td>{'max_depth': 2, 'n_estimators': 50}</td>\n",
       "      <td>-0.678978</td>\n",
       "      <td>0.004768</td>\n",
       "    </tr>\n",
       "    <tr>\n",
       "      <th>1</th>\n",
       "      <td>{'max_depth': 2, 'n_estimators': 100}</td>\n",
       "      <td>-0.611325</td>\n",
       "      <td>0.004445</td>\n",
       "    </tr>\n",
       "    <tr>\n",
       "      <th>2</th>\n",
       "      <td>{'max_depth': 2, 'n_estimators': 150}</td>\n",
       "      <td>-0.582165</td>\n",
       "      <td>0.004838</td>\n",
       "    </tr>\n",
       "    <tr>\n",
       "      <th>3</th>\n",
       "      <td>{'max_depth': 2, 'n_estimators': 200}</td>\n",
       "      <td>-0.565219</td>\n",
       "      <td>0.005191</td>\n",
       "    </tr>\n",
       "    <tr>\n",
       "      <th>4</th>\n",
       "      <td>{'max_depth': 4, 'n_estimators': 50}</td>\n",
       "      <td>-0.565961</td>\n",
       "      <td>0.005360</td>\n",
       "    </tr>\n",
       "    <tr>\n",
       "      <th>5</th>\n",
       "      <td>{'max_depth': 4, 'n_estimators': 100}</td>\n",
       "      <td>-0.523906</td>\n",
       "      <td>0.005676</td>\n",
       "    </tr>\n",
       "    <tr>\n",
       "      <th>6</th>\n",
       "      <td>{'max_depth': 4, 'n_estimators': 150}</td>\n",
       "      <td>-0.506738</td>\n",
       "      <td>0.005507</td>\n",
       "    </tr>\n",
       "    <tr>\n",
       "      <th>7</th>\n",
       "      <td>{'max_depth': 4, 'n_estimators': 200}</td>\n",
       "      <td>-0.496759</td>\n",
       "      <td>0.004843</td>\n",
       "    </tr>\n",
       "    <tr>\n",
       "      <th>8</th>\n",
       "      <td>{'max_depth': 6, 'n_estimators': 50}</td>\n",
       "      <td>-0.518625</td>\n",
       "      <td>0.007267</td>\n",
       "    </tr>\n",
       "    <tr>\n",
       "      <th>9</th>\n",
       "      <td>{'max_depth': 6, 'n_estimators': 100}</td>\n",
       "      <td>-0.489946</td>\n",
       "      <td>0.007807</td>\n",
       "    </tr>\n",
       "    <tr>\n",
       "      <th>10</th>\n",
       "      <td>{'max_depth': 6, 'n_estimators': 150}</td>\n",
       "      <td>-0.481382</td>\n",
       "      <td>0.007898</td>\n",
       "    </tr>\n",
       "    <tr>\n",
       "      <th>11</th>\n",
       "      <td>{'max_depth': 6, 'n_estimators': 200}</td>\n",
       "      <td>-0.479826</td>\n",
       "      <td>0.006927</td>\n",
       "    </tr>\n",
       "    <tr>\n",
       "      <th>12</th>\n",
       "      <td>{'max_depth': 8, 'n_estimators': 50}</td>\n",
       "      <td>-0.496124</td>\n",
       "      <td>0.006681</td>\n",
       "    </tr>\n",
       "    <tr>\n",
       "      <th>13</th>\n",
       "      <td>{'max_depth': 8, 'n_estimators': 100}</td>\n",
       "      <td>-0.481470</td>\n",
       "      <td>0.006299</td>\n",
       "    </tr>\n",
       "    <tr>\n",
       "      <th>14</th>\n",
       "      <td>{'max_depth': 8, 'n_estimators': 150}</td>\n",
       "      <td>-0.486352</td>\n",
       "      <td>0.004689</td>\n",
       "    </tr>\n",
       "    <tr>\n",
       "      <th>15</th>\n",
       "      <td>{'max_depth': 8, 'n_estimators': 200}</td>\n",
       "      <td>-0.496454</td>\n",
       "      <td>0.004215</td>\n",
       "    </tr>\n",
       "  </tbody>\n",
       "</table>\n",
       "</div>"
      ],
      "text/plain": [
       "                                   params  mean_score  std_score\n",
       "0    {'max_depth': 2, 'n_estimators': 50}   -0.678978   0.004768\n",
       "1   {'max_depth': 2, 'n_estimators': 100}   -0.611325   0.004445\n",
       "2   {'max_depth': 2, 'n_estimators': 150}   -0.582165   0.004838\n",
       "3   {'max_depth': 2, 'n_estimators': 200}   -0.565219   0.005191\n",
       "4    {'max_depth': 4, 'n_estimators': 50}   -0.565961   0.005360\n",
       "5   {'max_depth': 4, 'n_estimators': 100}   -0.523906   0.005676\n",
       "6   {'max_depth': 4, 'n_estimators': 150}   -0.506738   0.005507\n",
       "7   {'max_depth': 4, 'n_estimators': 200}   -0.496759   0.004843\n",
       "8    {'max_depth': 6, 'n_estimators': 50}   -0.518625   0.007267\n",
       "9   {'max_depth': 6, 'n_estimators': 100}   -0.489946   0.007807\n",
       "10  {'max_depth': 6, 'n_estimators': 150}   -0.481382   0.007898\n",
       "11  {'max_depth': 6, 'n_estimators': 200}   -0.479826   0.006927\n",
       "12   {'max_depth': 8, 'n_estimators': 50}   -0.496124   0.006681\n",
       "13  {'max_depth': 8, 'n_estimators': 100}   -0.481470   0.006299\n",
       "14  {'max_depth': 8, 'n_estimators': 150}   -0.486352   0.004689\n",
       "15  {'max_depth': 8, 'n_estimators': 200}   -0.496454   0.004215"
      ]
     },
     "execution_count": 51,
     "metadata": {},
     "output_type": "execute_result"
    }
   ],
   "source": [
    "# Mean score for all the paramters tested\n",
    "pd.DataFrame({\"params\": result.cv_results_['params'], \"mean_score\": result.cv_results_['mean_test_score'],\n",
    "             \"std_score\": result.cv_results_['std_test_score']})"
   ]
  },
  {
   "cell_type": "code",
   "execution_count": 60,
   "metadata": {},
   "outputs": [
    {
     "data": {
      "image/png": "[encoded data removed]",
      "text/plain": [
       "<Figure size 432x288 with 1 Axes>"
      ]
     },
     "metadata": {
      "needs_background": "light"
     },
     "output_type": "display_data"
    }
   ],
   "source": [
    "scores = result.cv_results_['mean_test_score'].reshape(len(max_depth), len(n_estimators))\n",
    "for i, value in enumerate(max_depth):\n",
    "    plt.plot(n_estimators, scores[i], label = 'depth' + str(value))\n",
    "plt.legend()\n",
    "plt.xlabel(\"n_estimators\")\n",
    "plt.ylabel(\"Log Loss\")\n",
    "plt.show()"
   ]
  },
  {
   "cell_type": "markdown",
   "metadata": {},
   "source": [
    "### Learning Rate and Number of trees\n",
    "A technique to slow down the learning in the gradient boosting model is to apply a weighting factor for the corrections by new trees when added to the model. This weighting is called the shrinkage factor or the learning rate"
   ]
  },
  {
   "cell_type": "code",
   "execution_count": 61,
   "metadata": {},
   "outputs": [
    {
     "name": "stdout",
     "output_type": "stream",
     "text": [
      "Fitting 5 folds for each of 6 candidates, totalling 30 fits\n"
     ]
    },
    {
     "name": "stderr",
     "output_type": "stream",
     "text": [
      "[Parallel(n_jobs=-1)]: Using backend LokyBackend with 8 concurrent workers.\n",
      "[Parallel(n_jobs=-1)]: Done  30 out of  30 | elapsed: 33.1min finished\n"
     ]
    }
   ],
   "source": [
    "# Grid Search for learning rate\n",
    "model = xg.XGBClassifier()\n",
    "learning_rate = [0.0001, 0.001, 0.01, 0.1, 0.2, 0.3]\n",
    "param_grid = dict(learning_rate = learning_rate)\n",
    "kfold = StratifiedKFold(n_splits = 5, shuffle = True, random_state = 7)\n",
    "grid_search = GridSearchCV(model, param_grid, scoring = \"neg_log_loss\", n_jobs = -1, cv = kfold, verbose = 1)\n",
    "result = grid_search.fit(X, label_encoder_y)"
   ]
  },
  {
   "cell_type": "code",
   "execution_count": 62,
   "metadata": {},
   "outputs": [
    {
     "name": "stdout",
     "output_type": "stream",
     "text": [
      "Best paramter is {'learning_rate': 0.3} \n",
      "Best score is -0.489946\n"
     ]
    }
   ],
   "source": [
    "print(\"Best paramter is %s \" % result.best_params_)\n",
    "print(\"Best score is %f\" % result.best_score_)"
   ]
  },
  {
   "cell_type": "code",
   "execution_count": 63,
   "metadata": {},
   "outputs": [
    {
     "data": {
      "text/html": [
       "<div>\n",
       "<style scoped>\n",
       "    .dataframe tbody tr th:only-of-type {\n",
       "        vertical-align: middle;\n",
       "    }\n",
       "\n",
       "    .dataframe tbody tr th {\n",
       "        vertical-align: top;\n",
       "    }\n",
       "\n",
       "    .dataframe thead th {\n",
       "        text-align: right;\n",
       "    }\n",
       "</style>\n",
       "<table border=\"1\" class=\"dataframe\">\n",
       "  <thead>\n",
       "    <tr style=\"text-align: right;\">\n",
       "      <th></th>\n",
       "      <th>params</th>\n",
       "      <th>mean_score</th>\n",
       "      <th>std_score</th>\n",
       "    </tr>\n",
       "  </thead>\n",
       "  <tbody>\n",
       "    <tr>\n",
       "      <th>0</th>\n",
       "      <td>{'learning_rate': 0.0001}</td>\n",
       "      <td>-2.173576</td>\n",
       "      <td>0.000090</td>\n",
       "    </tr>\n",
       "    <tr>\n",
       "      <th>1</th>\n",
       "      <td>{'learning_rate': 0.001}</td>\n",
       "      <td>-1.991050</td>\n",
       "      <td>0.000672</td>\n",
       "    </tr>\n",
       "    <tr>\n",
       "      <th>2</th>\n",
       "      <td>{'learning_rate': 0.01}</td>\n",
       "      <td>-1.187270</td>\n",
       "      <td>0.002557</td>\n",
       "    </tr>\n",
       "    <tr>\n",
       "      <th>3</th>\n",
       "      <td>{'learning_rate': 0.1}</td>\n",
       "      <td>-0.543532</td>\n",
       "      <td>0.004986</td>\n",
       "    </tr>\n",
       "    <tr>\n",
       "      <th>4</th>\n",
       "      <td>{'learning_rate': 0.2}</td>\n",
       "      <td>-0.502286</td>\n",
       "      <td>0.005163</td>\n",
       "    </tr>\n",
       "    <tr>\n",
       "      <th>5</th>\n",
       "      <td>{'learning_rate': 0.3}</td>\n",
       "      <td>-0.489946</td>\n",
       "      <td>0.007807</td>\n",
       "    </tr>\n",
       "  </tbody>\n",
       "</table>\n",
       "</div>"
      ],
      "text/plain": [
       "                      params  mean_score  std_score\n",
       "0  {'learning_rate': 0.0001}   -2.173576   0.000090\n",
       "1   {'learning_rate': 0.001}   -1.991050   0.000672\n",
       "2    {'learning_rate': 0.01}   -1.187270   0.002557\n",
       "3     {'learning_rate': 0.1}   -0.543532   0.004986\n",
       "4     {'learning_rate': 0.2}   -0.502286   0.005163\n",
       "5     {'learning_rate': 0.3}   -0.489946   0.007807"
      ]
     },
     "execution_count": 63,
     "metadata": {},
     "output_type": "execute_result"
    }
   ],
   "source": [
    "# Mean score for all the paramters tested\n",
    "pd.DataFrame({\"params\": result.cv_results_['params'], \"mean_score\": result.cv_results_['mean_test_score'],\n",
    "             \"std_score\": result.cv_results_['std_test_score']})"
   ]
  },
  {
   "cell_type": "code",
   "execution_count": 65,
   "metadata": {},
   "outputs": [
    {
     "data": {
      "image/png": "[encoded data removed]",
      "text/plain": [
       "<Figure size 432x288 with 1 Axes>"
      ]
     },
     "metadata": {
      "needs_background": "light"
     },
     "output_type": "display_data"
    }
   ],
   "source": [
    "plt.errorbar(learning_rate, result.cv_results_['mean_test_score'], yerr = result.cv_results_['std_test_score'])\n",
    "plt.xlabel(\"Learning Rate\")\n",
    "plt.ylabel(\"Log Loss\")\n",
    "plt.show()"
   ]
  },
  {
   "cell_type": "code",
   "execution_count": 67,
   "metadata": {},
   "outputs": [
    {
     "name": "stdout",
     "output_type": "stream",
     "text": [
      "Fitting 4 folds for each of 20 candidates, totalling 80 fits\n"
     ]
    },
    {
     "name": "stderr",
     "output_type": "stream",
     "text": [
      "[Parallel(n_jobs=4)]: Using backend LokyBackend with 4 concurrent workers.\n",
      "[Parallel(n_jobs=4)]: Done  42 tasks      | elapsed: 148.0min\n",
      "[Parallel(n_jobs=4)]: Done  80 out of  80 | elapsed: 268.2min finished\n"
     ]
    }
   ],
   "source": [
    "# Grid Search for learning rate and number of trees\n",
    "model = xg.XGBClassifier()\n",
    "learning_rate = [0.0001, 0.001, 0.01, 0.1]\n",
    "n_estimators = [100, 200, 300, 400, 500]\n",
    "param_grid = dict(learning_rate = learning_rate, n_estimators = n_estimators)\n",
    "kfold = StratifiedKFold(n_splits = 4, shuffle = True, random_state = 7)\n",
    "grid_search = GridSearchCV(model, param_grid, scoring = \"neg_log_loss\", n_jobs = 4, cv = kfold, verbose = 1)\n",
    "result = grid_search.fit(X, label_encoder_y)"
   ]
  },
  {
   "cell_type": "code",
   "execution_count": 68,
   "metadata": {},
   "outputs": [
    {
     "name": "stdout",
     "output_type": "stream",
     "text": [
      "Best paramter is {'learning_rate': 0.1, 'n_estimators': 500} \n",
      "Best score is -0.476740\n"
     ]
    }
   ],
   "source": [
    "print(\"Best paramter is %s \" % result.best_params_)\n",
    "print(\"Best score is %f\" % result.best_score_)"
   ]
  },
  {
   "cell_type": "code",
   "execution_count": 69,
   "metadata": {},
   "outputs": [
    {
     "data": {
      "text/html": [
       "<div>\n",
       "<style scoped>\n",
       "    .dataframe tbody tr th:only-of-type {\n",
       "        vertical-align: middle;\n",
       "    }\n",
       "\n",
       "    .dataframe tbody tr th {\n",
       "        vertical-align: top;\n",
       "    }\n",
       "\n",
       "    .dataframe thead th {\n",
       "        text-align: right;\n",
       "    }\n",
       "</style>\n",
       "<table border=\"1\" class=\"dataframe\">\n",
       "  <thead>\n",
       "    <tr style=\"text-align: right;\">\n",
       "      <th></th>\n",
       "      <th>params</th>\n",
       "      <th>mean_score</th>\n",
       "      <th>std_score</th>\n",
       "    </tr>\n",
       "  </thead>\n",
       "  <tbody>\n",
       "    <tr>\n",
       "      <th>0</th>\n",
       "      <td>{'learning_rate': 0.0001, 'n_estimators': 100}</td>\n",
       "      <td>-2.173575</td>\n",
       "      <td>0.000059</td>\n",
       "    </tr>\n",
       "    <tr>\n",
       "      <th>1</th>\n",
       "      <td>{'learning_rate': 0.0001, 'n_estimators': 200}</td>\n",
       "      <td>-2.150737</td>\n",
       "      <td>0.000137</td>\n",
       "    </tr>\n",
       "    <tr>\n",
       "      <th>2</th>\n",
       "      <td>{'learning_rate': 0.0001, 'n_estimators': 300}</td>\n",
       "      <td>-2.128642</td>\n",
       "      <td>0.000219</td>\n",
       "    </tr>\n",
       "    <tr>\n",
       "      <th>3</th>\n",
       "      <td>{'learning_rate': 0.0001, 'n_estimators': 400}</td>\n",
       "      <td>-2.107256</td>\n",
       "      <td>0.000294</td>\n",
       "    </tr>\n",
       "    <tr>\n",
       "      <th>4</th>\n",
       "      <td>{'learning_rate': 0.0001, 'n_estimators': 500}</td>\n",
       "      <td>-2.086503</td>\n",
       "      <td>0.000376</td>\n",
       "    </tr>\n",
       "    <tr>\n",
       "      <th>5</th>\n",
       "      <td>{'learning_rate': 0.001, 'n_estimators': 100}</td>\n",
       "      <td>-1.991017</td>\n",
       "      <td>0.000626</td>\n",
       "    </tr>\n",
       "    <tr>\n",
       "      <th>6</th>\n",
       "      <td>{'learning_rate': 0.001, 'n_estimators': 200}</td>\n",
       "      <td>-1.833702</td>\n",
       "      <td>0.000872</td>\n",
       "    </tr>\n",
       "    <tr>\n",
       "      <th>7</th>\n",
       "      <td>{'learning_rate': 0.001, 'n_estimators': 300}</td>\n",
       "      <td>-1.705948</td>\n",
       "      <td>0.001123</td>\n",
       "    </tr>\n",
       "    <tr>\n",
       "      <th>8</th>\n",
       "      <td>{'learning_rate': 0.001, 'n_estimators': 400}</td>\n",
       "      <td>-1.598430</td>\n",
       "      <td>0.001171</td>\n",
       "    </tr>\n",
       "    <tr>\n",
       "      <th>9</th>\n",
       "      <td>{'learning_rate': 0.001, 'n_estimators': 500}</td>\n",
       "      <td>-1.506584</td>\n",
       "      <td>0.001338</td>\n",
       "    </tr>\n",
       "    <tr>\n",
       "      <th>10</th>\n",
       "      <td>{'learning_rate': 0.01, 'n_estimators': 100}</td>\n",
       "      <td>-1.188215</td>\n",
       "      <td>0.001317</td>\n",
       "    </tr>\n",
       "    <tr>\n",
       "      <th>11</th>\n",
       "      <td>{'learning_rate': 0.01, 'n_estimators': 200}</td>\n",
       "      <td>-0.882664</td>\n",
       "      <td>0.001996</td>\n",
       "    </tr>\n",
       "    <tr>\n",
       "      <th>12</th>\n",
       "      <td>{'learning_rate': 0.01, 'n_estimators': 300}</td>\n",
       "      <td>-0.743423</td>\n",
       "      <td>0.001757</td>\n",
       "    </tr>\n",
       "    <tr>\n",
       "      <th>13</th>\n",
       "      <td>{'learning_rate': 0.01, 'n_estimators': 400}</td>\n",
       "      <td>-0.670932</td>\n",
       "      <td>0.001983</td>\n",
       "    </tr>\n",
       "    <tr>\n",
       "      <th>14</th>\n",
       "      <td>{'learning_rate': 0.01, 'n_estimators': 500}</td>\n",
       "      <td>-0.627510</td>\n",
       "      <td>0.002161</td>\n",
       "    </tr>\n",
       "    <tr>\n",
       "      <th>15</th>\n",
       "      <td>{'learning_rate': 0.1, 'n_estimators': 100}</td>\n",
       "      <td>-0.544647</td>\n",
       "      <td>0.003019</td>\n",
       "    </tr>\n",
       "    <tr>\n",
       "      <th>16</th>\n",
       "      <td>{'learning_rate': 0.1, 'n_estimators': 200}</td>\n",
       "      <td>-0.502218</td>\n",
       "      <td>0.003743</td>\n",
       "    </tr>\n",
       "    <tr>\n",
       "      <th>17</th>\n",
       "      <td>{'learning_rate': 0.1, 'n_estimators': 300}</td>\n",
       "      <td>-0.486990</td>\n",
       "      <td>0.003767</td>\n",
       "    </tr>\n",
       "    <tr>\n",
       "      <th>18</th>\n",
       "      <td>{'learning_rate': 0.1, 'n_estimators': 400}</td>\n",
       "      <td>-0.479582</td>\n",
       "      <td>0.003343</td>\n",
       "    </tr>\n",
       "    <tr>\n",
       "      <th>19</th>\n",
       "      <td>{'learning_rate': 0.1, 'n_estimators': 500}</td>\n",
       "      <td>-0.476740</td>\n",
       "      <td>0.002665</td>\n",
       "    </tr>\n",
       "  </tbody>\n",
       "</table>\n",
       "</div>"
      ],
      "text/plain": [
       "                                            params  mean_score  std_score\n",
       "0   {'learning_rate': 0.0001, 'n_estimators': 100}   -2.173575   0.000059\n",
       "1   {'learning_rate': 0.0001, 'n_estimators': 200}   -2.150737   0.000137\n",
       "2   {'learning_rate': 0.0001, 'n_estimators': 300}   -2.128642   0.000219\n",
       "3   {'learning_rate': 0.0001, 'n_estimators': 400}   -2.107256   0.000294\n",
       "4   {'learning_rate': 0.0001, 'n_estimators': 500}   -2.086503   0.000376\n",
       "5    {'learning_rate': 0.001, 'n_estimators': 100}   -1.991017   0.000626\n",
       "6    {'learning_rate': 0.001, 'n_estimators': 200}   -1.833702   0.000872\n",
       "7    {'learning_rate': 0.001, 'n_estimators': 300}   -1.705948   0.001123\n",
       "8    {'learning_rate': 0.001, 'n_estimators': 400}   -1.598430   0.001171\n",
       "9    {'learning_rate': 0.001, 'n_estimators': 500}   -1.506584   0.001338\n",
       "10    {'learning_rate': 0.01, 'n_estimators': 100}   -1.188215   0.001317\n",
       "11    {'learning_rate': 0.01, 'n_estimators': 200}   -0.882664   0.001996\n",
       "12    {'learning_rate': 0.01, 'n_estimators': 300}   -0.743423   0.001757\n",
       "13    {'learning_rate': 0.01, 'n_estimators': 400}   -0.670932   0.001983\n",
       "14    {'learning_rate': 0.01, 'n_estimators': 500}   -0.627510   0.002161\n",
       "15     {'learning_rate': 0.1, 'n_estimators': 100}   -0.544647   0.003019\n",
       "16     {'learning_rate': 0.1, 'n_estimators': 200}   -0.502218   0.003743\n",
       "17     {'learning_rate': 0.1, 'n_estimators': 300}   -0.486990   0.003767\n",
       "18     {'learning_rate': 0.1, 'n_estimators': 400}   -0.479582   0.003343\n",
       "19     {'learning_rate': 0.1, 'n_estimators': 500}   -0.476740   0.002665"
      ]
     },
     "execution_count": 69,
     "metadata": {},
     "output_type": "execute_result"
    }
   ],
   "source": [
    "# Mean score for all the paramters tested\n",
    "pd.DataFrame({\"params\": result.cv_results_['params'], \"mean_score\": result.cv_results_['mean_test_score'],\n",
    "             \"std_score\": result.cv_results_['std_test_score']})"
   ]
  },
  {
   "cell_type": "code",
   "execution_count": 70,
   "metadata": {},
   "outputs": [
    {
     "data": {
      "image/png": "[encoded data removed]",
      "text/plain": [
       "<Figure size 432x288 with 1 Axes>"
      ]
     },
     "metadata": {
      "needs_background": "light"
     },
     "output_type": "display_data"
    }
   ],
   "source": [
    "scores = result.cv_results_['mean_test_score'].reshape(len(learning_rate), len(n_estimators))\n",
    "for i, value in enumerate(learning_rate):\n",
    "    plt.plot(n_estimators, scores[i], label = 'learning_rate' + str(value))\n",
    "plt.legend()\n",
    "plt.xlabel(\"n_estimators\")\n",
    "plt.ylabel(\"Log Loss\")\n",
    "plt.show()"
   ]
  },
  {
   "cell_type": "markdown",
   "metadata": {},
   "source": [
    "### Tuning Row Subsample and Column Subsample\n"
   ]
  },
  {
   "cell_type": "code",
   "execution_count": 71,
   "metadata": {},
   "outputs": [
    {
     "name": "stdout",
     "output_type": "stream",
     "text": [
      "Fitting 4 folds for each of 8 candidates, totalling 32 fits\n"
     ]
    },
    {
     "name": "stderr",
     "output_type": "stream",
     "text": [
      "[Parallel(n_jobs=-1)]: Using backend LokyBackend with 8 concurrent workers.\n",
      "[Parallel(n_jobs=-1)]: Done  32 out of  32 | elapsed: 28.6min finished\n"
     ]
    }
   ],
   "source": [
    "# Grid Search for Row Subsample\n",
    "model = xg.XGBClassifier()\n",
    "subsample = [0.2, 0.3, 0.4, 0.5, 0.6, 0.7, 0.8, 1.0]\n",
    "param_grid = dict(subsample = subsample)\n",
    "kfold = StratifiedKFold(n_splits = 4, shuffle = True, random_state = 7)\n",
    "grid_search = GridSearchCV(model, param_grid, scoring = \"neg_log_loss\", n_jobs = -1, cv = kfold, verbose = 1)\n",
    "result = grid_search.fit(X, label_encoder_y)"
   ]
  },
  {
   "cell_type": "code",
   "execution_count": 72,
   "metadata": {},
   "outputs": [
    {
     "name": "stdout",
     "output_type": "stream",
     "text": [
      "Best paramter is {'subsample': 0.8} \n",
      "Best score is -0.486725\n"
     ]
    }
   ],
   "source": [
    "print(\"Best paramter is %s \" % result.best_params_)\n",
    "print(\"Best score is %f\" % result.best_score_)"
   ]
  },
  {
   "cell_type": "code",
   "execution_count": 73,
   "metadata": {},
   "outputs": [
    {
     "data": {
      "text/html": [
       "<div>\n",
       "<style scoped>\n",
       "    .dataframe tbody tr th:only-of-type {\n",
       "        vertical-align: middle;\n",
       "    }\n",
       "\n",
       "    .dataframe tbody tr th {\n",
       "        vertical-align: top;\n",
       "    }\n",
       "\n",
       "    .dataframe thead th {\n",
       "        text-align: right;\n",
       "    }\n",
       "</style>\n",
       "<table border=\"1\" class=\"dataframe\">\n",
       "  <thead>\n",
       "    <tr style=\"text-align: right;\">\n",
       "      <th></th>\n",
       "      <th>params</th>\n",
       "      <th>mean_score</th>\n",
       "      <th>std_score</th>\n",
       "    </tr>\n",
       "  </thead>\n",
       "  <tbody>\n",
       "    <tr>\n",
       "      <th>0</th>\n",
       "      <td>{'subsample': 0.2}</td>\n",
       "      <td>-0.525227</td>\n",
       "      <td>0.003406</td>\n",
       "    </tr>\n",
       "    <tr>\n",
       "      <th>1</th>\n",
       "      <td>{'subsample': 0.3}</td>\n",
       "      <td>-0.511439</td>\n",
       "      <td>0.001703</td>\n",
       "    </tr>\n",
       "    <tr>\n",
       "      <th>2</th>\n",
       "      <td>{'subsample': 0.4}</td>\n",
       "      <td>-0.497868</td>\n",
       "      <td>0.004318</td>\n",
       "    </tr>\n",
       "    <tr>\n",
       "      <th>3</th>\n",
       "      <td>{'subsample': 0.5}</td>\n",
       "      <td>-0.493268</td>\n",
       "      <td>0.003440</td>\n",
       "    </tr>\n",
       "    <tr>\n",
       "      <th>4</th>\n",
       "      <td>{'subsample': 0.6}</td>\n",
       "      <td>-0.488883</td>\n",
       "      <td>0.003247</td>\n",
       "    </tr>\n",
       "    <tr>\n",
       "      <th>5</th>\n",
       "      <td>{'subsample': 0.7}</td>\n",
       "      <td>-0.488163</td>\n",
       "      <td>0.001617</td>\n",
       "    </tr>\n",
       "    <tr>\n",
       "      <th>6</th>\n",
       "      <td>{'subsample': 0.8}</td>\n",
       "      <td>-0.486725</td>\n",
       "      <td>0.002786</td>\n",
       "    </tr>\n",
       "    <tr>\n",
       "      <th>7</th>\n",
       "      <td>{'subsample': 1.0}</td>\n",
       "      <td>-0.491016</td>\n",
       "      <td>0.003719</td>\n",
       "    </tr>\n",
       "  </tbody>\n",
       "</table>\n",
       "</div>"
      ],
      "text/plain": [
       "               params  mean_score  std_score\n",
       "0  {'subsample': 0.2}   -0.525227   0.003406\n",
       "1  {'subsample': 0.3}   -0.511439   0.001703\n",
       "2  {'subsample': 0.4}   -0.497868   0.004318\n",
       "3  {'subsample': 0.5}   -0.493268   0.003440\n",
       "4  {'subsample': 0.6}   -0.488883   0.003247\n",
       "5  {'subsample': 0.7}   -0.488163   0.001617\n",
       "6  {'subsample': 0.8}   -0.486725   0.002786\n",
       "7  {'subsample': 1.0}   -0.491016   0.003719"
      ]
     },
     "execution_count": 73,
     "metadata": {},
     "output_type": "execute_result"
    }
   ],
   "source": [
    "# Mean score for all the paramters tested\n",
    "pd.DataFrame({\"params\": result.cv_results_['params'], \"mean_score\": result.cv_results_['mean_test_score'],\n",
    "             \"std_score\": result.cv_results_['std_test_score']})"
   ]
  },
  {
   "cell_type": "code",
   "execution_count": 74,
   "metadata": {},
   "outputs": [
    {
     "data": {
      "image/png": "[encoded data removed]",
      "text/plain": [
       "<Figure size 432x288 with 1 Axes>"
      ]
     },
     "metadata": {
      "needs_background": "light"
     },
     "output_type": "display_data"
    }
   ],
   "source": [
    "plt.errorbar(subsample, result.cv_results_['mean_test_score'], yerr = result.cv_results_['std_test_score'])\n",
    "plt.xlabel(\"Row Subsample\")\n",
    "plt.ylabel(\"Log Loss\")\n",
    "plt.show()"
   ]
  },
  {
   "cell_type": "code",
   "execution_count": 75,
   "metadata": {},
   "outputs": [
    {
     "name": "stdout",
     "output_type": "stream",
     "text": [
      "Fitting 4 folds for each of 8 candidates, totalling 32 fits\n"
     ]
    },
    {
     "name": "stderr",
     "output_type": "stream",
     "text": [
      "[Parallel(n_jobs=-1)]: Using backend LokyBackend with 8 concurrent workers.\n",
      "[Parallel(n_jobs=-1)]: Done  32 out of  32 | elapsed: 20.3min finished\n"
     ]
    }
   ],
   "source": [
    "# Grid Search for Column Subsample\n",
    "model = xg.XGBClassifier()\n",
    "colsample_bytree = [0.2, 0.3, 0.4, 0.5, 0.6, 0.7, 0.8, 1.0]\n",
    "param_grid = dict(colsample_bytree = colsample_bytree)\n",
    "kfold = StratifiedKFold(n_splits = 4, shuffle = True, random_state = 7)\n",
    "grid_search = GridSearchCV(model, param_grid, scoring = \"neg_log_loss\", n_jobs = -1, cv = kfold, verbose = 1)\n",
    "result = grid_search.fit(X, label_encoder_y)"
   ]
  },
  {
   "cell_type": "code",
   "execution_count": 76,
   "metadata": {},
   "outputs": [
    {
     "name": "stdout",
     "output_type": "stream",
     "text": [
      "Best paramter is {'colsample_bytree': 0.8} \n",
      "Best score is -0.490274\n"
     ]
    }
   ],
   "source": [
    "print(\"Best paramter is %s \" % result.best_params_)\n",
    "print(\"Best score is %f\" % result.best_score_)"
   ]
  },
  {
   "cell_type": "code",
   "execution_count": 77,
   "metadata": {},
   "outputs": [
    {
     "data": {
      "text/html": [
       "<div>\n",
       "<style scoped>\n",
       "    .dataframe tbody tr th:only-of-type {\n",
       "        vertical-align: middle;\n",
       "    }\n",
       "\n",
       "    .dataframe tbody tr th {\n",
       "        vertical-align: top;\n",
       "    }\n",
       "\n",
       "    .dataframe thead th {\n",
       "        text-align: right;\n",
       "    }\n",
       "</style>\n",
       "<table border=\"1\" class=\"dataframe\">\n",
       "  <thead>\n",
       "    <tr style=\"text-align: right;\">\n",
       "      <th></th>\n",
       "      <th>params</th>\n",
       "      <th>mean_score</th>\n",
       "      <th>std_score</th>\n",
       "    </tr>\n",
       "  </thead>\n",
       "  <tbody>\n",
       "    <tr>\n",
       "      <th>0</th>\n",
       "      <td>{'colsample_bytree': 0.2}</td>\n",
       "      <td>-0.507673</td>\n",
       "      <td>0.003572</td>\n",
       "    </tr>\n",
       "    <tr>\n",
       "      <th>1</th>\n",
       "      <td>{'colsample_bytree': 0.3}</td>\n",
       "      <td>-0.499703</td>\n",
       "      <td>0.005067</td>\n",
       "    </tr>\n",
       "    <tr>\n",
       "      <th>2</th>\n",
       "      <td>{'colsample_bytree': 0.4}</td>\n",
       "      <td>-0.495703</td>\n",
       "      <td>0.003724</td>\n",
       "    </tr>\n",
       "    <tr>\n",
       "      <th>3</th>\n",
       "      <td>{'colsample_bytree': 0.5}</td>\n",
       "      <td>-0.494027</td>\n",
       "      <td>0.004867</td>\n",
       "    </tr>\n",
       "    <tr>\n",
       "      <th>4</th>\n",
       "      <td>{'colsample_bytree': 0.6}</td>\n",
       "      <td>-0.491562</td>\n",
       "      <td>0.002760</td>\n",
       "    </tr>\n",
       "    <tr>\n",
       "      <th>5</th>\n",
       "      <td>{'colsample_bytree': 0.7}</td>\n",
       "      <td>-0.491005</td>\n",
       "      <td>0.002704</td>\n",
       "    </tr>\n",
       "    <tr>\n",
       "      <th>6</th>\n",
       "      <td>{'colsample_bytree': 0.8}</td>\n",
       "      <td>-0.490274</td>\n",
       "      <td>0.002970</td>\n",
       "    </tr>\n",
       "    <tr>\n",
       "      <th>7</th>\n",
       "      <td>{'colsample_bytree': 1.0}</td>\n",
       "      <td>-0.491016</td>\n",
       "      <td>0.003719</td>\n",
       "    </tr>\n",
       "  </tbody>\n",
       "</table>\n",
       "</div>"
      ],
      "text/plain": [
       "                      params  mean_score  std_score\n",
       "0  {'colsample_bytree': 0.2}   -0.507673   0.003572\n",
       "1  {'colsample_bytree': 0.3}   -0.499703   0.005067\n",
       "2  {'colsample_bytree': 0.4}   -0.495703   0.003724\n",
       "3  {'colsample_bytree': 0.5}   -0.494027   0.004867\n",
       "4  {'colsample_bytree': 0.6}   -0.491562   0.002760\n",
       "5  {'colsample_bytree': 0.7}   -0.491005   0.002704\n",
       "6  {'colsample_bytree': 0.8}   -0.490274   0.002970\n",
       "7  {'colsample_bytree': 1.0}   -0.491016   0.003719"
      ]
     },
     "execution_count": 77,
     "metadata": {},
     "output_type": "execute_result"
    }
   ],
   "source": [
    "# Mean score for all the paramters tested\n",
    "pd.DataFrame({\"params\": result.cv_results_['params'], \"mean_score\": result.cv_results_['mean_test_score'],\n",
    "             \"std_score\": result.cv_results_['std_test_score']})"
   ]
  },
  {
   "cell_type": "code",
   "execution_count": 78,
   "metadata": {},
   "outputs": [
    {
     "data": {
      "image/png": "[encoded data removed]",
      "text/plain": [
       "<Figure size 432x288 with 1 Axes>"
      ]
     },
     "metadata": {
      "needs_background": "light"
     },
     "output_type": "display_data"
    }
   ],
   "source": [
    "plt.errorbar(colsample_bytree, result.cv_results_['mean_test_score'], yerr = result.cv_results_['std_test_score'])\n",
    "plt.xlabel(\"Column Subsample\")\n",
    "plt.ylabel(\"Log Loss\")\n",
    "plt.show()"
   ]
  }
 ],
 "metadata": {
  "kernelspec": {
   "display_name": "Python 3",
   "language": "python",
   "name": "python3"
  },
  "language_info": {
   "codemirror_mode": {
    "name": "ipython",
    "version": 3
   },
   "file_extension": ".py",
   "mimetype": "text/x-python",
   "name": "python",
   "nbconvert_exporter": "python",
   "pygments_lexer": "ipython3",
   "version": "3.6.9"
  }
 },
 "nbformat": 4,
 "nbformat_minor": 4
}
