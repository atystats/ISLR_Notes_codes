{
 "cells": [
  {
   "cell_type": "markdown",
   "metadata": {},
   "source": [
    "# Chapter 7\n",
    "## Moving Beyond Linearity\n",
    "\n",
    "Relaxing the linearity assumption while still maintaining as much interpretibility as possible.\n",
    "\n",
    "1. __Polynomial Regression__ :- Extends the linear model by adding extra predictors, obtained by raising each of the original predictors to a power.\n",
    "\n",
    "\n",
    "2. __Step Functions__ :- Cut the range of a variable into K distinct regions in order to produce a qualitative variable. This has the effect of fitting a piecewise constant function.\n",
    "\n",
    "\n",
    "3. __Regression Splines__ :- Dividing a variable to K distinct regions. Within each region, a polynomial is fit to data. The polynomial join smoothly at region boundaries called knots. \n",
    "\n",
    "\n",
    "4. __Smoothing Splines__ :- They result from minimizing a RSS criterion subject to smoothness penalty.\n",
    "\n",
    "\n",
    "5. __Local Regression__ :- Similar to splines but the region are allowed to overlap.\n",
    "\n",
    "\n",
    "6. __Generalized Additive Models__ :- Extend the above method to deal with multiple predictors.\n",
    "\n",
    "### Polynomial Regression \n",
    "A polynomial regression model can be written as \n",
    "$$y_i = \\beta_0 + \\beta_1 x_{i} +  \\beta_2 x_{i}^{2} +....+ \\beta_d x_{i}^{d} + \\epsilon_i$$\n",
    "$\\epsilon_i$ = error term.\n",
    "\n",
    "large value of d means more flexible curve especially near the boundary of X. hence it is unusual to use d greater than 3 or 4. \n",
    "\n",
    "The coefficients can be estimated using least squares. Least squares returns varaince estimates for each fitted coefficients $\\hat \\beta_j$\n",
    "\n",
    "If $l_o$ is the point estimate = $(1,x_0,x_{0}^{2},..)$ and C is the covaraince matrix then pointwise standard error can be written as $l_{0}^{T}Cl_0$.\n",
    "This can be used to estimate the CI.\n"
   ]
  },
  {
   "cell_type": "code",
   "execution_count": null,
   "metadata": {},
   "outputs": [],
   "source": []
  }
 ],
 "metadata": {
  "kernelspec": {
   "display_name": "Python 3",
   "language": "python",
   "name": "python3"
  },
  "language_info": {
   "codemirror_mode": {
    "name": "ipython",
    "version": 3
   },
   "file_extension": ".py",
   "mimetype": "text/x-python",
   "name": "python",
   "nbconvert_exporter": "python",
   "pygments_lexer": "ipython3",
   "version": "3.6.8"
  }
 },
 "nbformat": 4,
 "nbformat_minor": 4
}
